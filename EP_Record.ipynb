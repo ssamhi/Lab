{
  "nbformat": 4,
  "nbformat_minor": 0,
  "metadata": {
    "colab": {
      "name": "EP Record",
      "provenance": [],
      "collapsed_sections": [],
      "authorship_tag": "ABX9TyO0kFuMHTrno3Sag2Hxg/lB",
      "include_colab_link": true
    },
    "kernelspec": {
      "name": "python3",
      "display_name": "Python 3"
    },
    "language_info": {
      "name": "python"
    }
  },
  "cells": [
    {
      "cell_type": "markdown",
      "metadata": {
        "id": "view-in-github",
        "colab_type": "text"
      },
      "source": [
        "<a href=\"https://colab.research.google.com/github/ssamhi/Lab/blob/main/EP_Record.ipynb\" target=\"_parent\"><img src=\"https://colab.research.google.com/assets/colab-badge.svg\" alt=\"Open In Colab\"/></a>"
      ]
    },
    {
      "cell_type": "markdown",
      "metadata": {
        "id": "38uDQNSB62i5"
      },
      "source": [
        "**BASICS**"
      ]
    },
    {
      "cell_type": "code",
      "metadata": {
        "colab": {
          "base_uri": "https://localhost:8080/"
        },
        "id": "O6lnw6_I0DTx",
        "outputId": "3b5f6ae1-f8dc-4ea1-84e7-42a5109630f4"
      },
      "source": [
        "name=input(\"enter the name : \")\n",
        "age=input(\"enter your age: \")\n",
        "print(\"I am \" +(name)+ \" and I am \" +(age)+ \" years old\")"
      ],
      "execution_count": null,
      "outputs": [
        {
          "output_type": "stream",
          "text": [
            "enter the name : Samhita\n",
            "enter your age: 19\n",
            "I am Samhita and I am 19 years old\n"
          ],
          "name": "stdout"
        }
      ]
    },
    {
      "cell_type": "code",
      "metadata": {
        "colab": {
          "base_uri": "https://localhost:8080/"
        },
        "id": "F08TmVO9GnEU",
        "outputId": "3aabb7b8-c436-4af9-8ff1-1a0306a17247"
      },
      "source": [
        "num1 = int(input('Enter First number: '))\n",
        "num2 = int(input('Enter Second number '))\n",
        "add = num1 + num2\n",
        "dif = num1 - num2\n",
        "mul = num1 * num2\n",
        "div = num1 / num2\n",
        "print('Sum of ',num1 ,'and' ,num2 ,'is :',add)\n",
        "print('Difference of ',num1 ,'and' ,num2 ,'is :',dif)\n",
        "print('Product of' ,num1 ,'and' ,num2 ,'is :',mul)\n",
        "print('Division of ',num1 ,'and' ,num2 ,'is :',div)"
      ],
      "execution_count": null,
      "outputs": [
        {
          "output_type": "stream",
          "text": [
            "Enter First number: 100000\n",
            "Enter Second number 1298000\n",
            "Sum of  100000 and 1298000 is : 1398000\n",
            "Difference of  100000 and 1298000 is : -1198000\n",
            "Product of 100000 and 1298000 is : 129800000000\n",
            "Division of  100000 and 1298000 is : 0.07704160246533127\n"
          ],
          "name": "stdout"
        }
      ]
    },
    {
      "cell_type": "code",
      "metadata": {
        "colab": {
          "base_uri": "https://localhost:8080/"
        },
        "id": "KWTlJhp6IAwa",
        "outputId": "a1449bbf-dff0-4678-863a-2f37215fc246"
      },
      "source": [
        "salary = eval(input(\"Enter your salary:\"))\n",
        "print(\"\\nmale workers salary with bonus\")\n",
        "print(\"Yours salary(+Bonus) = \",salary + (salary)*5/100)\n",
        "print(\"\\nfemale workers salary with bonus\")\n",
        "print(\"Yours salary(+Bonus) = \",salary + (salary)*10/100)"
      ],
      "execution_count": null,
      "outputs": [
        {
          "output_type": "stream",
          "text": [
            "Enter your salary:25000\n",
            "\n",
            "male workers salary with bonus\n",
            "Yours salary(+Bonus) =  26250.0\n",
            "\n",
            "female workers salary with bonus\n",
            "Yours salary(+Bonus) =  27500.0\n"
          ],
          "name": "stdout"
        }
      ]
    },
    {
      "cell_type": "code",
      "metadata": {
        "colab": {
          "base_uri": "https://localhost:8080/"
        },
        "id": "HYqV2_4CNRl4",
        "outputId": "d209af09-f54a-4dbb-8dac-25911e0dc119"
      },
      "source": [
        "def personal_details():\n",
        "    gender, salary = \"Female\", \"50000\"\n",
        "    print(\"gender: {}\\nsalary: {}\".format(gender, salary))\n",
        "    salary = eval(input(\"Enter your salary:\"))\n",
        "    print(\"\\nfemale workers salary with bonus\")\n",
        "    print(\"Yours salary(+Bonus) = \",salary + (salary)*10/100)\n",
        "   \n",
        "\n",
        "personal_details()\n",
        "\n"
      ],
      "execution_count": null,
      "outputs": [
        {
          "output_type": "stream",
          "text": [
            "gender: Female\n",
            "salary: 50000\n",
            "Enter your salary:50000\n",
            "\n",
            "female workers salary with bonus\n",
            "Yours salary(+Bonus) =  55000.0\n"
          ],
          "name": "stdout"
        }
      ]
    },
    {
      "cell_type": "code",
      "metadata": {
        "colab": {
          "base_uri": "https://localhost:8080/"
        },
        "id": "S8qs2jZGV4yL",
        "outputId": "437a81a0-da27-42ba-e235-330aca67a352"
      },
      "source": [
        "String ='ASTRING'\n",
        "s1 = slice(3)\n",
        "s2 = slice(1, 5, 2) \n",
        "s3 = slice(-1, -12, -2)\n",
        "  \n",
        "print(\"String slicing\") \n",
        "print(String[s1]) \n",
        "print(String[s2]) \n",
        "print(String[s3])"
      ],
      "execution_count": null,
      "outputs": [
        {
          "output_type": "stream",
          "text": [
            "String slicing\n",
            "AST\n",
            "SR\n",
            "GITA\n"
          ],
          "name": "stdout"
        }
      ]
    },
    {
      "cell_type": "code",
      "metadata": {
        "colab": {
          "base_uri": "https://localhost:8080/"
        },
        "id": "7U5HRLdEWdF5",
        "outputId": "b82bfbe4-8867-4735-de39-0e15a90a91a7"
      },
      "source": [
        "while(1):\n",
        "    name=input(\"Enter your name,phone number: \")\n",
        "    if name.isspace()==True:\n",
        "        print(\"Invalid Name and phone number!\")\n",
        "        break\n",
        "    else:\n",
        "        pan_no=input(\"Enter your PAN number: \")\n",
        "        if pan_no.isalnum()==False:\n",
        "            print(\"Invalid Pan Card Number!\")\n",
        "            break\n",
        "    print(\"Please check, \"+name+\", Your PAN Card Number is : \"+pan_no)\n",
        "    break"
      ],
      "execution_count": null,
      "outputs": [
        {
          "output_type": "stream",
          "text": [
            "Enter your name,phone number: Vau 9898237809\n",
            "Enter your PAN number: JFG1087YTE\n",
            "Please check, Vau 9898237809, Your PAN Card Number is : JFG1087YTE\n"
          ],
          "name": "stdout"
        }
      ]
    },
    {
      "cell_type": "code",
      "metadata": {
        "colab": {
          "base_uri": "https://localhost:8080/"
        },
        "id": "178HLQlogmR8",
        "outputId": "df07f6f8-1b31-4b6d-aae3-a4ad13768efe"
      },
      "source": [
        "def find_longest_word(words_list):\n",
        "word_len = []\n",
        "for n in words_list:\n",
        "word_len.append((len(n), n))\n",
        "word_len.sort()\n",
        "return word_len[-1][0], word_len[-1][1]\n",
        "result = find_longest_word([\"PHP\", \"Exercises\", \"Backend\"])\n",
        "print(\"\\nLongest word: \",result[1])\n",
        "print(\"Length of the longest word: \",result[0])\n",
        "\n"
      ],
      "execution_count": null,
      "outputs": [
        {
          "output_type": "stream",
          "text": [
            "\n",
            "Longest word:  Exercises\n",
            "Length of the longest word:  9\n"
          ],
          "name": "stdout"
        }
      ]
    },
    {
      "cell_type": "code",
      "metadata": {
        "colab": {
          "base_uri": "https://localhost:8080/"
        },
        "id": "namu9FuwzTP2",
        "outputId": "ddefc7da-5b37-4189-d05c-56cf47aa48a4"
      },
      "source": [
        "a=10\n",
        "b=5\n",
        "print(a+b)"
      ],
      "execution_count": null,
      "outputs": [
        {
          "output_type": "stream",
          "text": [
            "15\n"
          ],
          "name": "stdout"
        }
      ]
    },
    {
      "cell_type": "code",
      "metadata": {
        "colab": {
          "base_uri": "https://localhost:8080/"
        },
        "id": "U1rs1FJVTXEK",
        "outputId": "4a813312-43db-4081-96b3-90ead3039df2"
      },
      "source": [
        "x = 1    # int\n",
        "y = 2.8  # float\n",
        "z = 1j   # complex\n",
        "\n",
        "#convert from int to float:\n",
        "a = float(x)\n",
        "\n",
        "#convert from float to int:\n",
        "b = int(y)\n",
        "\n",
        "#convert from int to complex:\n",
        "c = complex(x)\n",
        "\n",
        "print(a)\n",
        "print(b)\n",
        "print(c)\n",
        "\n",
        "print(type(a))\n",
        "print(type(b))\n",
        "print(type(c))"
      ],
      "execution_count": null,
      "outputs": [
        {
          "output_type": "stream",
          "text": [
            "1.0\n",
            "2\n",
            "(1+0j)\n",
            "<class 'float'>\n",
            "<class 'int'>\n",
            "<class 'complex'>\n"
          ],
          "name": "stdout"
        }
      ]
    },
    {
      "cell_type": "code",
      "metadata": {
        "colab": {
          "base_uri": "https://localhost:8080/"
        },
        "id": "dpyEW9vETpag",
        "outputId": "32c49380-cfa0-41eb-aafb-36fa7950cfb1"
      },
      "source": [
        "#duplicate\n",
        "thistuple = (\"apple\", \"banana\", \"cherry\", \"apple\", \"cherry\")\n",
        "print(thistuple)\n",
        "#length\n",
        "thistuple = (\"apple\", \"banana\", \"cherry\")\n",
        "print(len(thistuple))\n",
        "\n",
        "thistuple = (\"apple\",)\n",
        "print(type(thistuple))\n",
        "\n",
        "#NOT a tuple\n",
        "thistuple = (\"apple\")\n",
        "print(type(thistuple))\n",
        "\n",
        "thistuple = (\"apple\", \"banana\", \"cherry\")\n",
        "if \"apple\" in thistuple:\n",
        "  print(\"Yes, 'apple' is in the fruits tuple\")"
      ],
      "execution_count": null,
      "outputs": [
        {
          "output_type": "stream",
          "text": [
            "('apple', 'banana', 'cherry', 'apple', 'cherry')\n",
            "3\n",
            "<class 'tuple'>\n",
            "<class 'str'>\n",
            "Yes, 'apple' is in the fruits tuple\n"
          ],
          "name": "stdout"
        }
      ]
    },
    {
      "cell_type": "code",
      "metadata": {
        "colab": {
          "base_uri": "https://localhost:8080/"
        },
        "id": "q-n47e_4UbYW",
        "outputId": "61623956-1a64-4cf2-cd86-d7df650964fc"
      },
      "source": [
        "import numpy as np\n",
        "\n",
        "arr = np.array([1, 2, 3, 4, 5])\n",
        "\n",
        "print(arr)\n",
        "\n",
        "print(type(arr))"
      ],
      "execution_count": null,
      "outputs": [
        {
          "output_type": "stream",
          "text": [
            "[1 2 3 4 5]\n",
            "<class 'numpy.ndarray'>\n"
          ],
          "name": "stdout"
        }
      ]
    },
    {
      "cell_type": "code",
      "metadata": {
        "id": "k90HtpZGUpNP"
      },
      "source": [
        "class Person:\n",
        "  def __init__(self, name, age):\n",
        "    self.name = name\n",
        "    self.age = age\n",
        "\n",
        "p1 = Person(\"John\", 36)\n",
        "\n",
        "print(p1.name)\n",
        "print(p1.age)"
      ],
      "execution_count": null,
      "outputs": []
    },
    {
      "cell_type": "code",
      "metadata": {
        "colab": {
          "base_uri": "https://localhost:8080/"
        },
        "id": "4a-KpZ8FUtNX",
        "outputId": "f02384ab-685b-481a-9640-d806cb5438d1"
      },
      "source": [
        "class Person:\n",
        "  def __init__(self, name, age):\n",
        "    self.name = name\n",
        "    self.age = age\n",
        "\n",
        "  def myfunc(self):\n",
        "    print(\"Hello my name is \" + self.name)\n",
        "\n",
        "p1 = Person(\"John\", 36)\n",
        "p1.myfunc()"
      ],
      "execution_count": null,
      "outputs": [
        {
          "output_type": "stream",
          "text": [
            "Hello my name is John\n"
          ],
          "name": "stdout"
        }
      ]
    },
    {
      "cell_type": "code",
      "metadata": {
        "colab": {
          "base_uri": "https://localhost:8080/"
        },
        "id": "pPH3pGbb0L-K",
        "outputId": "23e66902-a1f8-4595-8caa-7d578ec0c43d"
      },
      "source": [
        "a=int(input(\"enter num\"))\n",
        "b=int(input(\"enter num\"))\n",
        "c=a+b\n",
        "print(\"sum is\",c)"
      ],
      "execution_count": null,
      "outputs": [
        {
          "output_type": "stream",
          "text": [
            "enter num12\n",
            "enter num12\n",
            "sum is 24\n"
          ],
          "name": "stdout"
        }
      ]
    },
    {
      "cell_type": "code",
      "metadata": {
        "colab": {
          "base_uri": "https://localhost:8080/"
        },
        "id": "punwpN-H4dQE",
        "outputId": "23e66902-a1f8-4595-8caa-7d578ec0c43d"
      },
      "source": [
        "a=int(input(\"enter num\"))\n",
        "b=int(input(\"enter num\"))\n",
        "c=a+b\n",
        "print(\"sum is\",c)"
      ],
      "execution_count": null,
      "outputs": [
        {
          "output_type": "stream",
          "text": [
            "enter num12\n",
            "enter num12\n",
            "sum is 24\n"
          ],
          "name": "stdout"
        }
      ]
    },
    {
      "cell_type": "code",
      "metadata": {
        "colab": {
          "base_uri": "https://localhost:8080/"
        },
        "id": "lFFu_iqQ0SuD",
        "outputId": "86156d38-0cc9-42da-d2e1-58e4d87ef653"
      },
      "source": [
        "a=200\n",
        "print(a**(1/4))"
      ],
      "execution_count": null,
      "outputs": [
        {
          "output_type": "stream",
          "text": [
            "3.7606030930863934\n"
          ],
          "name": "stdout"
        }
      ]
    },
    {
      "cell_type": "code",
      "metadata": {
        "colab": {
          "base_uri": "https://localhost:8080/"
        },
        "id": "h1si1YI40XFQ",
        "outputId": "bfa3c77b-e093-475c-8924-893be32ac3c7"
      },
      "source": [
        "x=7\n",
        "y=498\n",
        "z='a'\n",
        "k=\"a\"\n",
        "r=\"'dd'\"\n",
        "e=5\n",
        "print(x)\n",
        "print(y)\n",
        "print(z)\n",
        "print(k)\n",
        "print(r)\n",
        "print(e)\n",
        "print(z+r)"
      ],
      "execution_count": null,
      "outputs": [
        {
          "output_type": "stream",
          "text": [
            "7\n",
            "498\n",
            "a\n",
            "a\n",
            "'dd'\n",
            "5\n",
            "a'dd'\n"
          ],
          "name": "stdout"
        }
      ]
    },
    {
      "cell_type": "code",
      "metadata": {
        "colab": {
          "base_uri": "https://localhost:8080/"
        },
        "id": "GXCuke8a0jZy",
        "outputId": "d31c7bc5-c17e-43b3-d2c7-99fbeafac1de"
      },
      "source": [
        "str=\"Vidya jyothi institute of technology\"\n",
        "print(str[-7: ])"
      ],
      "execution_count": null,
      "outputs": [
        {
          "output_type": "stream",
          "text": [
            "hnology\n"
          ],
          "name": "stdout"
        }
      ]
    },
    {
      "cell_type": "code",
      "metadata": {
        "colab": {
          "base_uri": "https://localhost:8080/"
        },
        "id": "OCgSsIzl0ki7",
        "outputId": "c048d0a6-c0ed-4ea0-9809-0f018e18f8ed"
      },
      "source": [
        "x= \"python\" == \"python\"\n",
        "print(x)\n",
        "y=3>2\n",
        "print(y)\n",
        "z= 2!=2\n",
        "print(z)"
      ],
      "execution_count": null,
      "outputs": [
        {
          "output_type": "stream",
          "text": [
            "True\n",
            "True\n",
            "False\n"
          ],
          "name": "stdout"
        }
      ]
    },
    {
      "cell_type": "code",
      "metadata": {
        "colab": {
          "base_uri": "https://localhost:8080/"
        },
        "id": "ltnRNE-U1Mua",
        "outputId": "8298a52f-1387-4e20-a797-99dfcd9c45bb"
      },
      "source": [
        "s=\"ALL THE BEST\"\n",
        "'A' not in s"
      ],
      "execution_count": null,
      "outputs": [
        {
          "output_type": "execute_result",
          "data": {
            "text/plain": [
              "False"
            ]
          },
          "metadata": {
            "tags": []
          },
          "execution_count": 26
        }
      ]
    },
    {
      "cell_type": "code",
      "metadata": {
        "colab": {
          "base_uri": "https://localhost:8080/"
        },
        "id": "06GLdIhv1O7j",
        "outputId": "0f5edf02-4b9f-4b64-c003-b6b880e2e86d"
      },
      "source": [
        "a=float(input(\"enter value\"))\n",
        "if a==0:\n",
        " print(\"it is zero\")\n",
        "elif a>0:\n",
        " print(\"positive\")\n",
        "else:\n",
        " print(\"negative\")"
      ],
      "execution_count": null,
      "outputs": [
        {
          "output_type": "stream",
          "text": [
            "enter value10\n",
            "positive\n"
          ],
          "name": "stdout"
        }
      ]
    },
    {
      "cell_type": "code",
      "metadata": {
        "colab": {
          "base_uri": "https://localhost:8080/"
        },
        "id": "vLI-x8JK1apL",
        "outputId": "69ac9eaa-7d05-4a59-f28b-1cb3edec84f0"
      },
      "source": [
        "a=float(input(\"enter a\"))\n",
        "b=float(input(\"enter b\"))\n",
        "c=float(input(\"enter c\"))\n",
        "if a>b and a>c:\n",
        "    print(\"a is greater\")\n",
        "elif b>a and b>c:\n",
        "    print(\"b is greater\")\n",
        "else:\n",
        "    print(\"c is greater\")"
      ],
      "execution_count": null,
      "outputs": [
        {
          "output_type": "stream",
          "text": [
            "enter a2\n",
            "enter b8\n",
            "enter c9\n",
            "c is greater\n"
          ],
          "name": "stdout"
        }
      ]
    },
    {
      "cell_type": "code",
      "metadata": {
        "colab": {
          "base_uri": "https://localhost:8080/"
        },
        "id": "bpczcezk1e0L",
        "outputId": "ee313c08-601f-4b46-8f3c-2f3affeffc1d"
      },
      "source": [
        "num = int(input(\"Enter a number: \"))\n",
        "flag = False\n",
        "if num > 1:\n",
        "    for i in range(2, num):\n",
        "        if (num % i) == 0:\n",
        "            flag = True\n",
        "            break\n",
        "if flag:\n",
        "    print(num, \"is not a prime number\")\n",
        "else:\n",
        "    print(num, \"is a prime number\")"
      ],
      "execution_count": null,
      "outputs": [
        {
          "output_type": "stream",
          "text": [
            "Enter a number: 26\n",
            "26 is not a prime number\n"
          ],
          "name": "stdout"
        }
      ]
    },
    {
      "cell_type": "code",
      "metadata": {
        "colab": {
          "base_uri": "https://localhost:8080/"
        },
        "id": "QGvu2Swm1jY9",
        "outputId": "f4d88ddc-22f5-4ec6-93d2-6eee6ab7fb12"
      },
      "source": [
        "def add(x, y):\n",
        "    return x + y\n",
        "def subtract(x, y):\n",
        "    return x - y\n",
        "def multiply(x, y):\n",
        "    return x * y\n",
        "def divide(x,y):\n",
        "    return x / y\n",
        "\n",
        "\n",
        "print(\"Select operation.\")\n",
        "print(\"1.Add\")\n",
        "print(\"2.Subtract\")\n",
        "print(\"3.Multiply\")\n",
        "print(\"4.Divide\")\n",
        "while True:\n",
        "    choice = input(\"Enter choice(1/2/3/4): \")\n",
        "    if choice in ('1', '2', '3', '4'):\n",
        "        num1 = float(input(\"Enter first number: \"))\n",
        "        num2 = float(input(\"Enter second number: \"))\n",
        "\n",
        "        if choice == '1':\n",
        "            print(num1, \"+\", num2, \"=\", add(num1, num2))\n",
        "\n",
        "        elif choice == '2':\n",
        "            print(num1, \"-\", num2, \"=\", subtract(num1, num2))\n",
        "\n",
        "        elif choice == '3':\n",
        "            print(num1, \"*\", num2, \"=\", multiply(num1, num2))\n",
        "\n",
        "        elif choice == '4':\n",
        "            print(num1, \"/\", num2, \"=\", divide(num1, num2))\n",
        "        break\n",
        "    else:\n",
        "        print(\"Invalid Input\")"
      ],
      "execution_count": null,
      "outputs": [
        {
          "output_type": "stream",
          "text": [
            "Select operation.\n",
            "1.Add\n",
            "2.Subtract\n",
            "3.Multiply\n",
            "4.Divide\n",
            "Enter choice(1/2/3/4): 4\n",
            "Enter first number: 34\n",
            "Enter second number: 6\n",
            "34.0 / 6.0 = 5.666666666666667\n"
          ],
          "name": "stdout"
        }
      ]
    },
    {
      "cell_type": "code",
      "metadata": {
        "colab": {
          "base_uri": "https://localhost:8080/"
        },
        "id": "mrlH2AEv1wfO",
        "outputId": "a6923e90-96e2-4b87-913c-20af6ba87ea5"
      },
      "source": [
        "a=int(input(\"enter a num\"))\n",
        "fact=1\n",
        "if a<0:\n",
        "    print(\"cant be found\")\n",
        "elif a==0:\n",
        "    print(\"fact is 1\")\n",
        "else:\n",
        "    for i in range(1,a+1):\n",
        "     fact=fact*i\n",
        "    print(\"fact is\",fact)"
      ],
      "execution_count": null,
      "outputs": [
        {
          "output_type": "stream",
          "text": [
            "enter a num6\n",
            "fact is 720\n"
          ],
          "name": "stdout"
        }
      ]
    },
    {
      "cell_type": "code",
      "metadata": {
        "colab": {
          "base_uri": "https://localhost:8080/"
        },
        "id": "yeXy7vTK158s",
        "outputId": "7b95c4a0-f6c8-4369-f81b-5a221a1455f8"
      },
      "source": [
        "String1 = 'Welcome to the todays World'\n",
        "print(\"String with the use of Single Quotes: \")\n",
        "print(String1)\n",
        "\n",
        "\n",
        "String1 = \"I'm a Geek\"\n",
        "print(\"\\nString with the use of Double Quotes: \")\n",
        "print(String1)\n",
        "\n",
        "\n",
        "String1 = '''I'm a Geek and I live in a world of \"Geeks\"'''\n",
        "print(\"\\nString with the use of Triple Quotes: \")\n",
        "print(String1)\n",
        "\n",
        "\n",
        "String1 = '''Geeks\n",
        "\t\t\tFor\n",
        "\t\t\tLife'''\n",
        "print(\"\\nCreating a multiline String: \")\n",
        "print(String1)"
      ],
      "execution_count": null,
      "outputs": [
        {
          "output_type": "stream",
          "text": [
            "String with the use of Single Quotes: \n",
            "Welcome to the todays World\n",
            "\n",
            "String with the use of Double Quotes: \n",
            "I'm a Geek\n",
            "\n",
            "String with the use of Triple Quotes: \n",
            "I'm a Geek and I live in a world of \"Geeks\"\n",
            "\n",
            "Creating a multiline String: \n",
            "Geeks\n",
            "\t\t\tFor\n",
            "\t\t\tLife\n"
          ],
          "name": "stdout"
        }
      ]
    },
    {
      "cell_type": "code",
      "metadata": {
        "colab": {
          "base_uri": "https://localhost:8080/"
        },
        "id": "VX1aqyg52FI6",
        "outputId": "9c18a336-89fb-4240-9dca-1756b1359c45"
      },
      "source": [
        "s=\"Sam\"\n",
        "t=\"Hi\"\n",
        "print(s.isupper())\n",
        "print(s.islower())\n",
        "print(s.isspace())\n",
        "print(s.istitle())\n",
        "print(s.join(s))"
      ],
      "execution_count": null,
      "outputs": [
        {
          "output_type": "stream",
          "text": [
            "False\n",
            "False\n",
            "False\n",
            "True\n",
            "SSamaSamm\n"
          ],
          "name": "stdout"
        }
      ]
    },
    {
      "cell_type": "code",
      "metadata": {
        "colab": {
          "base_uri": "https://localhost:8080/"
        },
        "id": "m7XsbwuI2OW1",
        "outputId": "34c5fe3c-6da5-4b94-e9a5-37b294de6104"
      },
      "source": [
        "my_list=[10,20,30,'goodmorning',400003435]\n",
        "print(my_list)"
      ],
      "execution_count": null,
      "outputs": [
        {
          "output_type": "stream",
          "text": [
            "[10, 20, 30, 'goodmorning', 400003435]\n"
          ],
          "name": "stdout"
        }
      ]
    },
    {
      "cell_type": "code",
      "metadata": {
        "colab": {
          "base_uri": "https://localhost:8080/"
        },
        "id": "MqPlXEuW2T_d",
        "outputId": "c2062693-f479-42ac-96e8-cf8b31ef659c"
      },
      "source": [
        "List = []\n",
        "print(\"Blank List: \")\n",
        "print(List)\n",
        "\n",
        "# Creating a List of numbers\n",
        "List = [10, 20, 14]\n",
        "print(\"\\nList of numbers: \")\n",
        "print(List)\n",
        "\n",
        "List = [\"poojitha\", \"shravani\", \"nihitha\"]\n",
        "print(\"\\nList Items: \")\n",
        "print(List[0])\n",
        "print(List[2])\n",
        "\n",
        "List = [['samhita', 'For'] , ['sam']]\n",
        "print(\"\\nMulti-Dimensional List: \")\n",
        "print(List)"
      ],
      "execution_count": null,
      "outputs": [
        {
          "output_type": "stream",
          "text": [
            "Blank List: \n",
            "[]\n",
            "\n",
            "List of numbers: \n",
            "[10, 20, 14]\n",
            "\n",
            "List Items: \n",
            "poojitha\n",
            "nihitha\n",
            "\n",
            "Multi-Dimensional List: \n",
            "[['samhita', 'For'], ['sam']]\n"
          ],
          "name": "stdout"
        }
      ]
    },
    {
      "cell_type": "markdown",
      "metadata": {
        "id": "siZEkm7kRADY"
      },
      "source": [
        "**Exercise - 1**"
      ]
    },
    {
      "cell_type": "markdown",
      "metadata": {
        "id": "45CWPRmIRCtY"
      },
      "source": [
        "**Installation and Environment setup of python**"
      ]
    },
    {
      "cell_type": "markdown",
      "metadata": {
        "id": "dnbzR4MkRU40"
      },
      "source": [
        "**Write a program to demonstrate the use of basic Data Types**"
      ]
    },
    {
      "cell_type": "code",
      "metadata": {
        "id": "7QzOY60dRalg",
        "colab": {
          "base_uri": "https://localhost:8080/"
        },
        "outputId": "2e3e0843-9f37-484a-98ed-1ee9e6f67a85"
      },
      "source": [
        "# numeric value\n",
        "a = 98\n",
        "print(\"Type of a: \", type(a))\n",
        "b = 76\n",
        "print(\"\\nType of b: \", type(b))\n",
        "c = 23\n",
        "print(\"\\nType of c: \", type(c))\n",
        "print(\".......................................................\")\n",
        "#String \n",
        "String1 = 'Welcome to VJIT'\n",
        "print(\"String with the use of Single Quotes: \")\n",
        "print(String1)\n",
        "   \n",
        "String1 = \"I'm a VJITian\"\n",
        "print(\"\\nString with the use of Double Quotes: \")\n",
        "print(String1)\n",
        "print(type(String1))\n",
        "  \n",
        "String1 = '''I'm a VJITian and I live in a world of \"AI\"'''\n",
        "print(\"\\nString with the use of Triple Quotes: \")\n",
        "print(String1)\n",
        "print(type(String1))\n",
        "\n",
        "String1 = '''AI\n",
        "            For\n",
        "            Life'''\n",
        "print(\"\\nCreating a multiline String: \")\n",
        "print(String1)\n",
        "print(\".......................................................\")\n",
        "# characters of String\n",
        "String1 = \"VJIT\"\n",
        "print(\"Initial String: \")\n",
        "print(String1)\n",
        "print(\"\\nFirst character of String is: \")\n",
        "print(String1[0])\n",
        "print(\"\\nLast character of String is: \")\n",
        "print(String1[-1])\n",
        "print(\".......................................................\")\n",
        "# List\n",
        "List = []\n",
        "print(\"Initial blank List: \")\n",
        "print(List)\n",
        "List = ['Samhita']\n",
        "print(\"\\nList with the use of String: \")\n",
        "print(List)\n",
        "List = [\"Iam\", \"a\", \"Vjitian\"]\n",
        "print(\"\\nList containing multiple values: \")\n",
        "print(List[0])\n",
        "print(List[2])\n",
        "List = [['Iam', 'a'], ['Vjtian']]\n",
        "print(\"\\nMulti-Dimensional List: \")\n",
        "print(List)\n",
        "print(\".......................................................\")\n",
        "# accessing of element from list\n",
        "List = [\"Sun\", \"For\", \"Life\"]\n",
        "print(\"Accessing element from the list\")\n",
        "print(List[0])\n",
        "print(List[2])\n",
        "print(\"Accessing element using negative indexing\")\n",
        "print(List[-1])\n",
        "print(List[-3])\n",
        "print(\".......................................................\")\n",
        "#tuple\n",
        "Tuple1 = ()\n",
        "print(\"Initial empty Tuple: \")\n",
        "print (Tuple1)\n",
        "Tuple1 = ('Python', 'Code')\n",
        "print(\"\\nTuple with the use of String: \")\n",
        "print(Tuple1)\n",
        "list1 = [1, 2, 4, 5, 6]\n",
        "print(\"\\nTuple using List: \")\n",
        "print(tuple(list1))\n",
        "Tuple1 = tuple('Python')\n",
        "print(\"\\nTuple with the use of function: \")\n",
        "print(Tuple1)\n",
        "Tuple1 = (0, 1, 2, 3)\n",
        "Tuple2 = ('python', 'Code')\n",
        "Tuple3 = (Tuple1, Tuple2)\n",
        "print(\"\\nTuple with nested tuples: \")\n",
        "print(Tuple3)\n",
        "print(\".......................................................\")\n",
        "# boolean type\n",
        "print(type(True))\n",
        "print(type(False))\n",
        "print(type(True))\n",
        "print(\".......................................................\")\n",
        "# Set in Python\n",
        "set1 = set()\n",
        "print(\"Initial blank Set: \")\n",
        "print(set1)\n",
        "set1 = set(\"Samhita\")\n",
        "print(\"\\nSet with the use of String: \")\n",
        "print(set1)\n",
        "set1 = set([\"Code\", \"For\", \"Life\"])\n",
        "print(\"\\nSet with the use of List: \")\n",
        "print(set1)\n",
        "set1 = set([1, 2, 'Code', 4, 'For', 6, 'Life'])\n",
        "print(\"\\nSet with the use of Mixed Values\")\n",
        "print(set1)\n",
        "print(\".......................................................\")\n",
        "# Dictionary\n",
        "Dict = {}\n",
        "print(\"Empty Dictionary: \")\n",
        "print(Dict)\n",
        "Dict = {1: 'Code', 2: 'For', 3: 'Life'}\n",
        "print(\"\\nDictionary with the use of Integer Keys: \")\n",
        "print(Dict)\n",
        "Dict = {'Name': 'Code', 1: [1, 2, 3, 4]}\n",
        "print(\"\\nDictionary with the use of Mixed Keys: \")\n",
        "print(Dict)\n",
        "Dict = dict({1: 'Code', 2: 'For', 3:'Life'})\n",
        "print(\"\\nDictionary with the use of dict(): \")\n",
        "print(Dict)\n",
        "Dict = dict([(1, 'Code'), (2, 'For')])\n",
        "print(\"\\nDictionary with each item as a pair: \")\n",
        "print(Dict)\n",
        "print(\".......................................................\")"
      ],
      "execution_count": null,
      "outputs": [
        {
          "output_type": "stream",
          "text": [
            "Type of a:  <class 'int'>\n",
            "\n",
            "Type of b:  <class 'int'>\n",
            "\n",
            "Type of c:  <class 'int'>\n",
            ".......................................................\n",
            "String with the use of Single Quotes: \n",
            "Welcome to VJIT\n",
            "\n",
            "String with the use of Double Quotes: \n",
            "I'm a VJITian\n",
            "<class 'str'>\n",
            "\n",
            "String with the use of Triple Quotes: \n",
            "I'm a VJITian and I live in a world of \"AI\"\n",
            "<class 'str'>\n",
            "\n",
            "Creating a multiline String: \n",
            "AI\n",
            "            For\n",
            "            Life\n",
            ".......................................................\n",
            "Initial String: \n",
            "VJIT\n",
            "\n",
            "First character of String is: \n",
            "V\n",
            "\n",
            "Last character of String is: \n",
            "T\n",
            ".......................................................\n",
            "Initial blank List: \n",
            "[]\n",
            "\n",
            "List with the use of String: \n",
            "['Samhita']\n",
            "\n",
            "List containing multiple values: \n",
            "Iam\n",
            "Vjitian\n",
            "\n",
            "Multi-Dimensional List: \n",
            "[['Iam', 'a'], ['Vjtian']]\n",
            ".......................................................\n",
            "Accessing element from the list\n",
            "Sun\n",
            "Life\n",
            "Accessing element using negative indexing\n",
            "Life\n",
            "Sun\n",
            ".......................................................\n",
            "Initial empty Tuple: \n",
            "()\n",
            "\n",
            "Tuple with the use of String: \n",
            "('Python', 'Code')\n",
            "\n",
            "Tuple using List: \n",
            "(1, 2, 4, 5, 6)\n",
            "\n",
            "Tuple with the use of function: \n",
            "('P', 'y', 't', 'h', 'o', 'n')\n",
            "\n",
            "Tuple with nested tuples: \n",
            "((0, 1, 2, 3), ('python', 'Code'))\n",
            ".......................................................\n",
            "<class 'bool'>\n",
            "<class 'bool'>\n",
            "<class 'bool'>\n",
            ".......................................................\n",
            "Initial blank Set: \n",
            "set()\n",
            "\n",
            "Set with the use of String: \n",
            "{'h', 't', 'S', 'a', 'm', 'i'}\n",
            "\n",
            "Set with the use of List: \n",
            "{'Life', 'Code', 'For'}\n",
            "\n",
            "Set with the use of Mixed Values\n",
            "{1, 2, 'Life', 4, 'Code', 6, 'For'}\n",
            ".......................................................\n",
            "Empty Dictionary: \n",
            "{}\n",
            "\n",
            "Dictionary with the use of Integer Keys: \n",
            "{1: 'Code', 2: 'For', 3: 'Life'}\n",
            "\n",
            "Dictionary with the use of Mixed Keys: \n",
            "{'Name': 'Code', 1: [1, 2, 3, 4]}\n",
            "\n",
            "Dictionary with the use of dict(): \n",
            "{1: 'Code', 2: 'For', 3: 'Life'}\n",
            "\n",
            "Dictionary with each item as a pair: \n",
            "{1: 'Code', 2: 'For'}\n",
            ".......................................................\n"
          ],
          "name": "stdout"
        }
      ]
    },
    {
      "cell_type": "markdown",
      "metadata": {
        "id": "H614PJAiwuFe"
      },
      "source": [
        "**Write a program to demonstrate the Operators and Expressions**"
      ]
    },
    {
      "cell_type": "code",
      "metadata": {
        "id": "WRh8ZuRmwxgg",
        "colab": {
          "base_uri": "https://localhost:8080/"
        },
        "outputId": "be2b4c5f-dda1-46ec-a33e-9b75f562473b"
      },
      "source": [
        "# Arithmetic Operator\n",
        "a = 9897\n",
        "b = 42356\n",
        "add = a + b\n",
        "sub = a - b\n",
        "mul = a * b\n",
        "div1 = a / b\n",
        "div2 = a // b\n",
        "mod = a % b\n",
        "p = a ** b\n",
        "print(add)\n",
        "print(sub)\n",
        "print(mul)\n",
        "print(div1)\n",
        "print(div2)\n",
        "print(mod)\n",
        "print(p)\n",
        "print(\".......................................................\")\n",
        "# Relational Operators\n",
        "a = 983\n",
        "b = 3234\n",
        "print(a > b)\n",
        "print(a < b)\n",
        "print(a == b)\n",
        "print(a != b)\n",
        "print(a >= b)\n",
        "print(a <= b)\n",
        "print(\".......................................................\")\n",
        "# Logical Operator\n",
        "a = True\n",
        "b = False\n",
        "print(a and b)\n",
        "print(a or b)\n",
        "print(not a)\n",
        "print(\".......................................................\")\n",
        "# Bitwise operators\n",
        "a = 103\n",
        "b = 54\n",
        "print(a & b)\n",
        "print(a | b)\n",
        "print(~a)\n",
        "print(a ^ b)\n",
        "print(a >> 2)\n",
        "print(a << 2)\n",
        "print(\".......................................................\")\n",
        "# Examples of Identity operators\n",
        "a1 = 3\n",
        "b1 = 3\n",
        "a2 = 'VIT'\n",
        "b2 = 'VJIT'\n",
        "a3 = [1,2,3]\n",
        "b3 = [1,2,3]\n",
        "print(a1 is not b1)\n",
        "print(a2 is b2)\n",
        "print(a3 is b3)\n",
        "print(\".......................................................\")"
      ],
      "execution_count": null,
      "outputs": [
        {
          "output_type": "stream",
          "text": [
            "52253\n",
            "-32459\n",
            "419197332\n",
            "0.233662291056757\n",
            "0\n",
            "9897\n",
            "3541784594701842831419473562696148296494671361831777085512745998105345068794644639398818802797274222031281580683410429497410022594510696089516271712570742218757825273781764205178083140582593036452207860437914276646553125956764553376125740684033043423840822156617440082890413913839600320364806515846377807657264223655517556095035001328458352691720087610152234470545958371659744072663389390582926895530958348072461624169757052994254502274289254853223128513091699103647979831417744753176031799915026751984356276440024329253411096435834684365316131355476305867578750173123283073898842425858307318757457630657508456095736474676430528720331397819454519802626956950553297217589644359327712300868936474510641706266702766290100627588424845232193811676464939578668348132594530603050729019769736546815987142925757270032864080050624481392315869768784477744699865413482593339895698968462595135102044741034070913893064928917964827016111129545726173249665478435710685803635414740356193127413829542286123153556975813571535259458248485158051318851545006717913972334532141778613213578082950772532953278048417715087235305671943631630660965361376885115340829324795830098621198508584295147246113233550084203268281016294609202583709357020351304376306066836128932639790621669218494232035152950683401183154212177722928833588066281983546109294912264996269842218676287620234956837807515124423239935229830766331875953099700467320868276507475713547406558737530191978517241848566846451066598429779195336127936996380239949513151631058524062809429405537447332839207124171782483650174304815039462548950697522808845804340784553402175408808180635097275815153359121761135801567570831713779019131203115581343566927202405878698478441454624220298639797968283729703752015537743481204255541705148457677811082945119781649845190789282487617419684095175844521302727653679318807112358900662719929766966045008086937078198214790970684521965377115156988025722160003177613048231036361912267372808654093086803884683881319449117252043735697685505039408260472839700164786839983333297970919983654701922641832866105715947591070749885922669322064494617074759780051363170559382978558374746545120776851326252285713156149051796504901414729484880876340770515150789535996084393906552532083812050760595717918140126261813518352752560697655849838846001252808471277648752036293562050693633548427211404365610232341412354167507030119774631661793670137903497931531669459958309820924582344638122970086195965032957363596162870987779537142375026719288785461958216928284920514863495797237383239789844284267947725488266995350399497885569950003514160538325728681387549909432661995220967867752807045878230892104596710397745740498396147013332229968918571337325634996078631114297871716994057494516450058320121388025574930340046558220194739224940130857490475602372332789714261238422600117347611762536109324912653569217485630546660712775940947703830575403603999085384287611798238075774156896006042977954748382200461175782159114176265921810801513827915200037247675822271086706701684308593316914879770180095061836649655118109611247007204960177037634127673274451627667858487262975795624494287914685854522078206430298401654876938758813286280786869742990270346679236295753231145232942815844675542439599231952097387384962296187277989791993232766879077624507597317982992150391354790393283522926993656902088339355064701171929037340810347282157747902735404623287328617243269617543312396582148840664616741450617758399469391236800879319910340387041923003860608910530716983731138733290028278010814828128756627489476298840439724673395000753431742673018548289786613427765309696765806753414125099378260139979999444071112103149399841095660493033457479682290609586610641088865766843411344048053456214036663175686818321581423350902257418474665316962372035531499515960893566060296489991397698335235065502261450506976943290054495179210358686733864548129647886229406715280260905789783647329245731990387237281819167418395795549274142492033266988169520979556726995958106678724183523139109868522637084529764216569656091515040531788227314051298237945316147875405601003183626364143343249826470646199810699876130578509029325969086339137832377987901682957508784814798607643307365620866261883004325332235855028984834224152159375209573451438944364005761598414862719278749139931432196148485947023700668135908981370794541354399644608202019332456927161070845101580413132823754351897828916897552784266022633306461939935399629222434245336897357762708925344499883252326676869976070557843160497880343781937446946892009609098001203526548112754346681912141293805854285263656138823500250138396036519505408053905500950347876813919016510572450142959473430326375210574991871799004453234333017230171133964421475482237235407241885475023592429188907790428513660768454418281313169348086045238316725616018279652774879326605640145636268973618238684733106328306259714432588191681043974814041584909378487476345358551396085957947864305424579876954370372083408027604628320648450013923491664894401267900092731913941467426309430126295612728986259433726499339139288358660581263678789531004940048701167439489537521014082752292107351029776039702903958226984785872550185671425122034612544547373489169084950149045261430462953077386235603867612528177254291626690950759667153881798159619145826980183569696273894303302573918983290987889398192735834612601710574600106517135781806756200116971286071335928227132661996406365077591224601150417632368023064266121743933010542103395967259119556623213830013143469406065247370640241840747045230496457284096599275853987259979499772556356456405934604077446017686996291217070711178555583810658552984976539878873792794882524793813658614583503517723095234684518873113091422932828560539709237859551039786800793379497977365081459881815490404626246622001086592217743767767915059392168242307581148891956681399207847089500047364457644514428864722863142742524094045215623206186161629325497123575849545439814681165114203385698293099857424607480772222017251822367109144229464260698911146293560436921607443481659275644864511195630379290823341606951729343909995279677224039392940605973670228638789250479216329844272640956800294476444221348580921347943622970734680516953950818691157223601430070291200791645955150856216035924771123382428429403752594557321344477869660825389918628444421458301611734786070256146489185063664989832799559384816819012526955293688334269600724521246925292516372417368086704521503689978286802386054137177157245283411949754834332962885706624551090981537469240419112515676832310879685183853564602924350348090128036959578806008491722127637226527622929890428415023418513966830354753250018920204419065123843670492481245644564248061506312242563431419840190242835938690590594013989798230920929563204219052465368389768509607379880561577933638654018908217796496217593465446379069502881180374618656425418015335251794096739055450314996173575660547666648923734025205826985019947238325693264037497450485495868026556779534514032646481099847375718319308858612095122186836659683908545489589624276390580825326413983787647249156331253260532851692467280084243331192019843107703091612063895272193008150988085382165881086886253018804799287042577277814455608907730370996457222249645356024914979209718937423734293037451829704233420496366382203393113856580417270374183129201408504731616858442072976292440576485430613539735248696762865735048393756852807106746311541291785107162826039649425078158564648146935355108818132076120533238876943352875454984004274708848435793070747493071272127381189640798260781501572264674251893903038353712076841239433751880666223884737686670784150559607824585512416727047117990415346440326737788515689656450055861660110111952804636278872480518998140975512866343336066539324014520512708691897842808790922119111094711303445959414469660644954306707634942925080437796050647348747739427480876795980074984450828979864125922839856158855272176113244125026995284732097809234325908802446584956046713511357766759853107765893491650925492535774589513843252260731700771752463234478174422359107266037841476984977390531720023167699675853103354863992101832237055219383494355995022484484540986390224976635341395637973016070983575832002460525263278092864605755519907548152510997128756382426921061413467713870979026972591114230807553555713515436187392215230810642252410693577818789754223268879479553431594682210158113446326071375396879762707447663759841018576243954595842215650361554919761519557929244300116074350112857328133549531407956298340551961362178676877723649618627539734081480334893504452860704902799615789478925397332854131496812189935888483209322921327316254523015062486341320806633318449184342179432361136136144489281535713534390637699643388107589655319810144358474473611097290342215960840271766856678662848428415164186921764135934244227411121524594543792662554159546554546616396509327179190301925453572429751520565416473715540305851914610732015508577198900048792735433976807045546162342475360048150234006591405115377863939372961644995631266656393683185420677054452955572933505626654259592085074632739231958568601985482739063583962828643139271638598810786386064306789163484625799426274061762873663737013394863420832309539646256842445318239990085671169017016106105773233897619573029289516187088964413282121510288276614529565960300178439370082236431184231828788833957995095227561705985560317845946536500958165459662185435652427450510048269542911412929446689227006386280932821372180518302395281248564704732676608574615269224837668954494840336259280814809373991047568790877648631305688031174794320568769423804795376933603370775570206486115158414634591366305506573841993241491086969422390539817910753759702148196882279917669812621765715357415561539791185487057746038648477327325131433597405373662856577451354274226089818916664335424180169582538648392031270406298454987232177947865861011768198543585766706635826551613991601496600836524077975348541062488998664607428875276431358091207998728625597924947395002861686944472204250320645481386642362827065633785159695540270235425638028275161855800483145732287097390295652689730505288185386297755824924371108739631951126453978138582118584506614544131887882719453123391390599069163404595702148600874555924656872482832219807037879270143667982418467777298464632896179763323925482892042416429575967898652095599052631896446596501384053178620723362762165600899530110436925408442647826695783506911747446993723972651704271231777146652552818604285613863909937406724502547790429564552565281691826050826742648260766643897837916267420641440335744006024066632590912854303979596579295566176134811477017427067469983591315796547843707381259062018944862193045092735515433757489829557863461211427351450661419440346927141799370293314434550060427038403701383717350307694345985478137790542098222183630162782523154545336503090258333017334741818513242153917687146535874702546554743600664439390222650808270246430143320493732656942548290911722930432964707329690859468360829170623445777725913185177954318544779529640758808412453079090816579222705512300518384627481158340783651889333823974588946106513872569924894986073264380659546824471836699237377412529079718715587355431941470111009146490618464342827959485811617405284896915851084119162525179638025299388527883298403551719432694286218761558104989549830499780669077123412810267257039073315312442083951026089002280223266754798384104807225754841368552188763521144608829359472275099918064527918546263049460479606271499280606634352396424576045038210179016885641227409734187041370123484494123674782764535273789748992694329761800979210118931745745317469087850547814375464484595146335137821503951971932729312121941282570485658175040092918042270645706026924061819933159164160330679680158822927122456310277683010560422674831562878701962557333684032968280421417701780806621582636455848056257917911876224535202928533417580472825292964982571047613356214554168368979360766040528792757313309944527050041266093858440773068338393991045922821508078530464736114252012027035384715320466104217501859088785153604940610178223893410289848446704952204173536119026495237672235521493855223369388809319473515398432880095531351170391756908797836946944262261368315016013462325553249314708687312814209292484256432670519669940574829169428011634476138469107898166303736408530991453110706496984814623688890356406508706676111185263961265387602274716008923864361288790644636359939078599375016550463345432369219770857534566298152518527035277597584475378269438010882335416060850747451816454962530371460899625310969131074790576826398508118172166721056045823688389112651907112954760802792458733838115614560854181639924270386072298794192401528206905792207492988606671875451572099758121659988865780988917161720022832594291982106512639540078959440000403213815628167004005958094683142865294142195928026354821632277498168220334038955316112075727973175422683436306164605103648565298138638643103166146850293339052279939629562162876241307363170854420190264986666781012144184523099859828131779565826240327965536746379339478780784663166801849044078956534812970482961812106499955226262953979513297065198197857175862411106361630442124690028638406323447555594748911684814154178819547603013743577166520847358337010713114764962644948288392970984354326634976241423684573210679150641637645962445487786801563861755484839878213722278463984087225264317142702165639606557694196887065653219211581108802356787743814110551235909936318402746694267141955304630934941261084120047056924693363776438026297065212697702414242675376069589529999528409906733599107645818987608984020332518147344525711496261982915445152742961997106233464300957240563909337107082006940264356748339001324604801715695802080189867646674191177611783914505111878886470676492853393289157077035747452942023669918787135837509236171626543354297756205413426034505153515068195088913268384700970710642354513784909429488374456019615298638879206881992463616472746424534767207393115659675005138861793115450828015535701502569004424730303114780956157084311919839113239259964784862991588515653400644498159027020955481255586046394938143724571939721526610525208343912113021576313837809341056343225239337769171870765942196808368810660692798854825250326766985709165618272723779824529452016255482973964861704113377079434512174251120016099592871528526450725346599708201529424766181638421684820664090125411218636428165024351335209479266063954415680187208702967363694213388027930128370655549233508866245866992703113405704419501145633004527946698835319605464625209421284439337177907639827499523867916479561140677780811810346862758946701176835548083922472099917722425935332380167429710230518303225208676639555559390282091236717700926842408367393487051326519623473989116344968466394436130891081630915741576505153779509078212689473366822609361094881886240524639529452380401867328981370345710288559404699361264600318881837323833550355532389613470286923924741589171213627981668494349941903027056890197993841561699968794381978009833151923430954729084295407358593501889922152358444242382487360556246062831202490387139039370957815930658801927030207886604955458503366242619634611497788505941991856872274202890830405408493424959324413055420799454339827554962660400423760676465123829512348234719172708504892760212966082420110033258583681947810158316793121788353441093654886643093662472232156708632406815233007365371501679965038693887220580212182399018338824059528863949725078516655965081804002834940943949485616248432444336258621676580168361001520094926016629131913951075255842050561486950559750035871864197735020410733646903299059420406449045969857633517094323979992061403261115635445876076853241939695425484461681335305375819679298399787625383174284643842809178863329918946664120330462529541940725823580252495582644277726507712339987579869619238418427472805620787330555489848321346603928241056023366160957340896352248468243300535163736003917541055301818019322003556355647597306165913753848944803640923733535956680641224200880843659817165050050414597297125500204833053588019985395843181478294243280260925627493805198137634985877868451296353764915120573503634705526425264035914503569891878604780718342341186399369295752298805059509852330341569177925160973981657530062556380866843502334866545687228865539775761442670789828854728713346011630209230949373637738004026189651491737830195944064662440108036862388257765791566140671896459232508660545765185650679068278276441472479805738902259202625987562708811585766135998613895141475860031509858082627806015032798726187880638612721408998060480155536062795057363036707389899731711828861690330343737562525247054880905897278105244202642529844587775754225129601481289657990553116959263696298852357353085670608259821665596608393456092146974585445440607410255206693379023832727404597190120226907371378871965602890505592513375594391098220432843941959613273985092234287554871539570099022598537755162717759395584366839258901794503350010808981870895159244785070101356174612584377036788929183148165535179913477151055856101641078509359733814497890991551944496819754331362727917148081648718975172390650549727013220703926615734921759322949150747536761986376356133287596479467883641254768820252902665312414557265723666368416420863583107169388269234626053541568006460218090211981921016501632275516871642680876405350347495015862738084989665752952518262328851869139446153326802298221788383226394148530324381424516312337655500751809823343003053661552652262225283749682732369228939085429712450621572539085303827271018642310430166986268190371908495417504423412086327971088678646365354023537585392393627497670267074681083581752992168901126694836576508054758771664083157187199297669921049077778699800486647628104450191976750879819959104121149125244141681399807732670439376230219047890445717164289734935604542612293388631332735261039679096575481232684304578705784577904000683425363755538536837686134953287414313667583105891735987753293252026374751327170691390440730810819111358361967311301247032585400432370496774094659462409836245154643751503006590553515034433916958560764012184340925180365182742982544878701430672297241480161810510459924078477722408118035365866663173524835026319031658363169960134560233001983060665204319397190832175157144732059519168067402403727398168650978875210950694807077489389857236835043215494651808063984862744782073354897591342429752327581684131696135683805391644053479741371288818940955852881416662873001528349573737438287676053603738715839687494968691795161975255256619467516338095670685764322306220966965038118852952471594728716381963262611266434362308940240575453577763150958022517465524344061688755277467122585794784123071575678306515952847411209853335001363472369753767458468475717126682196594725046551952119964293522350841011554719817728489887244846741455878238564124734298222032251329481900929397923412054049675727207521730530604464880596627890531335010500597984074541942870431294472866005030002502694114231173605347760302916999844742639952347169217395404225776642896189272126266391309307837968722719732906153967405784367431587131087488525568606301929927396876687414947457431839242154603722658536517436728185379782817563435221089066677354841467933743362585022630714441715904175208631471576818989097760970844158496634765266145347019837315330394699726453157531463313517333967193382718301987974270015004268873331960414740551570650429359569261174130596436929338119329018025029237703827699891055066460950828867780546027049505361250744145498505583236581877071105847183428873493731993479421415674441533596387103001023338090685196960419308520701741825489533093679814479524745521236001232556372124810283972372181996474220722629514617705744507288519939066180674578218892452300941559786411341826159669298356532838000747016037639155061134102128824306405091564864480787594260463472460077379853206917907064798496056245057866507250822349281065068219485488679648310507750230326219226054813283662401465420208564492628764722342518157086291880254058345776469336851286627113786503304512436539852198409145327253882416004598654850172830045150308496657695181645666228353522094673971136446681734089855225638962977118604883903904538634712650344246443115068365430112040135997622537116097562789311889951712906394171203988100298857258672540342446308958739450342807680772104451349201355010754213114229551707537988378178747029744418196575062208553500798909704104508852803189919300738040531946370294002713379977166498485136002546726861691389110124985786769013051512445272179600264562841939315104962760897559262965006710380320886832990859951087393609764561724263820171605603597697142515142968762026206051751752539004737377815656450432007883054243640188766631412297697073537135906164090303467129323791638766544342010246258507960868786465702535321900605968778762510729666123131088896171451511942704679345370726201741369794475276197624403635054212433582321810090608733814164248326212347735863644802259791152924743130974882576829193542762296357392182834424643122976942056098687749786942755143963221470459083036535894964921778902069350624342533231828325387841709320995593190162995271108738244245494811294893754462655053371994157810470262015517589710086948142459072173379026959824344243051545888123247882725551713328931727580069103147427336536718102581205335798788557830897567396663911469253073676361038904541045871396055549788158947544243000398478560058993534120811649936172885149599799176720847325134857210400816053088472689454061205778649090772653838606282750964337808076723180479473852252319675948204643296290139666980307616817742618774421380652851931244059247564077704175131151359431837164377702040138040175607927098348772494770064419006154245551293451043611941534939069158100905174164388313656484651292762152111263787103797008702982810565872811347827154831220998739798285462115135622975871778792832091630672985974966537092906717367205798993181326357526060440116507220270814417534432413353978551092220474784249276527341061249827869152088769224754690528344027279062916630291406557542459866773101777994754988968876922776055598312469507959328248774827518833575162907148643700362354638625011544035181011817610697410293376542461181730363521713960207387718798524342274961059231845355889883676327336953508858994572954543642775150720010374859135729425656382754214120111722262585613321363555348209124948435037253714813229791415315458420747584214161733908489841448009425128739641620085197696577651150201626088737592026650213919865020754386738552339997944912160403633839381176305732352866379196751506989308205635806627410128968448197736931288750006651319940275628903178828584988245933109385701936424772026263068510277742740608528528217948927846066634673593500519126211140212956652397625620799840784169231580108572918342732298951889518315819138074515978595962517045169582307171589648273299407479700774916647593902651264027246241313895010481229740514420505044926883260946265746009821149695905017552725304225793560501590131748357653787942433261574594205705911793902186143425540265517477310745463941836406690735039452583077980568383137690306747285670562797988632198964477231656616305216120776277704505042468484244358997554285448650850905966665904047957610478030167491036070517756498270063759646661348447712417707396546018644745536349556542128387952234228203435278732407686143642060448209483070049531343140124018192157109985622363201239501281689741222246720911387249415835257879695198943593046451081910379932291412217274356221533186647939186931467461362732042387743122506103770633092728940869325603900802234712321033518427364460918412354280863203256138622958076839025214170965823213311599764192290584918512563098486468128728564843797694195028241351124724068272953260280442022444904183707003917132153429509375000644429432527485157407273086944991736015973076087956903141289461091655473559918774130767246194122869491905513314745994595605479518903058164179294561972213836648437000315815861643849323218905828270471806339206931789131698636616045737845098598003357901393256653483547953760854631957549572362471374960431999959221154044444342369349266352004719797348101556173059042577609763865722102603391525672482354784444410112506879760954197767725353879253937690708367865071977051875742767202487893390149140425666548756742850289320033441385158871093655525928952905289538198509425532385098836513289229722500626542642847771271088955615858446401501422847035396764659085372375487555669184822729849330685573393128929333549624262850402889227918013877716295474241448974821568456613106876610910759258389059424359212222153952192727240693101297206740666330735864545416254791732890353379366989734098935443564127088585368968375425042134977788839889190801066595683299498748088654978711790283241562191037862151995774182336352941926143699079031765005409389895441169229331453831666708024079636076228900643484705096464124436090689065293772382883791478839996311371446751845478289310283591620082557464929218606146659979871941736295855692302499876167273146148965896175498524039390374513063308394776202420664242198134821202108935163955262971115934897855324333880827024339524677183267723146557115808016295197676460364307195559632453854735747976198000732536176549595922796461301095051272066070052040979178208457634149004823623228767883638565537996912962442334203456623976939061943982710826686559890808222628318606137392705709097708544196242666141870119434549142625790544563963349909581103071492962621294130433606997766487044423434545269392375461815742710866248003940637470189450319376305231952442457273575552051727395441961262006899638657888312270452419432253451980860178497880664140588374256696160711130859598511352756831339668709508544874814768531280970756537850239064754727554197007017360817705046160826447964291303338912670025198295125613844239850522448609135090933331537986460522453907970538322164922796913695813421448377472287057101487749547540082185504491283051942119571927941978771661364344755792616474734212043042394237086907657394770513354834890901265271709572263792129249545259773401181195325014980107834351714089588645828339229892030553003762034796783263889601682624894775298063372410590003808328514636208061486065701559679691172095262713922587240181188743005386765604057146863367306017740530428505219486867635325121773843631020651731124299752714358943856696199690393902114316540387501597059225896412690712331708403925060359252810449248671502892390360020769485702457264395406829509697975709303103258496276682751269404021489966631893758327889973926909009384306363850331260877289569193119919568578105544992783229317297254954630222548782981821452311038416676273070252680427250120109049403978362370048408684293609394524265304756828624801264496653702968195713319713284924184233387187150287284904188559382680318888202965624306444728756231655597528159199343143170557705199851497978493472979745736163072299124743360746517150426102256155969475831146663974421682268798549367758159758071898582734920177960490974610601137573245421808071341779117987100493890384547396352252157133944088108225376101620043150341798559574704747822635671175895434043795264614998738980931778787871665508198959449431245880331548871580072574797597308741529144428003813496062069296889916270884259454817114813241803948306841328269826699276417308863607351538972872050862219623488288433868233352719780442435246835615317641678890235460602721562182121085451157023079501937914547933776239729902498028018777340538052516470860852157488892625700900547416800886427969163949573958990727453100599617712149571277255154639581876727317699116754233970615698567117365658662949102628504932376330505903810951867798815567861339293738415206307469520839199638771989189626632296033189807996650185476256554534531341126500977436607961497167895366884526225494104275582909272658877771243864242666396032769546812068097426645412876589596593793517285016229484121424715163894884223251757033978760571221764191180562669337239031142243473361055091576244937348903692646723765069835887977578410681185307656059358249521954955117086045799016637067554153820371157427819988632020293944781258464286865575005763856420339336442290758443673223423160810968421050346072365210119399183751073474784393851357129681699735155016406739188579832620725071023076755552195047794296526795273578904571961258718162292518623638294555513000909950932493668131032686861042016693751224512266202227333285287840356867972341146776480858171953964900211202515687892719465586408541830962323901860267952875725959512152664461419099985488114242540135141430042650448809594174052081095184989744177009659651360873662911499416522468506163283568562173840008462776298504914309426162138814157508495678423519380861007834864930303186258988425356890629637656873585655421130174406468474388686499445637291806357200047218708925769956262874875235156784993365470093216083686440333977457427161757289030285787394927590296487988006372884130467863464313920049888197004764947436497960580653966281224355785609151971191803755059049411760859912953223215209938709002370738650783738506684361643967082735855707694143405337784321065516316787484735531041707836754433338459646192335098275120350317843166758264809045080288171173215434829649182255749744529246682959883057938676644873575154194146038432762655353303172419211616436280803003112434202341497105552214506145586595373317048913344615176013148028520112819731949838565102083599606480035589470894417091810569251432214787625777171765384481451654592310603104083531931901847521106878828299209920560505732198861765809809154815156699042655089657807337740964831446437536039753917175934344324218649076162501274969009455177588239603318553543266112752348488558431887460297116804602068532696399897269139268383523954131611154916825473607503457184401782483190976893654378405855225476192609777200672870205846149425481145627965596761853523157173571586831831280844613798310148154453748760814289569781160665872491741569421722050180902051611690962176973835323196400415059572770516310874229165124019421993395323943745892756784907809252365678815058604374602255043784711596917468823768994609902023140690213744811389014775021423723793318634835729970663135871666484174440088287099206953645252702545658141654871429598968449286548607892058902289729973709107625663672889836328932054777202480594852612317985857982792053188375128422110529579524613402425246191858409942863147622170148016492904560200745372349143588486013201028282261086309686407553459868702606531559997254835768657849141046212371912797807699916980460342570381184410781920787733806980767222072305722549560903139836451244157585162144170299202125887823053398171000343844378968180573291666414616325411952387292464922031010822200497151316137871333245832988838782467698120671614962653264714046644257573578874035123522144455111186368546937853373248633451298391861437691037520327168908843889525984809791896604694677020814400521485695246359022849414531574258319820723351218507033438974304608242240763188769579129728687853681163537270922857241133768782773560865761298528238949917404362823267888283495995205057082749992511642359869536328846108175987826189987242953027009370058891650320773756464731624114927088629904224479216408871917527454018323149041940309963204106764833305770368657661402169214393692614449146202059833855257860449885156936617690226102666707592377283815519963257854807212651721454724923243537368670512356716618875207809737173835631692021860341179920838855738487270346731789836799983619399916226030094509677750855998461411755228145467127166641212899452237682374195569364974997483355115053176522146461793956262018492842290719399290863311152197716276358571349875929125548982631284147117144841492803046600844468609281883655886182995566309393127591856521931694327544511136069912639523331170557211917884822554579581992191890417740436251586372301399046022149658521347844597490497531998051735778698175313046796907493477217760439620611367503357127697749805035967266684082535705441107788959161515911033906726690971321296871807151929627481452345281669192746367039599461061076231710400040169976162748073359623192439482845351363288425765843558298649131263464453974692438154723330098410290211235308107183629126610077036761264574931145302506842778797174271476882106752876464721269410518676473780721968133255090551467523905632841023538763213851031367663146345785229311316276801216556989525934895377356163676901206810104963331308098161288586058723163675435930678938922020206323575993362781681751568422784242451099735719970246277710773175709717354258442388221790366759884397785769528585310310355402561915349157641384261971540529460615597075118818980107805288415910923631659878981911702454339704779334113429264613013390542619888505338545357945754479248542574662367426263950280605029514005892339060430809353130335404923585667902488021953692080751791796050201635919195525497312172707345093566345946956999920946438268521947293955344756976116652765780229767981510723799545809067541321910457309311444913010588748838897307144416043613062308298726189504588302950397776981379911927518913207584385981116526168104730342908971852368575037144172230636097207984410242583145290508626311012178491685245428990959965453737002019684216181569102751395185018814308908310337947525558230665716942306041870403010264641798355306891727829523577043351497780686742494147697863467095197186134937021531996814784100515906640017838907720885300322650092427723374771962588350522069610317217766266074046966946389919412576459050745628643297250290513506871453795735275577053297704433520701024907763409318103290181819655154961465563173032184234180804868509697425341892086466798842602768804307548167403246867339195389525416868869428399829736761927365128399869044567026233458749572739117709673604915489164450850224052867914818077260179022765178790806013657969046798245356511442280062210778956391440356680773954185509408767343914838187087100489380955652172021965025315422821875134255971398213725648425512062238483124392025412420271319101916538908221733075682953468464132154333114373403613342421934965016149682780639215998067839694407474448841717121455460470434428690152236399824875960329491971000605171142742374593446637433409114472914225725664506619003958836797905409539572820288093464344278855951973912836684590823712513883260824404946957423431006325547175342946890394736255522822515960327182943213299701543644930433413444292260182446741806553599322964450414139400298778500609192587105045369385686032474878821237190392629407095151657712788898130669052237239587657949737727661806917548975321993993001601152841453494209684503815373164017570810329568069855486515330875456898611941199345491168878328130968703127912714337356628896164335972791884739881235063902547953157965423160885588701643467303852030120623840252806471344341935141161031251744409385364169171133367862889995769572292330756316787911042714482293841597070479791540826203579747306849372264307128995022012938620397539393059348115018983542793350559424551799031936978939855103031044915970930160745449683945576761538677354020312123106643623811577709419334395488624147561361186579012277707164883210126118095765593388126041530942774905653307560696288928592786454035372537986831450883411652152841312388646740153448857149475662928760190615909359156360256807398486892555742506751421396984192113596409860399313655120270828474944344692218540734487474706195291119725994540029884236156344877460638519343803351413055607754160020501467552023083526922362249358255003652378545841122248510516826167862093722134839172136472194507465988171317704145730559837591009673678814885908424089898586709467491075022043866981796239646984101288117915579956219901589294969516570278979701753844775528279686151398198590189622363149008040184509424057890883901469646288496034369075993095098671537952348981406179658157568715157702346717986160418258534908289311488335878087171473765009076197271093562014354420688021105989135059466773663647162923391824658877193668441021337763114685081402714234597433481730673314168990836804128566645774075675072646239582528196067064019929592810542962756392494247172254398679043829321939573460800640557743904431379829928579023453882093360620356702194366003813125762444437753874929437265106886255593281449797504385216980531695831624714011992246839370058041264105143382700676869489197695376790837583253394004214397049780953267033869728538941244890314801013415752292706305243130439500329135529862178491138281510642890276822723616105754429436683069936731773040748655202821810373565709851070372113774316284030296346785156677507241034066771323633275721308900194026286796835621218283585652207162112997858283251958973802466925104594077124464829382057823127882040071884424493492315036543983235481992715170379842118302300858771681383865085103328523857454985966294326081324787854357683716355560548348485638749836899027610278203150108908503152628629547927538293857039319601405792330315070194364923071101128862201107883973629133310886627609871586823579831552973313582770096294513207718889950571389362563318157816029285206112520282053919810406112002455383983346676755599859133779568965351208505852752696138839098504633704655257301774052824816650158208300058253397650532154044744589702775592739080941975135533656151746747347900613573667627008541297915526383495265761878748230459170913030932083925208623456798586562761943981254199708100990746150049793613731237645429770652646041758480749238524543469054499420293431121937383723326758338499720563657517688800481448216809882278239744019293019519861362762464176491805910988228445332068300926921271140788597628318271289162724670541930814332121480113628758605343650445683096077140211291161316615544360916207832149190080803058868848967294267401388387202849827001217155078833129449487275075628677418160939296574250768876308364464087944332075957149916156580293693559276389177465973311157343976662156473500683027508178399313157614779094998079614258216789918422831061051425994169932890588780320487358639220293063616730031673492306110229277715255596566843531598636791295219861484630999365314634290503332546279419815428435400696983407551825731347746012899347612913916190131119629167933943167441003820332538443291781644764063532968482826275576353360533576613884206914052202501757363424614429060396385683415111587662169110758193364981898259047945438257387477331358050605008280976543362648588155739489881876917342988471837225572852843251972941456533658080078800942452421497118187988624338094913610721570762856988258732159191786026209234840513950136283667788447521852695927959289878855864036929761199425796278736704138788539541588015027185662404165725855587404121112762299889576299281248181009401545106848527965140015688118863003331623571422473594006434051786690630121959335435339286240540577359716746487801877542928001581599891129440588157387748566562301411030709778259957671197436602315823785757694142991682513128873346302131997092986153580680132835738983426587658044832874275947963526398266026256057810410044712289378822412770445074121786957530338606695525161807834705669925667442238961535272643131603549426729043370677123355752306583843967677064472230719309007117022161908780281495908057727143445718000794039964322584577375716304919001396130279218495880034876536206104339275816022970750020023443104733175188745388004571649608515360310693114705265990785853063640517582201779857553561317376304124596817900522683012309456000013310887836383861749300859831668938605432181658548711030701081755821932345767280191751707229888873683230526337681227484069131459076768246410924841938961426954608695476246610521331492884606793986180143059275684677530488587747329112331385309143961381294605368035655513744753413441545529476859748050802507242714391578289332406793996773558331034278897852733970415791105658846555993633516828208489961122227543227215805411757380083348031777506379752340513420936587638594543983446756708057462732757859863713052117035979028108445999579609803389178152867550061862582167095548449745402880924572590558532229221538137982996275334080687678644398003000770370365814260991545859634152503308676831854958001326135110082447027217998529480823524121065679635116900027737341524960755993501707708068658286394524841613456313022305757536439606858633048736548048386973802853848234092071347490716261224911938666400323323616162831832051836335565677347356607235686360874579424090283970357940977926242484402031592289129445494552866494716555947624584594842267219063602963302704996924615703228363470594442259570651779911308578242365078134222507603691822524793159628501018032519978367901988283675069719324448222689675724981905272959394339338843535491396566286275916087461519348899886476978311284199376332716149858480867114192829198653231461339086272844971624650412804104757722013839084694424390541684003205333169810036168776936907329330290790191904197741425249723483644665653936115811408838845579969933657093955983337440652982925614300426697282847632029277875372084601268009806230689445614265028075669656248334611016760770514426740766877608101015729150130985290296843887004645183135226597729894547806448201381630827809486640656002834584661542576091101926225992448848050898021112816377735077642202820116897818898050987289128895970398225940199805752943802239202087053909558523004432524598051569249569370291761213928330295181240212115265090921023869749592014545195373142967912874558720077007616991045324454972423712111013901972664315108270118998145903173974044299422557428477470273177738659227699001155464554688079255408968978001649847165203070171864221914075965741890498848963481864458191847189657985669555155302422526658918818335848260309852792998218100694687595406099441232019686760389179098226107811851422552287925272790621123260522974755639431886292666738568488934593981027056438972969526251590921117399864442754828744335399548164251862102962958731159089434174603164815437283302306043087634353728068877397479750593826550653024650484783430255530325870700710140418679294224316080441651168125926988333809510928272608177430067194790676002221282325313162802138143293387675451965903188168345024283648133868696826005943456012651401465234696755960983949805955117641479809013062332336471211026297936439264127466445478877606990415526929647364469607330887666979819819984409625172282699538279107356092559544716023504599484994040628713163244328322896494667255206350538011869774370277612155599141091115184326100561310883176977518389127720143514497099409639154095546654283095794351407733615627656369397871102245995192198350044530280062484737059483266643824341093674349029909085537764881703687235779478265401447918704159663542192801305474079150554545535376572085131571912998032555841290279848247591200935224917105451849357381449083627138247314792335769638901988233776642992900332592341235646611741591513549632751596384635917464204110633957236590127962739291117545002391832449977360227853894529196297611870893011365611262380351228592804873688384547432495954356497939219808742167977618017855495467432384806115168719043932286029137069722828150688994431625051517358078542376359117967489718328150065371083865784477264648377641665705485858187122984386310154252849302045203654234945245957984864874503144500692290800290177518482804194993426156503055564641642308377988260089857538538085184036097850602203201409960909373370883061910840544721520512697866146765268245910208540534233947518593144147502464079930061173799189149591769366046516237005620632965519150971489195610783895161706889970433275324168887889816519321506393364003156554265080797723423010578943853331688135754998259143352285810187921387208091166089642548939844464573746568648367734199527805882523975828560497659337992776458049702618571570541986556170572482322961520112620239581200705530614623402475090144218141039508640637840480585880274715851247603705199307121667958403828315661757331838604536593257213592297307873380987958019268023103231517414525729094788398183923204929451340483607573710663520412420030624611259126451026130781695946575868481941073417834354773499141487780383145243878795897839062302154857210658926715520112669432728432746741147358908964652148189630136220792479744095586989976030938807881110871147305312589968733839206946276266148274988160732944124914617166992916246913703771039315877831276371878402495836799271093198677244309833606547878227633501461636323013946887269855147744116717961972842027556112724420602760003437557787995381979582709438791391369314972525133987893427435372298385939983806039039189294701208667435510747696111176698251264880718983760794258661800543414331770803966572061347351069737206995438359414048229813088693965313864400673202882676925071064670511255809367943769154285456339595917815050128695683392131005677893174646861664414064064756313196409091209986437770598459103618332247216572373034196162418251065714439306478558976518368347350569798554500234209039545939212355528435194943596058305415053488281196282975520335541577286505077083300887041117265156945345605090181034453947758513619621358128730623412038284452123348903966469398011746507689721055918013504520360196931080741691837395410367518864274318872617405621558032006170593246824897725610434885115209366048223309721548781123545677564372569391122938972515801359092658304153587009300710452516155421367111357970753848418708376712451854488450302539010984587521266604381185371682240124812961973663027283404430763485210927861421001024190874696003630547848809603985460384739980610744875204747156030064157992426451263599359276240460200526148116503666929686616533450426068711156523177619843603614671525200979100553710026034305859464352098255420147408545552104514200523815694581689508907421216470472894669702097952401316944972939811049872259581423445972310479797148516152083269633363070497643426584555595737523601770078348581355748270165905214525904125423658173326062317617446304408091539222586389083318871046357506549596816743171664809222468402826006536162285881393566977555598019028622769312473621536304127615859306952025761191497833149507270398439312744195062476041695292747623578665531864863062307003556001784207769677344086184466729985547531905664875767927830203726030877410220565958367506548880187916955714592778766572351199773954842411920397930654853312974982397173610416147720962619224379325432123758408952632720671814922944410984258895924197034350770744198094892572080129014696265671178586901836095277116081287223264326438658448085660217604588548761316948375909148499474406767340763812929605993091038489107996378509617073187922372377379055127717173958253749261131149061390599520921165282683598359436392814058295107235703619916653497934291025723559438321443425549206023509350836586804465254984012293295639594710539085429941815940575596256763221469031542531115546896984763382631401799425250257351791670565923925536496014775949150030438150225985532982987267186070787226247628854418290606542521613475195558193179265067605746823786849307491915325254661707520372355998380219030821001335620922422239310147277712546136405008063559089154855035944024719143351455656799559357267681465336179231426566916801232266019976205295764450561495812791962817500923945248209921067328198629563763663723162652018858718046326749682869873799014588370007992452968189121415051869642113636213090574893240692547086168845899003399919002783577484187044390954645573421570225320934061184996287541256045335304178391775258232803549985456773568877740668442461519811545664521904059144412804631368247886838910108122644342569245394398881446362498029202639185670479285973546149492138936760059042142612776749183612634354880024019091510395115068832203020112887421859427279524224621495698976806066331749748222088712565190684966807374552114203873459691882616965676376630991681762411355598790149661138330076370921964693431924947289528661049035290534105896444026334886845491186066257361852655927380673677949508933557660142328155932201390896090996452262962539036948012837830795181204588045973862910723361453498781239725163946466597097808548649532366837257846567910475722945109711804946630620701527037342108587100705620812131956833731600896679838576127193368342380747540945434970637869817598998846160364567768321559168970226309681153695588228838124815326679290462968098164105327823845722825277332069807604004312835508512126046574315157903985126421905431868444174257516986726505188027836111654105338489827240239524612209098275511774062310024447430087043766943948966265776547083776829420234300541671010293734983369916165740677953079400919958210301616922924551571242811673443321513095467868414480264767775295707859906434013401144376985299765777765876467140847192211103100217442408492346039624106609466999447827792121470309310734164325940652961833133530285556326978080323045726319588884869192502535725432147684201152663514432892698025294962217591680930843485267349700162401928329093258550003092187880071846939357977358061992656308604144427217003237402676636565284206004601051364456391822088694263654441547193076156437437506046301115963005530604277251240668951517527113799217046121063509346272723735593309047786495341042691877155042595316467352483973113257788581312683694201372435729909585584540393023018687830533402127286672056481268948243306261869246125107980886804586175675872503516578496122873906258296282576317957889651338078779535803168902411998390529136125995906851009126344687363255931219859699193027875574586649423896879944667354701479482711772683588033480075372835481537727901304824585454577997070384510432256306391004159000263585387065056850025422548836687779682505155274391459962771754369375267413885403625927508145457303218243049668541898233404360516458375854768611039968195117787360247595086659311050239754790803486137821902754474586222712447929878402988494018052500167584141974673671659071160931462870871110115399770194247852712763072429612485279656546309440613135834550764822315657352994315933435541411838837713257871691131645348061850853292433234594015047278821914678257419785952069099223836914922179919975355738902001772182508253769459887529957204496241467843011659435513478144895976939829586255321241394699094554206515995442445017949400876890582156592713379971039226241667648752957249086397396992951707446481618838064847470009916052693505034591970797316178858097827853585543917815706363021935922576994941661577964483446842400607984316491583673725517180190157762913432244364687215362731002362780495346772533193426167904600823589558140284520424255235658573363910940470490058419054676984523010988602460494128073518495579141564028158966745254108861647946387146775337260019464961623777157771376062517877687500754633732902727291375739636909896081935028695510754467150218134053723691762219071711508318869863078404332007886172074045247344874271543233229428847961013053899986249402573621973236261926025670850782765184745391932123959598316709966259086110224609159111181017399597865915075068700437043031044134792137950604799014742937390147929317006445778163080806621622803141314908517865853547490440972591023115286943885850435957637217107462451982599172334210773884794678773341676414704258134258712594294780200011177761619245540711508518824012612176896008110293448978246932544455146729573245586056999555760504352637180934402971737749596873982764399836603768937446021442117104080304173869480747212410694731062392960082868086490022236968344562926806479704556405832308511163660196219447410174029535268263979956846162901876971315032354573144527962197703010721846987619645752695097657128006741527882817792105826275268269200797161807681874700994581601316869328545786538455436492162190683524479786250522222864983503165766446671338331612671790763680716750839683372124272445139300034468645166771062863547597956549713957681850571891936214050822565957562630326729210706138192281761919924126311911599888693101034638854340272809977935578051259307896058314829933634042191394186831213293063228037245990670247215671789498261734719406085898727383730925688315492904442325028527247886999960445310389392428189636778317406208248550939021944099950821381026308674908627513294909248968088197050207816251985918626641879177658453416498181041444656074125966541481871169670672022631508276498205063512760495235284239762155492358752276311136928023055322929990579750274303078521887527064350480979502307628906579185943554382140024855195987598495878509399342479162754543497860161870866012884360250884292978831925121140619139182816282935692874529303952942830096925652406586110934517161150649893022789205382886848511737466775161103307942397678810683596022012651262828537731597487911083539143971026725370375600929085501988396228714446755323082387978710579191680104283202127968019683121492848181466535498870622267130024420006423238103538851326975332690410601643868572586146104578918331398369794102386938073441242813650754835376805052516817243602242575774863354339336168691769245649137321124835885956027992762194709445708713316300394122073137016582914685178743274613088521969813781399311734419984257951340225405187228608482765507517828523995372134954653544809808910450300706313674962933637390642125938803592641105965738552867313261404147978425699519958616706754659875320917294333365691015522265823984062174371512359958045172884198192539128660587813613538520084400283586470614263746368952197255396774207734292131798620156976214689263830525368766675797790431740927530485227515933505380100583627193527928518709718809518034662800244339755271181930024760394723430820910812427407995321436675077222187717174595201293808019729196222384049167144820883989952228801849093011297051388819943755113554054491290691978649557727509345944608061498649708805980282613801072461703470455525900422544622668157806506769571815625466024783115020906814127227504328799262703608706842424515069755957481031334787622272796933013364064114265624242934139479509262887347669015348998396865994969216618296068652424086302928325358035798973312041037634115580363726565932030698936815223072854566831571076870348911603401368403028385182333471222811067088710830635383777116606499299793750681731816620369990044576404132338321717498330864157698566197557766915468652649362016325304069101557094214697103170839323588536286354837804224914019988714136515883567251271168171495397718083926086584283866448869174316727768187657063176441274526373486057386501353435447243856387537927363921614290418363451216474342929417441638085144146706725526145940102203992641800452998897576219675876358702219616889573818657622262557022655078560734462867141258086700109039338584379551299585034459049190200943417366747619015718683998613254586490485558980595462816614607055998055960214210419068880573958906570437092878221596089185636812606229513394106316660578419357331337367665990314901550739120096619235820164850803377561441690046094730459149019342491510520447048513782776828431999928755097529556001320191578206153978750405633815272871706809804853299804530801200830238981568304737145681523255559087682756710496968379114743080453432623085753802987085243627673764217309404965877460488257949086163159712914759127509301851545014629222506525143142476235966052112619547934592522713588995123501030714730866018055151802889790393010257711395039027027200228281069986492693422744654798879987465093238067839191798740502016299764015087288473619160173195470344278840066299146517346418907405133065659808283598547464220985107833041387670298133057531641544740530255540530846569479189944591458944828865849734321235389545287324185764600360097536973953592281330439599525854342912539789020898498340007761941662578011500683227235642217278081166472379636308428052329485963514050266152244851865733800619099451790146698763371997282898814540548340717494718827666471596397771142820628647866005870708525747091254994852469315818311645758586358854343810994166459451562276821471654259561093519790125064977331417161665249516281014498787413331040442835429326695390190575089438839469442168438402365150435609105198729881725195368447734083035310802652898694116809702276835670542664790408150835739647090365463936475818537353343874210924891405360992578474505355254995679070392055607908847825983175475357434459372149401491484000049500577468783801165916214717777511884413901170450805447330952479382293149224674072953347399281732741633487725015341022292264724033857819680781370188768313244323343091327474368723981648812764516581828881617296049012451580664165764807829228488049436745201623277593364217986281774655576819187466835175484158311374838539528653565862200606210129790033238887256843420306476422119486951816448505953054167666050421732422504460482687849168452409770937255640891064237734868319713248050393102948960693704005566620962754269034926932125577894405361806068611025529543434276551968544744193876872874299686538553160212966649533322282001537619584378870058819501486007158656399471403404635293684759471375172259798018803745144351361911262088711824040319654937040209287022871352032324392890166633915492981268807211066197551027158097927990079590638005871965455983359712268311618048024391881249378346417582774808154218939446027467650812872553058659770487288698972176315164461438044512258401958088053962400004462223910502556552232457553608555111832333022511720551723723516790583748620715671374335673493645599052176969485520878490841662434033187498844991528175426479414768398580371534122744325851926848898762585601557991557789979480324664848988892986137398039225107474431484544540703975572901696085889142253210511339553469708217291574902372747797836256039214530346549144208663497507617983513977285678738648638723057491083832243173939518036586483913984338823563652020018792334128534108062518351802003969141643032394828894558566074805531027373284177746978689042391515513509651180648370206601728251748871074139185551337193985759411367156786803462381202535737216093058046797011195402459816495093713665234306458998509146371823556546196891319804234217134719267421869638512138450307719617250991386692779776813400540293792053355361955411399734272180203875696071043593833334631581978658735579836992975227510960871547890459388597711302685435253966116919034626218447091586221979770817834273572317003907416176628474171748622166600775197299382344066314034637426205466319088485476936037204837513971807720885783564642835102989962576084362552477888292370006502569774268565995895774553384195817834459243967517570296495975541683609260729096720103569536830515037901731713016826142327798615842356556142171057094509912219182585431032634502437975494122058827447886058392456490424531811743236605751474422228946696129102763678522935420925096748506336625005948265511120811357543754960512690736623737410261892719359509850377708930733921850694563050026768565721117127096806141202567250845535969222589572658558302742111901812820493839825634685792955563201682174537372999453855046626221144191382978225445197211250885021624192036803391409091051904492617765042166678208595453802759572517879817437313983094907969375266806647535769391352038403837232926619429123034982990476791216502866616813897749500814865589376600889145337474006703168410402857235343487146897564692075241627577113219796734024176834972852647186984569821782210677446320939112709695546630952702226775691103872553351540344994856290006006269085455646408219460649829075362762656724606909641479748982010749057631181027405166307285334297245746055137705320699881496524632709611332545786560721767483236781552900834339500777260754040708585696142119198739175179630745597789436368226474924755343416957098272977920314973396763979408157898615913614096787886810418472051660674114966892374643068084827636352964030369622258141431563996025772618382925340122614703365739130293250489220387834787352934464215481210754236603812741519450152800526117684089985318467028145941825862269167865871476896959912300938882909809350179268905079504458290627684812294076754338072505398689147714607142926262809865944273833667824150342070366252494780146833907893787622263476439452139198378819920600752286704331259306244837783752853133807382395939124452545415945519309254857378243695775076096025660452245059702090138204988450648773327640962037189053117296643070338019521843118467102325954127810518583316925219897616358184917768843755808286794977720949743407472459785852821733078561221542125898528971765336187321574013540881541863163260822618783124484477521035821740578836193435644439479949393318261925383455846891601030520011786278754500068333041038956558907734004249316160974413134060676512794509050901266051017730103972273988892471558520958872944619154153670088992230675365061243127350657537928404935789681698015266115069961564259231439040498694602751290082249171993606272515911205330344719539623518627124302519277189411045866552920775832939908118130990948095907214919780739729876483702182287589189055578711727492447976042974752601082281355306223000486730607525039126999111435877851638142949430808803897501560432745262111049626493479185221101243337295340095920749413035467872827569690772651600940332539035168265069775031962568626276190198973184552957860773300598035052838734824760987978077957041479669718748823559077588829999819044227602107375951537054543631793557536183081203079690426714215291390111030623176272785821494343557613603448537711994347068723673787314155805723429946887648299437361364941680982606208766022645764262102218670623746106460259666387446037841982628145279592670375953807282046454342152819888048565158583685286972692535349603300804721418111180409945748099996061823057947833124233231775827851153718650648464821467748517423291935041785708467728903375853482737787581979134714522919052990866931308139745675925192154423682464383327398185857570812898137546499238126313520994329225672382774692044326304237880148594551574355589793959620118555809207693576063866922868731288522488636848028522012099817376485872241903566495763115107149177554501525943303181747781692416422657858054704463537850187788425242989016341863181193023720055777480987479327111640093469132459702423075872269836755622924950029579866552244652881932943063644748076160600399020072263205081200869536655814709159005034288656343634064054036157455431173260523384492281900072385404535381620085211589717769320068215841507515400609510203271795879634813872661057770647227555452125347625172514419700998119425044931136854518728352529006614141182776975421910734710596246892852684840497156954692505752375583228609359801197628283249866338752764983425959847684320575059328963654384867620144486145695241216539751517883151749668290362421339450343062849497756747767586059181361072638267851903839079931034925849287147573619745642573619165112497488459212746357988309297175777079991232687654458542052598382923532251898511851370776286535018346652782279462831002397372749690999555457455870133310603058028062873703715559764903634213308697325050770985291543067477542636262351230973430202726456993965329942045082823589653429776951244809534222631646323043838625106575869425962297194515256178559005021018198041314041422547742148009503767596413402281803568868363825778444070439149822633112567523778948566663467970421338963230756830473172613844483797168424626533123739845639756479640648056650978809804343368956225187346910953602435286299387180112258217896270105506709338804947382560841150179477944393472031428678696029558360154164396892081410032860938362232463967997362849029561347509596958397708246338179621353601125233073474883239337464692665849233994210792797229115687268133869994765938386950960048357549413581110912797065421890749080963978942320984895868857800930763279993576054593789769983018912807569536022914025068256217198765020740778863748319972412596135664874192993900258683149469737949270657094187681659083307581035296322799646180545469479894298481664023783219593498221532147844732645174138894842897583746547057757616935147714018694399523841946847467249853141519270300046685468334433330397600279874304110105962838460033345765465775227917687156943607784473457443644668619816280317740162603739443398180646639768312260265788134039849295345087858262241843417632099598531697430278651711139566256426116967118796458344496606922099591722287080742922979128045998394978983247285660187180998442536735415613572947074012526472581643431712271834320987081998507559148852457184931993180827106323653255091818821628879109442210188849030074950544945736206022862992792899935243847739854052676412566663745515896532053707020456203046245009857132080892585772048802288289865761614240616108723920593315995106013758915562909616510695395033736245851948330536235738477024489754133990786644920244781251518031717812062917387706315294151746080753208147226358080939247249467216977095192720731883878297149436249369316397695178337000123193312741862156052407882607727775820674819930318963468917532747794549264445486999455440021443270972602817103425042154394619213814882078649716157640361214422189091940067525782100365516411428450783589227346049372882750868093667348941263549978351426980154623512916890819544031360377950739687899006998251607384285122464050778641943126636893432411236988133113676157922662574879467885590172636538089115716687365411093295841678351402715526326725892449987489893773501426240329259922143645448729694164073024889431590027548586215732281174333319390219075223175357998783733463807970341438086034615132967439961281534123515594825552960863293263968571061388911149709915103299900212482166985117450543651961961678856724135501506299066722055514827954065890113312490039595973163954642928071009927411897335726418479143860540294561593588096097066607928061181633450136013655941131446922990240367780147965921778403745938373609016804423156866527348810270902271509307991063470615208158785755343275863117468986658842649083916922004176040652846784660644974399763756828524214262530883919153570984589446364608225156475820258953986391935126866585977208445726765274904795638622744406559070552058334730082657262602016844964319048875047004581710196340850301216297959609701654507267241844703284613489997943927442016786597102488439629453583749633524367996231957910296636970853765036045749932244316941699964617441178581635819794087058769959428088148081679836365216937807885706949845953908397295412646291128806260129909566731066378932346232509282751440721755575701379901011568198115594828462229228640447337570438560888324318723793541803623224023281700250948850115489437095453309100537160643833610884510344377486874808268590504060933397584627639126228838596832038782690908787649084247921591977965344089090232568401846119194559117057855112142485898520035663187374325104255145192342083105208528532338482646066181295355222596888265981596518291857344945766261611208562120249867808181140617398160508224920756612616831586233120526783742911878908929805130251168163681448903562316973150511163808680019134667627603006794253990055968915283673054837075981964313958790336024849675988046691836469519668700763028547928545271294467506495339137976063898473905596618302160217288347130895523263473858053830857031520611221275247127330549035553888135282632467963571682418461328729355428769706670429207091643579606368561115042872898379724422217353823987821713830442245459582071452800740992066915568546299812719143212313565441941026856306527155565102736521331359894456042378976704269135063081247161698946741633740703002699042491085216605048045335823354959969493787358016053230008265752416049711675599889600550847328648023576253737811910304723563467980812322085320537750535121584846179727652647371959900005610995106787444626132765904044224227453383704145760004588911192098511949591189236023538907835980100241883308427590525088041552533629761797745652457459333644203831301821216918779359976205992724577097531347160845972202464271786073592538280393999827142275788812613025708140894321304989821366527012247258266628012920513700253081995406857274858213819366324799287680674654652633117708197201868103874595616165434128520563460568648133692757714503505465527651656560564067101806767944950856242202818417363595402103384120712216249644936606371708492176590937351957074220107838474712384322222966310555122406271719019035787887162890247213990462099354712188013956086891632414854305727712905508771687200348742161208348206464436241274380631249386975517315198165907981979624454225285544133447212197468440635703011447518629199693362810354518184622646510833433817005133887921312646116106792050128009228339521488219394895293875555505396914507391390781987991565835911800508122544996831583921300905976809693402931393961366330975452135653586394964155053304531666684668377449771024172111529229839773849254473479719843874832716129701337452154371254325886250087829315949666102148066405148808074659718171129229316040903027120699750455970412423909941200292766376788400072588584315141156979294289723727234865107682025372819730048849396767935070360820838518067657940995554261295689847057000964424300120043035089724996400850001246636712657948949042245822640064675992415531253106176629811081590819337490336354766706023243746222920831330309641310618617572780834583653713433118956655513974700441125721639781152747142914298490723045302362909829629015377887281219913347428976288546091089224108866266209969635999993746474592983361945770089091748686209700443386996615064056199084213625372807307691261849353694215559999964193087120150639149289878177357371895900306293061283159592221310225964128901761922987465341386200728918014293345495744420391123235836106099914939978381377037080877120179269980561075621557459298391706739280953825767279792800408191828223554769128482836280357564119777262157659962926306871011432479429246450078282791647974045039044882475575836833618577727869012709849140054322800995814527975884376293963625236296921757885979607991929262855870943803773867699814682360058652556473296921180822833595665148949084597900853105432297386032579076426480971527549873231657665078189507818260877845642583565751251431161597255524946971227570641529069693566849756322119862788050998549112822791157065405908071032776699169714128170063933099630659477815847007416556605368721296405688281751684810099517655832290380430133380761797176759656062166421281103650506354956683829381730596707107895223795812344779569012743749037814852039088104072521963316855913338271581710216563628280673267854996618643604256963403075887866628914136076131744201042686885029228761720003500704183650540617787199459055124313271521496547815458336500426605018008136635567912814955723507572664227248168703006882571163947003255912909745020422467248395171812121497744107152648247887423458952875419318980434799049738013075681967581945981010837650608226257083930973072601712396271958488794663537297266745706740803801126709842088868108144514601563094599536529986675551557042244147482204958760900903622412689634220127683306999547658295511968917795425929804206521468122973155049220522669078211706905340577775703251553965667723562204614096995429207043816441849869936077267709398856340217143925154627482951325500564924228689133517552417220507806213265559427795492403423614139139386401529965292698389193852102672867650741852134882470946429556136684737951391562535133622652127312577700820451500290423929042184303733966093024620623210308869429892238212272831792273684897370854826533411123554539922005838550174242246558375670878988401548987195215033335691589986715852388787621891206866225597740132946679548541546568840784027644526291082149930588340205454606747870411534692050894073463371107610987487909965572156088410596283048588726488679015274930507573412976350582974354605586873591560440055416658030292224046189447039352787833883461828760546745416146171905658474465849077515891783597926721905015073387304322923040065077182207237742361331910248779083581467708317528647074891786765753172132971497166831074459194234856804219299627866421140204292137150988009688552586757115132143080841387204392203613293841586539923546178313341169219769756283230049256115763119180303581632221312750807292674296166551978684648097649048377452069620508383113139871780531635476264999920926683982108929644140662869213219520113468858207870821385283472362705783755958267793638182452870971897048794619104857319194842934713439688366871083448711808978721609701074367022323510676781987470465413736616335164386019320190884894638993860818113376285688954001188533386394047765766179141283893574778974546300486637270393081981918644686379961710458892684358318804281280996949342810280229762087348854951359682234704097173583629014377425472699551028566789631384553063852661922287697756306292316657936273795725111196641672283733246285390293759817452513061125672582634200560272721515928587088404169694824496573033282721612051349833754867204784521105369956354626194217642004811432646972673244509255091827899326235770056919600799754417420741604069597852229515271354716648500170634966084155033728257099751923693363747469712280667644696771728052185474440693166830154302123931273678638640607707924942542762060763888393108850966287286202137126440011485281123777295079315863559205526803274117057850246199893781416506516987031896431004961176349974524911254140594560015801408746080373536475325809218874869821018765925188250686306454050443983763402152022325540808053296096633947577992125305455358590817276465055640608379310258390500283766516715343744879457711734861955746500594090084775214507072236645646984529835434520861481688762500541591734613547794680787377730312837431150697476000290720458607188073294953808840003806669807922274799756297819039763097287958418489404050167353643700979664659766981369218551169855929290482957115317422615082455469996793541234810686682486668638857151187722783355376491909469654175133533871047477596305943373001800534947755171872540856541918699780840257897119497141487773874122018787114025856992202462232728890323955275163308068089955120542521244446909585728389089316763726189317688502309631674756804624306881233809670326240208628887134690470265408808746722215067738643627633317077641817598465391236907910621943055527221279939230518886579233979991769048512984850742651881182215827973944691193991141146587317585616982907023503568428867777158524289532613016266236560500694164622667839770509882433271557438195368702886019074868819799995334435982260647950691134704978334506397824149896130418771140961306973956153769378684109588044406121834508229041589687821859895500015772573689093961841799044316175943995911091395681638342249509090753669961712585181257644077738818804123953525263722581772225425133710136812719978707360898941235186768239890764638029769051395325590547743718568757620417443773132728927339649552138850622296013206846273553243798041554223105195770598119791014296485562260069681710989499077099505081424708498279452698863518164177009236303843375208307532462551343172919892338058434732577387493913189489904661346482432815966852378633098015413446850723983372328629293052113889583560694332194441617151299610563329555441827650597095214490879775763426641310422834608213858711577082863787247561030120097561675932121769284665173444505025883919477504371871617357039124604281460768562571804581131621939483715113122921805573365139529828880249188729784395463225680786488511819343885837160859275811523695400402866766026369366317301358366745269939466464642394966497351017714875930713695346741910938336818450040794624437095368140205463039621356680309483805694155707774520427056440085898340491734998294135281534314696083840351275749776146575254024555346518008481736155339441069293651947027625927073968677788281091545357745624085552289431550480823385997922177944348900791671959099559329157196514455507070966338749345185252421486534175671084237096910821347762714187408065587429514242364482632155805193344767221959124736932210462117463397986571024144748389892478434830716446446534555920054740971847015149879224967240201342714696419100703595116335122604917534465998185443205671519051353930297649184420426418482339804497337783186040610634055556405958056353626481804765674707913260254507659978731893043512787241850779959292091064441270264490093147365569889165649162588399452453172167132604577112036394236799219211353743136268084100913163020755475705413220122243482710295169868463189840297412244944235987540458913488146489482977076340190597124595721989406065807019930383189637283237203211211545010672951698456510146204086302800485425459473636281510924954686489991110143587436180406593997666979247549494917451628522464649466897601103648704219127666402353468928537639714241373259651935009831173206723481601599206344892111241146063515112985851403295221030466599732790550102710596121189778100833930284506754209224689029577370133340082825159582618581734041813781381988354417626963372221055655443930611498258313353165979898496790403868413475505378304026532251505784712354022797782445327702033915623680233094168185155731729027505800380486877184400594494247519005513130270031377784630941476020725480755508649621131385696039584100411518696431842230607225152242234626642039777306111841504299192304953048857596806899315474525459983264627391867327251179137840752469318903375357196466321655821007882689596756934716032722675804608456051980840634367689498380022381168840983427433633167016785383908972530322057328062431823454401109103892787115341689324312835404657151340753954136860205880339726006452367309744686534697566369656632449982686360905865277995159116769625382307465403901241101459708562165148774562752311107962065488101366209053604052143627534976144891107794971862439097115422680187283951289996797625277834509200029694707845392834984162949628388595491094520434388241721590684761886653592930535591022060410634220464710202732056735117717886325389414577162049315270392995626993114365401197085257804897735814620102543176532744110244778496434935078984371026598451036553500050852262843419358567165498335886481836481899754287561670697881033295527420355678322468691208768747355923023047757815367119512921595897716926770712307378200283944717167994836583201727046729199332520413400224058700206479043402742215930310552263370181337757352848787133157133852812267931953594703548395122587621456071591649273072656838331204216143873908775948197536331510380207748750351204833861493394246765459578506481214602901315700853918606500525720305740742276180825826449906467478667813984976677869321186424435173015768445829033203444530479692687585501727736267778896720815673550396688002662246288671894035789056454967491026525064809964152310306956952508534888903042712273598621923779320030881436952928927224429406331937490694892557959280915214933102134267673988819857735870365202305556003910576181355689415208401183601422568303371444063357295411126631037978195345863863772560882192849161476251422453271155123536691290983185365271309178680089166175485149106756464779378031396178619790904299786903168414741561663142964710539467883812834228262219918396982478994160742869517817631164585016376318594781248491634071137106563527447383415442121741330322024853995065995676429487402783222476345823747972554535423161209796637522329544736358813973154074481081439267325441371352422941267241461077023038964064097140310083354480913383113376220335632791537270650594426553705825887123752701619773241604796932940666128466342667308354269742823619046939436149202925366803821892479348322713982323866419657925633768956798442405934434230357724049523719109613621260209552417015798128156008953385377419364190576795093961269553361004485370010342683279915524120607176850571159721198958158777914277625692624996651332534716581387966822413548235789655454198646286462315757735079185905351199639643962595425701129365285016933315263540584936117470335468133369864444685248076263663603970590876633920458592606302323509241339600557588245184004574841261186471793284269202659568697539286754894662194464070704286332436368598238342621070429725867066552136688483065221351254446470615469642742822874368372424633600204548316491885741997310067387871903750839265232748283340420731856746114520306580199098798209311961226491348501226333303569792702809908588561336206459142039488386729814838472072138446314338748062135144876951926959156359053433461034445094367651963902504282180832438846292279624857509154138085728975213672380966951582188408420181007426432919117642118811721989089060896157046823537037253653503042036234860632756726889898195117463274591118048925450401539667735647712216288296269657697149090016926956867725639932933538919692011660749810061824141976306950075822540989161612373827779127722573272805969137035193525935044434609129608939933764756638289910556856993112516592308851077921899066759483250500162730539280323522307971758177330706729910860689425698380547833882929769121636667118309938271504947742128984228278852413842158089496961101383892616502068939618389386466084514885825721372776850402424233841602655426113024422220448959388569003940962506252506537165557316281054471982097800597527202487941016747879423714383811298151126412503218216690461501218768151321673428524262041044736490026109736247839195543409636846529289406847451539629448975915944037392094088573384924134021957182100451923458530267691565817175056035126973985732913828089165178789461305558580799250462194136484766835651269062307558238705829280267184740577885960255800574157769443396542385821735513064569656510004402311772349365720472157799333625806834989361212498645033430649493830332784625978064369527915903686114708728067863983086457529620189472415021338764016627376235410298133127677606175410032720417438177916597332038393211123168749905557250500526632709759835889717740116914320652089679242066286924844168474673141931982292268172219438681004681878969276408702672693673987108856353263936092389311665628058948994545456616134965623053582027769283780281648908955197293971102138697416559939845960090619482167595064146101451961315337756612586675090334579303761868890947029268636027866948549081335001533333224886084989057442610854088786629407840394359723504822339669750117856504890485439704249232460491280159380887629017620210534406838282997211800217352751983829744924372264581949191226859895047298284828125195874999176497371902868623690540594536699610813129153112043683126287484402255020408411322896246630519162493335560533658709870584143781971006020977085090602360659678716306291202019282153306407015687158360690777621709269778490203207520147820944797345997898655522114599894701044690495850628252548567346745544608023052992573497972196004610944683857327698453428515458026235482827900338705537708729404922657150710867996190476705974439830423140551842745567588912700560416920412423394700494691916988257262008399153960160879001357188534973162685982484412188921963477574959808348159251551172652137005005278042505885714805940576889124937635737515499780647663409693644213470284321016943173275949405129703777732118200710630866418106917284774401404694143375308518997220108830610907178641274185654240663580652437038019842138056859565421059249903322796382230224318991196102517438564637411466772727236472824246968055567795581298318694161091857712103777635655467719942031765308846947722862618808596168364432960898562245866862834776259880894893971991163675980695863708752038891858001429920909627072585603824095524948343258410669419246060498222470528699522390965281939064330502411696225998001931842047397992891861657311755854862924071530356509619402122531865601606215697227817416003649738761603458685924030726521500974808410951814066714183555322400909854486642299409771242180483807172089633709209564057317564518825342189532508767247697359520351514104015223989188757084051521533055330472255450560879911022971615698213496866112167146404353004828078198904985419305107346683612343191825974419380434809436525955598589259980996150174396846376750324415427076538547182068791841529931130750990305770895887089100195048701320416270316367277268449129894547389348464619069402452821345951070123636169169394458026429993878639097106095944212662455053375061448667972545312071967115355226075818771546067497551068560014914475568232125372532584848997606495640069797685839215899461786337176766921307249863281700259078455143859399962812321435732046739200095752361536733269430811708495532870354315750576258027248941421107385668828533623252337409804942125146691575663578327247197790439480216399461932605707587530367259417138198130732328855820899365908049929106652908052114511511188471115597107992538153472660950195510018956226622986459576734719583674065628533874294281850256141875307097435478434098493025988022404344128045927761340445428650409149155445681332112354041995142851783497274547747271110455065453382023460025674812556350629215221295193204894382424998414563332008997347432558654380959519140317151996641243693263734142590224322635981103131090050231597230286255489361123492003263782756426295556573991033561692829306155145854778256624580095826964571303400943038476414173966573501505886840887335343639829541762789167888925571555940944461958152839487210067973971957488108312930158528124155988640183858538780651467498394764134852015127012341856103306326767076950324405957032412298983997343427893226301218429340516158708488532949385009549658507911706480298928644733940980719769713558373421851448402723168293997185951665644448564741141232206733018775483711529869198717110507050729496471079640515888291272803764598772332522513304943146525270796742841418612541223695406373303164589084362007321865415977292361066399612895413757094369627080923499909791633031428347579886722131092738034882085418071330894777860902652597212597794391447788478853177375031501213693665746243578719024330089521027270593465121445224436816985087119594301490840560459550257460462013684221704842959428867260808461484813876717758791029205776100794345655721874500675851251774726062468755926491407806306067875124868636645132380253943317969765037533193861337001744884409243775974896525190929829345776645964041968546908301646537494050045444961047380771153597569328985177840738932388530296364246188973889967400501554722401376685346114631513249789143712031497987243535591936268829669776567098625925413830001177973929576495079067593265875876701038023070548445248745566809028971282834199224072609517910838021228184237717414767460708115859481504551813080010939908316593152885995818275384539683389912654887731513240603378285412063052462559390841976602791375140025994790394131702281312312229899113670926889602715888924257983655340395295645773382355863410828581732549280821560940574356154002956833816456075576801959137162431876728890916233844380876004546600314503263538088415746046942767312297936697962007456846979842136763007635743689976991865077961826868187311880710458493011712536839357312258497600028930442951694064660722591862757750700105707693410560013019306556511606857813898332908977530847334421692039222465851793441656522189874540435686704727975686409394840788552723415640338702016799988119966779733494552678204253543876263741546602965947695304195181087061061595975350104847057758247505008242810718135710926065262717472537603110332719822634216613119996516831033429108601819086279151828016331139225254905854448937360142508030019555944369371225396273254156107860906216367142590316967936187149317252001028856289842093582774877885260840865994206429126016448891887438533016703159605209117040973147738744152457763613144141070508690668261773383015976523913740373954710379361826817409600578244343486656746965565282100413173832776597912415302527041163229677818575916803315873927215121214107306392230883788396928655368753384672905746311583479483793455098193118839127395983273552520513334324930416848140619237024103138002267426772767851632964160010497330890204786887697012728903576437003790381478734567075572528207340807855268983854985789832059350394946239330991199985820407635215892297096942602565634935943520801816592693918127185619878202244456683464946637161507161417250364526719913590900591669066224485321503319135523233632374635363057942491962516462339367079840639548348422316873765288995963965789371845605159756353388181246389183137425675683513867764908706949768014319995182974424012033559792814952216466201467915256382303795800835337428363037693893030748903731269337827430335039869273291798316996163414330537626471882023359315290239611083568105398178218479255048216846900734883879204155325390782705751531098324132890000636041843304663805713440652854260687932449508938898371394435249408146168187342729110608262458551617019448456709298277103033235001722200241635452776256619411982310688711105953665759219230909741795620261340236661974888458185583846468181231292025497981207729695218358211624700937586206681087786797551131799073805146518514380788928056403085296933129527094177825974057472578353103201644264986930101459278101210104876165546150683318066736852471659677360466275152843623867588644636621436973418828932311033661442178548183489413193233644968326841135719494701541200752052110231965031087428045232895020488079909393956440803610399265131387957843587899322766402580450955588520043569122020608184918573748885694355820727069302541047067406485181862520764545598138948780380295203394362374399813609107699566258425410936137745090001604804457388741183162057588799427913976052705101397960742230131324999968948770305221787312525990057731954654770766761286575005116060645286895118755784565538659520057978120943072139371541381021261657965994973850521423244396070939601671563112675734423216998056199495833100422989225872676241362563973733321132388604756410317971333576837876033434481556454804368154261474079947546034224230370312991860450351906714001470805129711256036821268312606475879200788830944844294036540232219746604437878528143231731213546839610783310402686058569480630873218897602581893018794132048801442087639710563080187717477923446386447605374432539504708834593574063476087007186754467353550264228774773913807435864064462303090403713934092295279242911478965485864579381513028260971918757008582729013486877656909666338602131834396025890258553758839050226995230075951531094039988972321440879224121405478815210115155839259902461320091219765856258935695418349777539684678808266074673645658379267376257934883795001054295248401539012543311474796299393083349836363644315164400809657249308113809983965815595006539871484308742179763146708773371678484279578567767605527313611624307896836597199266806395271545202206134538757625970582163720148261004602680880657056816285626292694314050938876458732941753732851578507850790254418379697372592462453550364660747016036433508405686892427766250550101318774742203903660493277868307726678859193973418428438362890996891490087342821401398669888662524882105062871710891558464822824139813261235574702774568765159199649833915223323757218064661979844203503838401263995149415504476195209391905600983648286527738379823720866184090750245453122362932998025395480356174365561494352857628593564478335671777984407653023673557771115147808244943640631967789149763577281244776020308102078758311316877837147131925645743652042489510519717043725841803520078417468802816080697003626473886096627406805674009922805927147103914839344391193285237335072636163625252069188852567637473844582824412448357819658614256423961109845592766949858732504299758679788701160489613548808417697007845873771192141815638256732984743134801007150908254768316814217822506099061460613859770118908893134309486298136488360510283623399224690571514395481606370982532603358306552680568254102148448457462207491076855473862917345967125820206794114771222472830324307831402218731608423519774738485106232464108660074359826390570163401967264177780743638622729149126006030335042356373379791207660480483625737200010934417041603974345354732584099231394875686244576926378989588647949504426831891620042650000723202922044697053330097959423753973457537955815096702523307630122711091486163665106990809797224671930042748368120499975788993708818311927663341526203500481157637416726134358332447011295134462434650924524632191048642304551989382801828098202265072223773150764415092699927151033510976659523295672731169955415867648146693336175263282326431960161940496093329613286593037817607833838175846195742128856017939920048637699612921937228702309367077600682848211606070303614020481747665921441232662317502769540055203328715871617150374944381543980212600969057565405632117541823281169215641028402874205121228381886412399566281855939161675952834598617065120437860473168127462048282228860773732603182887276100962334679255960334669067771606177115279508244710042184442798381287489585495696204484436614488060459851297999604407553943888434242100519593087302808777293849478641932516260305476611996779408816125788048757171964091289959211420449453067366949448429169614397450406242985840616764892811885600446604821024232027959356931961872933973359145686920798224894505056046168495932120857305347072630938294095054428611124269482159209941426299956965775511372998761908645196195256418436998233478168195706732583868507596415395717483743112620940529586601657965959436986812852436513119274785446740929212259011792007433654232054764424762844484513774517430963969120511500323585906569872715794467291676854330331875690640935272889023034670047249012699778456351974681766787101394754669460989667730265611323775867743753266418286989734276503031408918339748454064118127000252848770043898019079571023914715023155171073330237479689949127065410368115007076940215129089719989959439498686672305426250904398328309730605255056380923464374642554987443902861098793462318919931437724772498533471310529443143673803642728729148272738663824104304751791581395830083737565031112311718015252729854408046079563497042502047459548767447975126974930232179613988648939132891280363337086932497738175269957174693920057203429999412738224283846511119913495836730091908631785313961111732346921229593800248742308081639541166249377027710607328900156011900080532580466297159926444337714626202196613294645610195055661263615979106856486659580808663709659605262889404155846496159237318950054419121905450715805517219636776520410200608320359805881198076731106089537297065273346201660716934016677069074549659035495988187299016741862476873514887466693155046894781491294407508814820310635873434565230533273053622457857544868130353722288378001326028293515932866410037105402200189807039169381143992444603922675757062574756875733310941008677468191704632080993137721985879982626229404121753690643020227235631558005759476581529294671693479453844240090072279853236633395414318970997663621701843566081682080283759470626202813141990963253196607295812433985589027523926109163994620813922996677261242531777930192561327517526806748014361405411258633339420239164054513852211610028151983001194823072048441336956923134608573550165586953447276861886680828705686229838931138931197555042847900861955531398880933425300562762977267107494476569553395577344583356055213545167726959633538051092409646367448825307927502629569217704114704708699318772951215087668832316362206159091965353884403895122811338283465107479812952192449207032285568403531034566228539902587228739650297709629228680813364243419089451666680231204825695981833200336229330592609600303420453007933920437892449656495215161686595382619155665674644400431659032541526655883436890773318420570911221461745482042262150409879163193783954923391167659341746837264041164020292696983172367636954068769668755420045535648133199195913152283584319076104445235564496833573041752796381504657752847163533088748433849255124537578440235685290952103306736700687142742478008436328247381477198989216034694127091091851035111590866021934930508607435747869258233256662216548988238609491450094585571239851134152010735837308936403466014546754860303934019104055166476541334165837774232735477011305153306729479706571091725163675429742385332202715845667578346055218411944140738863257705067666689688290964614744018545436400480507535118386815206088097841687290081911070118066598963329776543873545274633230558242254583467793004183954264698488532743706633140825408495062953804384065585199595518937662800923900371153535117744910171024761933348860061289792835902422613286174303632824377565217698909916755322958979555600398013132797925282384607059506573403522110092075364277259347298028182013615249787938098378242913397300540990249119117157877765782392343509952410685957812595573649464599226303286425737298139594393695540533536513031815569806208508429470266542319760368574633955479309366604441029863177251186719300043584955600564669137374547903891058251866302618446507244286809983175942249072665906113923372152968102932645546928998243616275089811024681649967855930800592461682467862815261840353464372408539447069869574993446743515258620838724568541290207341238331159265217392916412552956152356855222583317206627229665848645935572571941562819655855297012580045683578704793062391894579630812774028896554233756444141098422581530425995255911269665428217241825128621664636547407872406725290895525734755329587948520989441446833518434678147142194536281171746362760982888216194272573225580577996114456579499806693762964170047533722905926602648201790675004577959366498376064072451975468173913124215602571383510459579267345909549922516205142606322570869222458256535040143266048751161540198699784630290368226406559937517564890883344278520433507927539325243227093282794861391358520813456798083462315364830177843621986818999021202213782036146654426399289990214844779521430739553791771060495300526550311864225004540556551258277904054220338916534157157329020290887764703029830268523904221908124021472565468786575915029074798564665150935964643506654167434323970512960270830847216851184166748816022080641229779060261618116018878919205000976388229919879169470387769400115281703873154096770574378452556538128371911030207432655623957567954411121596605250561989451647041125738982618357656773196234772658928547695090948576957596109179516629256991604211511901752495149386708586299232530440463082046693801731033907467790860693217804329467439521148294079735190711322703530958533102840683282915962891111730770899088398212309101488234153462596572262761990523800581249449530658692184194360727276037654629725820507036088236927098293744662428136947150692576549301632248081282229585304268678793914723893029661842462526712527730253746750335025324875552642899020408834300332463840760743348038204992361355780891048386598886179510583957165916518810068418112255663775830308043367026521084791754808664509181712686752062746742314102815412876832697767094883053422160091381648299954894708456801676833551117808473273104187335238830534691314405435197407411408497767234711356569338737644443965628149469894174936370384366090466397044226111153837239795902003809573735459501348170058572154367815867489787830664894537476868921415846437279078541771782337204432082480225576845364469469898144191280118332396982170575323910630747248316752407994083479760550780677842486925218198519554583590870327038732342879079374155089503023999203547809924910263479063195923784649065813560688582671141462100555707664307343911507176788173353300784935628668495274868412842032602079680173985342634783069878440067880721978042223701664863260415227954081730636082074751448527817397085928031864569694850968010179828954672336086604432787702632529236652994002365090673156716068134474883662389657232874403776716305017010827688934435122909396220532020768232507734971205714388245995687895627363531409478696692151724311856951997515549245920077045044990694875913922751209276105797873765388548927938785920629808482168720143372229625919385586467085170500388013810210296961795067798158247338314982086011619755574903139948074119992712886609587417863558003670501044457719994390269350895792359873377545581545612515631620322797379236519740919559473314345441759485835215591223473879714337067186711901234932526923325469741766016334349434363270904056205720308628179517729374864403118255853155988463921440894567248326801731835757854699526854333571301108519893356470951967579521599406212481747775065898323296201406221697855415062747776690467959689488819750193089641733957055366718901269041681668711105348256795060199382712185835057154041984185360450350064802150179901917628938052908996460160223902648781798413043816860155426009512515224768106518534712458888940814472093855090707769094627110940673325033256854352082140593555175566509299772862055034937515940805489242449732275276088532439759185724713935082383779144096315434698207302031838000370985073562315070055789151828738825102937360282285847269582377768401547673251179246659599992033863297951880540968056484706276266392287300541423312237850151919967846896046018256858023523961623338034585610383306278083983151913387092041451484479778382863925733488656549215438238058298946137255984788457089908423059207180649547038777989702698882289596142398461293467943443986007035297178254852580376996997288875334355616111627374240760159022624189199507873428943803652127082255119481620056246810600441063975072469698070638642880036985574108373331566395094269860528390754107021564842469275096783413612174462819496885077270400705201673091813812810130026892796672169808409942748025751464662191591025339791991419676357964611593851448536681810028826761035611730484104030742868940005816061826732407608269289166458804489407300622781079894192456180394088851701349624938122270336696694624141347517207737955427890268259336179894586721888112194665491143395685783132875969607940411477563484458620024817345546279494545559322658608193372435339107335378730157810729079359556562465734329717800152383315224203660733240167632257466720308054854255043997120073417663905592157744476506857608719806887502405223401284139269511114978840112535241475431783774845772475558015700232124386759350201857241697665690995031988815746526094701789674047453231770963916154127912890553845023184133590705215796526505374710211584828777012821334322159491187278860433955296163270848250630620780426788323985832610030657760123762144834734045846074255945782617075271748755746084240688212472519135199461779539567886311320270387697970213508034560610093426042528699311705441489550767799215100377517754296555704245430452041035820029285944059245202755686762365679676547675640636213869788276844636442297573499696554491822792890558241230100786710369069890621196722268777955458879736022695654601586855902055974241394647438354824997466380086169548846856471214053152641467095166657117741835883461893453211691542043765449500927572933386746419793440680627692131740535839337157732062616270191298105549059592581647512380064340242417985607823317646457148076546501131386242564186298368540301827842903654720884122596150771836297477602363003136769343230828436350531323104114671694532133754615212799711911014631899537940785675404845389081155823985538970998789297414828141036331453881256376135797389502371956257130645128857801341689962003206567898893641208378486129157459294321551258967822312521323191737255110486317234257342816150460775978678227231727580703826260407910022454495089725938743858814230212175705888208950697537882233392178416098117305381969167530477638177195290548866733738621922726605420842375032326378503146120090946303447893852761132567020160123335037367735233098580211189020425767465864654967215336760372104712471181637060009255453950916359260387419254045015585135101982921128562783644416822383386678708979891510404730148247970538467066038738021276516170944018005037355155300495115695875130770457418110571047298438603492324780406258769270036358262473102789207652795892774685568777612077320886254518526604542037228488397289265144328902245341655482152823863191582600969975273302921445454184118291461956511214228152707812477278532026714243761652703416489282915645432549177446408573562459015582911732643936081568344978495898577346266221124097278876999717115770720914233897472022414133670933047531777684042915912007293462972977170392126525153042329062465140152868840890595399357899921725635975328676860818634146648768016715837929018373830059861653803690113762543622899966213940393335906270368386766944117647551426409648699502541261964058727851694749342543601922824078995038231690255628305206370786639632008931886148190704512091793723280331158502305437604997560330358790214071962915094114962505221871424197909743324808317193048625023618853615944459587176171367756568150945783206921858143297485918706889358004639295489293892625598764277708409776200407910010909352559231029118355881969560703050169740445965340434426427888609932546628157597797430058054240516726662619340480599302819843452391452963650631640499963120219769248376295100788766151792665207279796326347197805158684842763839282559933298913722453848199673444132426405766252548455904011138124855801303225392163472430700224229293427469758069338151378796448440944563639649819582234100143603000433820839903008725508935045974685766017612979608960976046714492461301384445379910844087531826572596843763252175291958918958388561956940118999162293132194959454073305974438699831208206398165796601845930724361811693244810274895743202218702059627062266757488014769329399576487968629453635615164160926180255590299763271147668315430249267136760690677085169734498367576568707550313096735321395874136285660197281696770760525602383754779961056826016728637636211836294947928146134812680022672212179729543640230226918713620232468862050615784107745213241508398808041000255115196693895719309926897762685957846518739401329726339278448210081996791224602759118270346732587648477438831287323871980978901828159702318850223986148885902817555959336611877582221323560549949017146987719756918866479691757688308474374229572886244927704705669812783175193717336763230395994184903732073169565552375814098850676573270295031314450460964294780781150688043804531721264111290781696584573337225449520725115849072808874508446036661043424612135137556354821142255771848885361958330779179820692799357409447294965929046934840210271033473102879929580108727642301643115234158976735458504143551529627853576794046290222717711994715503058855854053639890559732277711205362094419759038358320278557246102838367502865270827577419055894317688138300927603616764380514213264937354910274548908669856931160673526044166895044331561631569138401266307801982019612340705936801520036169486167217829510930995166205706784286532556836580262340720854228214391633023006758268942173538478568060378745555273611327862174505313306145328125058935778647606142986651993257484723292984441096178427622513688943033878706791198595014514515441394693617958679200123974822638050887625461545924405030745982991368599696693136552647698285538705814287988608826921353947583566322953576656488046388639536843045304125825262143041681183096640011949299558689757979518701017394201233024280641169123505544381967826854442238459099112832740259419963508312180208119765689271748397404103801762898176710822404029555509105380261748042603633669331630483427631314791838306229397484050715781834831685393983900236104891485893633470495005864340632371165193790682287001784712472244547617844704473734738873572544012212339311436619800482698040138241991606307194414291522803903224774269301090820061291635407595121049609762888777542664233525230959021340321598865238827616820736722769438809135710621282743718924628937869885276560362913471066422254727986854140469252033416860047721975582470521570934583362323992942924299150890540874482177776889165733750024195594465872618467916790770772196446921132693822180296256852253058370438034133381250426455583390028938581773493000228664308858062887276466400195576954308534923473557084160334894283047881993350150212972938194912518023921477697309565549810395826478736587821649903222905646926859036852845985330282291512167850306862627065874776920297469969418226093347492213586580386577060831455811521427752297470151708110167375413867190560093277671458439290284989527011414843572193801885709698218006008816896623911830400595950374504947217125700363687531493530584625732711420409156999120018452585394755596065323754716812637243153892480305179176371594320731896491144964808998435831396018492079953826890374345812780845065773834593555903598222298639657709625017593993702724667519338897960293255724451458571791865548436716924209132088142838922163140333044637746431453025112894465179840891844620784496630585704317402972713433932559562952012048078943045826540016385533416629323972941517785535076705622380647063819066044494660560384217233049649775944797334533161883135089580660093252895735365472226283237333012971523371698307020652416461195435676707860581601704504562123432051581179335927583608522901987429962003864303262357533090058790674881520602456317313722888632067290904481626904816127531643707380825611763755292742957194694223315203015570880372355942218339788485832243570781450335607860386341018985141705197957869720822657670394552481929959860924073877463012509501977403944070726192089170552661994700115691866186594940387490628612842733903933262544083202882684949392597081881654686926292127968471540179540830929339814143105322739744354090333757197700334331432325488643412843516492322671468429200984042931218756771238753591402413994242387201566782606555796697457333481553320071105482661823525952532531267433952481892206347229572660133425542078203792095314816933746765983003721349659145330352800895974898838657270726815588048051208252134269689219913757132120118481158676885361841920941944437225520572986235211685682971421519417065771483165218945112532645052591761615322831605741226616374960733970487701416822440444731849585550151526888639700749031780810572485865662429145898767689466178174106283794100043653762282591983363204589200850519168802504604708936912503430525128225205135266109274531953135786473653386134105595963941922651530688978941728252440198457253566323797801308481113816435928478919125771211328637049648053890272649655877120944487232991464559100057403587368485944920195393317765947212360166732191860491885697681933957053692688552430489276678372378231113075051121941037326226699099243505053451631097411256690593949491939105299429677221869614936428187678080228809368862133147960747655765313022233143999756386616335687976158824683287218548358249582694436995062795666181975550342552666549141432828544550782894670602160599844873903366348021535921223544146515736539328868353315359547974585908572189958305958434878579183629375559642800562943571250248284668637612785179009012670982069879468329968758374702328193257618133301280518245770026279419435970856146424392881383961545384965341428840767602961837250844439220553615586652802343318804300132523304493741465571889720707597537940974286827120944580212860074280360049172685331237964474128575453629306137798151613514849182523086421388256053615807137716562437291761099939311104089556441271697279420050315840110000843214407012572501293851157735267711661356039385378628992749242743141017943372120485418951380120061149442471420456666870313013854654114794789429562999734632203220011832869729785997847802562263241439305977134420732641343050068500788380334750235560009687400130159942785406275157998484356065563501450347472217123347556683063814770817973393302591881332045415091957413248964405555387766963786566309833289118066978156845439102543704694107032672228788982867095763022585847358018856784773715912515199536234281545420237616913034439607781550945868037125018914515527071840120813344730861234739320131386623954384393774633960678185974642979187923067370163332606451345019029657689227308042544658842871568131897387784845170199079909201627594075564800357679599906609899899334515548918671186159455839772006077779923200776616621536598446006881208832934277002126983069045385031412758816609814814131061865713778420898377403918233400472376269249026193087412168507560259986493138158730669447728166264186244657017553522188458465370069807024314784465097910951874293792201628867306936279242190673155930016545640211244929238549025732560911428188992130177577755338439873697297406812736985304411498247814741859289571033403393863976792014077678709427709035373886818700359783532408523984928691041317901678527162321525933258528118221389422578432610031075312379801449403620820521671058865063859470891881092900664919314944493058008202565083416871771104972274508193741953753768546322295914868470546836606406601424703214964641966432542748356137695538143561311645242657024680152110749997003674624233856938753295064704389834368875482816338984720798314554579387035735812885276892759283804831499102442615820578189581806284241656634334772835918112481879867830220158880341416638425672340798379909905120415825980583146277554234447920611934150805525478243816796577029456352298858511137973834252562183021770344367417570433965115210074190173348409848825288139727406342221685807859512983993189701466239599223845765620498775614092938563714171262583828370882278302359316577851861286278589432118775622159292191240560514787327326440833851902660139890727002461866313001691086627280537290739016614941003037407383422050981542865170299611956381178670340485550698407750838155041671356191227951323622935427189388290789778092366697625858022623682849780640773150021725917775802514441974579898221616405321002122086864290348433958078704483523423860349303526793504003211277773971977580423522302825883152559812077418209191848746201661936608918444366335976549982201136002298334729526151944559099371466185889276606480710855366010670422734662230503810028799303666139731758172516870605114432767669663620118423933823010239806499326001431420609262246592240050179066788232371732823357041680878185051929317027115678852138784792646881878258495453355368528392429078310007008229439961447840156229902070983345216765923884984936969478350883380099315418237726689667442148564771002972528319469788726551938260650557528647161905150624489969374433405607852815304890809970132959056222749821467702982508893167177493042698809602081437202032320598381214425714725451931244982356989639909949339631596588326838493581260129628403739979565847492602617293332371937981787637179077615934261278276424810438074126227840137108091329477984270565601186131862571084129893765025334583740890228962552323945536291263756104371460062830970439682197710466307875863523722723421184312958383918862581710645014009710981263503455598490954239212035934654841511057012576119643003392373488978822562220063710660985802913853068431732817857681270394217307456161584644524309386667256685998062325290526212611606481325466070749679024797303413586806643752891873336501279708963974526658404992862058324731235596014602002041980971701852791357592701056210276434479628750664779955984018134268171589057507957885801182123825367279469961220461337374366274215883847728075289478617919057873276484103962424604201503343465549520788868810885920997989006769203832196790183369496065680578271961274465825160184292395247089517946095870292996748546011074526166306881377845064621620312572733556544225054481245618891512025557828264221237767191107273929468825383201165411515008027595219223429122901747179019991109104309523268560080758621228571411393333972273756169985995074363713249548780876604779250156772605891614519974174988557043112952273886105083732854433958118473531986439368548840095430467652704219324578065481800375365483037399193301833577153559557182367969172511073006300352279580901233033563163993943845628353607722836454894373293940742250706077610566381806181143156794518348495996310890008181593232705335833507691462430603597588569759182831399592945229570283608163310177178292436206437944110057480811174604640130071138998471113390576074251000754174644819948960742646071730955108567304469478926775225758102596052700537467929458244933452107755751708321427150897846032321800525678014457045759762763710720840078784141657834299740760170556103571140837399438391181222355081514931380751974512456454839834838705167282578195087691768691191446565434167938007409099167872980116473033064740973609809278528363442814249792865085345722816605146874430561806925860581430269008184869772224944752114997248165528942486495894080278783525377957873787510058194207265209254043016667090323653165405613726517564819955845379912451135041417867209088958119758646075684734624927650791484776466178145196796414105214164768561728445462887260719986590563835102691266384745976741351933010738075112328210652206758459630795744752448025551245391533218459232358869830943063233229008054332703254517783851664034835284736383123242384846023681538670069003762824508015476173663525248958886363035820671780894271798563451568278726063591527585532099781039751636608162156519360040972005929020119615786878174427007118363109011148367833673425169271854987750740720249854998031958958623693846421420665501840080045628575752574118219537372561261656244492733281483948101568324237613775006782224203438682452119145858021644354880465710800235974518958198710258433387569065919952557470570944854005868361523565132284144325451814681135484923121081056235321265454594333029845446781001159976835719237528722220637450844731176070002787729465425783587972887080631438430708690190218446252668185737781426175237988448450397105348293324170324599669438193626443830871709406700066767573878002450367804940817303518743844261729613240080117833506139551915673776166469654282139321309646059359163150789837971857114015537180480206336954532179918628275703485759217658184094166679718946658900431980655316313238802308666725041670484313752234323375859015114232439962241500646610126334469314505632790404341424059194791592653707423234774753246230117756140125217392885987848969296276814426924111839000488793204178334884546100542795877237749546411352204331244247135828328180186805543915713541369832952860190217973846241398606619741019409786402519298530086221693034720132673408821820124346782004793584886316809161907144899686896423954671834378360870699029582792509171291131987063471457452718541064103090339740555625833606659557847111613548141098438932582769721700083201178295781777633059890631233098729716685756191806835086080184768709757407747635887834986681863490454341487980997307468515208523247852705955806880358503893279449390079859018469834835535630881033198202418517777385237176090294156854260284790907385037762100139849062765137353830299932689441849505281163605232341624734671676504564425531180762369065269976642882548871370641335987221284376883920295623209964384192111236461745163914154741198133669467281130901241952748747872662581372889373473475793889603308726252178593045168627088598668514497951944553342343373404263550684014212074455792136043519022168701407064110609988762356362637510716231828883116078771686852734522878830642683880094723488300718849757375214611289221914198881011042121843832488892475317762126835117946648031010015429153017640980188244204622311126378983071605464169683254867707543326021428319124205886709513555007767769430337808774340962444622300315032386463084441506220223483645126972443866593608674043372226950973177670683684565063985001267508277910639540297482468067521162805593543166743344536871562239168171784944290083601537861284662599409067653419601627640104365419054088491520539699666704206276668024553000749354786331865577857809003046966045864904983992918108149595359270563211212587076411527199647116899898511659886871234434255918173648819035972949867086443481900039440774594684615113799019426970562631115770586258372718315088495195028052851216049765997122485110539497628533280939091449298254183147772293587590224425321796896061972324306344811452066072169676814238726943103176318507898478294418946452570984865611644150826683579905808178821398308148514313682831941017398456557058894970352375993811659309542296653554188503755656917442960683325771226666992867607065290007133763818834967519173571031794944968575698402493933924151394740780074583744673603951800373279684631667147384749665064210360838260282432883396029719921369281316458157585169819099841446001038354645508405193180247370544262279686732468058273608483994455544349496931556037091554288108862848288488232480004816725949549195310266910140611504980264306077726613486299089546497529740817048152258763307394652461332169924567809224938151541799542195869052970474518175401697498063715175826827652228252731188719626814103181550647867523765366185450473568563474189772053637200713764618661009582200674737139261371693945439524155088921262446560557474326345997707131033699861022655878649832097901131303786007877174058700808172079625965710986002507418646423896869169568768087561812053501617043108804517720750991798262186035690656755570162192019962902282458995341546779289872685627291658353728823260327763470704500177882284463187908201462969551907119272247478689084811596939417815640156932344918958198338201560506862152290086398570672628303982403408185732418742426947797501435217355760934808594951793158064045319684221876550444186386754622276893668461085008573380677958614969147077260378285703216465400599165863673576100341557427865824902441492501889753888714722366053897589430918472340991365431002105160164079761506481296383733534135002015338578647498893928651288118570088637164261338114975617251244190965610794299368646585260391766934006965822329117618902735795692075900967445088165259815968760372293998844166229922053446120614248082697292042287576094078523136707070108146732266051484911913196887698088574994350459298188867853331057680242319770171879693798193790524453250846079912876724656323351339258701950520047134543478637304200186518657182012582578573948501771210048465617268677630271280415541873386529545556253573820599669425963623877945252620498447928462923789603911706570751441364695249126489620517793266525230151760002138010040931152974728837065200968672832972279431771748979231973440712956175619503609038702576304769540869498299218311820120768697284375348152558064993267325872750784593813961313944470893712065855539599289308514583011931937785506858103364930378323313280037667794255456485389672408779012881126063763889988645973515528148790064286951656338477879738675703981853690472329877070342347782779851620133475628246145284521180643053140041166234845263065771994864549178435389566310366488540103890998773803514989422706483914988735059046473665482170756757639918781740576523187618241116160574165593609376058781753275569794068415335121321225270171865532660960500603937093232644159910903806418424231582428841281301729157052204696899236997804468444870019813087757198437927686926745423806724213012492977059789253984547897472045402622839877207155108155064052074229708329161324837480054965868158349929423946129413780234658053930779292970726934468997635951550001451764754194624638385417498773210579812084184377930715852749778538053801910207863305407470333009094583220531461216213461748648795393138647520953236785484082545991190153275869872223955834663153489519353328552081202780232252881292384255956936496540041906463393382049107404171701532477687385260755121897784244551220061602030562998804620112624629593982198346667048760813645862020903658186307340962184580533227740492825849374019545573604574590861490703475206049246361700107355437780652492869214636504676908822789801981026626130255716918793095357781823611958866497203909260366233276231035045412681350238380685041645093564000395261319084118922237308797404562058762882648242018319924984989870897671673469222638357985888434289316799618320853902428556986662856421454107578457451886221649146917151527476678449436238681419017522500188875631020769139556991009001306137811969758780110450801709580420614464001124840519688965579523169286164048050647882219229314071230880265990221669037770651049360249784861847460197866865959438687243590889174402837274602339432403353734477803646348871377617598837856229366262245788574972920490873944078317869502392940248620532092547348296442136750535688683838159113603156563246538166651272748872726122383358068861311706669704256924517037567963598402819122716113971975726382803156666314995747967473475636257164747367687724722438533182267895813562624748269529273924390715911499666108517166244625851823361642638461255342628017901079379186857642867082106606514005416930981237657906648597050008598152941344812214198175795395053752610617317747679670919440358150595039734588829991099083728539137843841619679300779191882468403012448543098703842596668176505336200878021360450222877965483458961318081800977454375209665832359302384802243107231594627969513234087249834667807121832140771711202714117075586585140877195556214588659581036180865092701193933149428629277867608577743026810780598120437726613788329673457299036156957677456738936499123956167691684520278037952823218553533451884291671248537416985098724422104180287348691548474081771855914395356446092318340972398140109459006467950480254722564627991119580241340152228714090852165525390228017947915058606878741046569995479531633354114879701239731977022977225041486449539005662038863186122906350267974557725046494340361804542698807601940352126829182585122416875137043976303896315313450761905608895272200438946095906112086945740282453700330173234608574726906406391000414926650431684620710174653303430653236037381738963996024969943939525164768242971053934408471244044021552894819519721114288075129355486811186987635420446115642933894486186139238132152139067086484244622273156928098570016467021406592468024135141563983912241303334636595399555846880168910415497539866872352500992672039620595371682841743593273147770346488464781743017214262020473378937863323008327083764198511439227752625304159860827899061290169435551984846817067653867926223679236337695057824179510470888273055531325535205655146598001639704910129945537953478661969989895625699891196583573440701266525385179172670558306124457186066998695001784973859739621998740359838741171412519900021807642833488873140674359432824590295495011219994459079142556629724553900313437028237021581902433398000316551256202299162653204613737434089839794140151579271541101061134341180620497868724305551972544253232459538063396208343331973943403553187715393695114549641593848488477097604097981750497196134386103100331490919310318189532760068504267328195159588455004162344692562142367119631646145054354857846701612083339859175361548464565818352728540180693532539647562716475244521124120166491788192465582526997735078914908349781650509186341590749214731049136060583425829905198261296543025537217385758257798405926357770497539428648349047441908006698700328013467982532683504595795354613019827325627331881050347242279021661236542536217972469973361185320406033169844050557025754734425680124733783390843261524827512090334811696852190812372868412244639664477804836257080127460764836278086061023974867279360963673165498304314832975939640340751135595142909007283543630460349692010431292068208730738775951482937406614122248380011222414686048950715908690833141842015040736630776454827312688605929557432043674682223706689030217336192876764882284059637550852852544439274911859965757967423089358024708425823289609331557706336874240294820870581448821554560246586838217392851950179014208261179893460754135435730290642156070025021701062440403551527774493512764401529598076640388354773313730435035128006566493699056592362689619190968468009721911155976503984809370848943125902456189174588623968039430630591315748685078008380691489633522382607031922535344380083305425697942525269907835860933682297448662143913018384591304326152942170074003522488812377765568140860962513137045620113825642465127950826240265841809177235194795452713348356897353800493697246461590021095839138217751267500941261071784794189553846563956748507661692582180067499038733399481358051800701084125891488261505113288224324150690373018752884054583538424193870766341615330366363370577189836963964047393996678349505366263947664286197264704540154867035260241040259516769077080113734272669007290975008659970608076110372415991123111838269827666393579638225767683755056413089356461013951296764975371517938531350820226017130676055302466098383775760903336489630522259453228285940535176578885228944488384795729774980388001280554417870211823648015736438848801740180792830284118676335023236574939645027803568031782954275692052677391589599379743138314078120908345171202217876356902041714981711344850515447499437800548652588629978009771377206838550137254930727786501082325484123685937828049179552904728920150838204869446549328686245305106091567626706098468781820381790437096341344394209695962339552133348502307724674308233293645346156834423774877915844427835586906300037403033582532692596355369285675928802835098097054170183005301820702279611770298670110342612508352503231723147668965459338367838377735674574883091965168783225916969300887308743925339276244322986631317060849591222501017932569857489471249028678907777673107831146652850311218663383676417625787201833854416854121934586793456687022437067540508451112761875887149126726592869513723472420579617356099919780106378834855827039168259125064897652710450156962288960280500077183934346948548477334991531884132203808017350663060728611690928125839886111899492503053577532475089272968746601712358701470494103011738614467229634115119910261880296517954921438444362511437241107838074858355257138827073573031729695494102702355879416782453440309291222167951590013016425008968913440608850736901795122221049301432705391810489972128698780120059182866358661574866157364391404596881803823432177994298813655356168075798469996367397883387828206357613034037895801603849317521979043733060898885278707406661428542372824952825150531504401224516032038243056922942956643724719339915780501733506057125922350323161632747473224058175290061080414494001012954823577101644355252200072893945070975486432395620933404511833809821510096127368538850171970592934813315917091632680623107781049992263219793771473576603361185060075753457870661252006846701009336182176120809605425222033382587560709651455416075376094952882748126841935866236773334904870918896275479925894367837097963620800810526819102051914595172086774205541371048469140023178132308399832541530640168848951164226359366955363156815135469292698650763705648964502601384785788475400933574068238064419774923073804025057202554527497750504802171679607326672399267509755024306201702007215463747278312937680280186189077664988238466476302013444323271364362903525822234298715975623882756916301984782726011226674993083240362736222974329016681488216119419594376062443795958119202328045969606704822318745162215009867870872875994806276211196221465342324340495924841240730874536026665000881640223274348990506424427376277754552868880160519853467892651894652350731063105540558081816911628932013347551288213266274812653600639294985963652748662501459744620833866962280278159880736817255956851788500553399681030392460684905392212151988367047427061098921845511303305950876692361209387045541180993077845388394366534954435531229455331705883346190766410873252129605806467482585054344540853976753923940844273657354931817090904414171584514291794405003249429377773906030778935563290515198872804193428518994093857331211305610228029999296891042088342003988980411662384970857929597595974815001235400657715731401556147360712548739142077827950788294972265277392148212020909738015350812159380025711514801917272493289792065132321005263802938962114780782710447020001628930250539157468497848502315563215410813581129612381779276010001643283448327404057997412825836263742949580387265560096222088008450061497629377987601614409277017061050419538544959478065951254562918821976095069798288366777054850997864315335630784069617649927210890631257840133101467825621882560710540703468469735731947336270804045314409579055738952045945638773700751049001476200766540084417516404334562320229991307695299939779463322181069874170408139778234802260837832758584375529037399402051167884850471105102206764403803015966177065948381763110135338347355136780458285563311490592192296462575860904266606405013088233582322907348918198106125704329522993429412378530145190656199046725175801554055470515367533076924702234452104991624925005207745656491046790514992717987430350198109962399173846090713213629391589985822506839406562805261537860468077747353617929949147761010693377973273164761199017789498602457043594733773813702876184290363446131278626125844301240931614922127947176936794911195042661913532156693099037369099968673791396727170733004408530654350132182673173745376102617862133055017749810212900206908911849465824881367698129582080864324089055832203612303307216849432208891611731496907534180930713367773191053959314885977916049113903211861968144526481612640038227507932293945199042211239319969170138247819719494466603792274706167840762393922606721379436672674437432913013822398058237596438051052798621519084166391398833190070687977810474215816207956546125273766141573923588659131999959694727261777378127537120280197747554043238407491877674166553219225805736788339063580214713938867467401387279457096586164069087141328679754171127922960927110548866235921990589430036101474701589634717134974556648131860128558077187306909298204245045149608417699382070167464377870334405297189946969020075687620851233067916160798152898798707717500753794661933638968298685105219538878276571827752308291733647191690960051327705574568760949004855450904358174778264784431378498111835021409857753284171039435223663236447010417047790170945499456927496195233204880790960989081001854628542511419489991986803755755342307043547692961068456733073620367831219256198425624991588567931478924445555697752710270864740925964244666915173104689059157796582830322700515260552729901327645282995336005391998203499359959561228867642107442758552598290167520343169457002042351585395340687430018643273464807534112797424471122401959878836052704267068458021459815103654052438261076186745922693384262950907057944391418446032778941192095160738361352281921827643922530678198301927073716845020083188465029416585331160187193834252001430278616301354997125190997991568032750729449444644306223666921981807605084149509822882562330020843703413765238695464618730482562688679303610641087977539830829313653748673264619078836754520284017463146991139149480359378442178724435894173060809687385240141457666855642939720640756533656348609817935523369749365301478056710054953163800564896703837818708218458257403693292756051111515885352539977987713797645928018599084937162303272715741463684083569625516768722102643593208786804465308509075829984430975430389850938607100849154415375642481877924366466027892889897225142030141056586968274212629835162394405796936972488492963109508925747503835427896094354541908115863316533840096363323462183597527547155334291744979362603321852997009018106808750750191283211583449776033988661225381954769724929005889624135852614446605465811082709872697356324819337077678931658567787504695879396263120019343995672103286491368357217159286597458639806146419753617708683917382360218396659007186118094609226209344153597991162183297049274489133328239788144380336482148722214506398906131566564569247059917752321687557137324538025221712327600660566864991208734749881285791107675515933237646263243997939938899912109306977996736911862445668727796962226973519215961925998340570583441690322931036536564004769466012841508369019749680193153120315361197753644974516442464478928351348659485790312750422749248187245968316316975153654070202167638914398348442944173451427778239283324964191196265028892414858379141798602784750441590035852260244104975473039096687525606770938257589214769822530668169984800150336499533980618293756753020816797019103541108642770697604234979811583586566306870861420657132423099719741739210422977282849180258347657213097450853086834388917679257376951566363066560274704735545674705234931708942065170071736605801454377785710228753847426486273821234637465062374647492251668139459652405149683493373458733871753729114111314668609482572093008289988556107944793316695074966909721388778170679982123053707860231225954343056752251693984123269110182942481864703430050436551119903435705329342814677501190118272941243077995944514024419016752949208260652318702011375691669076217518579213787911552070750151665189609995403786258027011831545414566645522441241187006433576085401206709438626923721900993175797476822822565105681412038107876779858133232967178668548195633610429831407264739708249401523655574187171240596291956953788288050266566463205247645273975797724787645895012565674305015281270810304281150261447076956218551101490429960514828931124360526529554019211685297824583907554776146618872925574619048473429801535589966565429425078017486525215980156056782503665525616991711669822593099452300692005367780272682093475323370841702749583321524408546074670547136183772238809493914579280291046537646999386068749016757543928743169274204793025886409383346412832215962239303596563317159711609721188059990955836606233818361775405724922580108457067447734164149589685991465689926188215533655536116586922675692368366440704155731806510454173287018395177874073252739686599957231450983308098493433300666312846817933469904842199285682709195361497135343749238746480559956568607249092230452453724583600425162948847539877313757255590489936911959845222405809832647202388671129867044302885872067029061039571125567510766539780472446630845679749720027889779802608991898695616750002368278597735035049339108475672543290880547302063344936981117999448806897477682396829497049382248973717874323967127035770361116197502052710439983794885111405748256614801964358427508790672086258703766513768197972941504455725239435817450429545846470031276802022430404274324075849472042695982090266011195139567563608909953103847665515977103983631942587142309382991139063352343008546569382159040300186836981765164325311528438178869133106149596362044972963528218444319457606348510114760814123326915614705730016088820935163241564043662083574491464137165420063625084350559540141943108554276188627886177606257612494594070812687691846191667378641473723022441336195660973852676822438518215916425233898764760036439234268938568435485558160237564018296350842784788612592209486981284472388099921673321160036477666184034775397458104139578627804199178014713231893141187666774119694755013609898798090278624304764616092703377146480390738812758080851238743310769827897522555263211665415594094231310810939753595341547947110594196010682062431065211204480485677458460391159819591547156226139820479317022174586788697195424958939831865468153738383585894672722802042254725025948211103146554234951604211850918265237566094430219217390632189756686204728361974556516477313747299219470989451498967671551684664592478435977437179449123429450936242183436072827489584302678837787651831070280717454474280280466963496281983081562677527830527025611055264039601189970563099594969677728626966436444860278719629177632727650082018436252405398049056548715082679209362816803038625099114366701063061092076819576305400926480381916068835872942056046753297154917134377968437684482001825483362380022647975404326613424987936437030380308013142792872444412896708494102162289378536110119502758388905241928408431679969332458580434370918467562558754107308833566934444575369883347438755591921237425694749982454375627323003696659760387307219620950778624036918110414692144565484001946950175206882924190904594075852504211795169670771735338440093083727584888576339303831441900567205733599444774777223937491501838459299821841052686446303605345712449536332307976106853308865321870970880555707535465081082886833309692227806947736801938295697235762961196756079534712196966890164913470108509626695322401565366975114397559033984757853188709899813343119018837083381701601961798928231995785221760508808593256276613293549516964857693282623469840941979652987238520261607892965205698307774451659479237106426854397663998629374058547441947475872248968600535529805099123040977199003064936216160724964766798256644319346727506715278620252190105934561942225678975415117119294941500500361779692944864700151780661846910806475707851683288409047368119182197365368157732754195757990818790301031662310018993363714742054601114865867513991544093373636468272616684983238958074228987759689068084834799184917680900365474322104671528936593731717754313154822048244031780969113472798933107128764205346934341550924174534999454718940546053226370860826211243186132121471414025495332745037692102369609911474557578409702219847013876867714080260575056608979249297219660915332360369354527993827033961658524630719104754282727170351321882662731134563386900651289235154256466523133265703283015035086422868175386798503504102301344440024083302764652996560476008616142353945170903013797383511497747724982365842698011093985954398589564711410716539180710895836747099464009923348112342179231501780815664367552716946911859573414616682716261729526585686303830498034032292904844878501268832299907835560156992581987752523086704482994662284217151867219730017634451908932922401870757034437252047728112814700821636720663239869506474072130092557880159534166657465966234228751502925802796615272525650001007326045118143292475325577983383929440080520798111349538253670689163639739647017654644153174787912583119989034391091075257446016900310341974929312361648973083416754679263564698667952937207876388045803791743626163919776787230281035933942658608275241880138055269083860031524654822655202149587192191019803622378815913576481047784408248077317794166060841240112550985396862398685173951579651334661095225315869047651216937001404234450776844458186186927595421732543190330692608242172036754925291980628030204004617839924922744581520341969640999950682693849836399284623899515229673257044452387938459657679694855216282342653840175133092561067522155531835513929182945877196273706113620897145088809478829088425516467917083391093488898109906323352668705750550607759362953470529036751068610208699955986772371484940915172883491661780318507407590720868846005478221019405238278836642455793080022275492228398177571785751164551536988035907493973406716484364267563722161896616044021087264890895533169509014747214048629906666110637320844360119057250697735045377232332497662097131761950875831191978002218840654608304793622451857404177154698070990816452884395659911807396675301405207162337876538933611101359855968655539580001937177865608985276963896276673888421424759570210231010108245995166796336071074887997260688304924055239293195999252184961725665968026274580630149102945271313887772894853753876638515575733561557892927695951746853304868921783419286886060927205612317799589277642704243729772149329316889085047859937527040314664190858529909514736553823992186370306869122858459159364060634790003278900153805069751331264121674196364818531132945388437152961459210461314695673401957197293798011943431598217763917222448357806943961008333822632107689563420188813651345665724628803180057752949100295280351442239914423624622878177353884603694899844732982211412422594243419248739894656409778750659609172607128886962734085227982490576190261501692571844000179460795377264752228836614892907471334289165922079148318249527256590581477182342606387014028679951915122730159086250132474491344542299296601098060097558764086504301874643410172545690348197120773211214606879783700931416070469069373968151660972145225095615746324743788130697086336265819653894316115685942792179549782818409587859042345573076246517689467911220323725412896122145609759737989996873125330202483858602862161086054567170968469642822640975192722091339640886938142326030120529953117047273505932601132993329616806627412594008535312821096836663409856916722424259725535989755832505481112967324893354327542284975210198486920958960574112485479927668547601164841395042123438948619118260718238466669227270648167278550131933298250644801208320245484327809536124967379833140978176392757423268610798450395700550459705191528879798099489135793497088444963359947497870615205557802188408522554310019798254505977652146391016589172687166466341667990349348471410914290233240436065800900418790047888711859994519526958239013586781360281697071968494849610389578980503157292734412501463506372753471274461679997223646606522636396608054407013826813814253944336186192427797932869977071223490811233880340257865041161708192185816067456819552339192607126319199165816896217935559191017091002078744010343208274899727176894793666770571279621204091578644779074050968197704657019369133551861906230890080127226054285748161366319559017539056994859176778545621066483299862203597913973984016229023762617837622092202961194287463586684575254789671240423512216278111376690756945688614755894652041900823740690831771758721874128142842071485657243397916480879009790764834243624860327476018640673757784776172907447877491276683361082267512624948485315127810855350632966310568524923884603869083328443403250006454495270684574513368117450545002123836303638715511695941643193600364936727032393637406088184844967948193989046216578072276557849005374936873988619511361594046514395766024872624504869209727317842111585241683443006212812177592230255347097713383063232931076504327320827130299090330651722302066484746178102006035741211489747284999676395741132621616289154002358760209102629086681545878444361621562159364135611862207533701409840937360094508255430449320099104919195622405384632638227015568608801888421304511132818623065454689643503523059410008190662487116339071495569706022981187333045812217083772161769127024034119307878578735945661929153907137362164694706173207397341710513782159967977228445583343479232839035051306581746810577151739157764042355861886598417548848819965936441184802175316986654345793561436464183267886844133734148000357568185878236448539165943849718453893305853299108649942634720802463172494146732402363476280981165241292825228633417410648263144175778534587435982065460249740725712170198798635515711326379215675660512224359142931299084011838195589924844024152323955396006410141271547202763022572951912046210858632179932862647001731059101470908295188681563607578756005664751941601627456049643194095252511179311153276460316504861025433203288935976391620475344848845621520168998247506972301524797890044920421381526473491008492039804816214339605740321732968408841146642945767717898640095212191291052424445382792213069813059672959636859101775625344262016850345270236901501065382847306119740166543052283266569269098841034986732940071363873482427529757007001459922295994386925975527439414909462852271397090904020104413715350625858240616768521674571066002065353431062486233253833385670146190108935995569771674196534034545289885025922909646231147599400580321452906511825880350083188253676273947135472060576323356507106809220990189690821751161134989728742171522446507783296550658319416307947013152480226975161140428181371840815964768349817220161800162628773379796877438120096336067428409918640583195552008160213237384712446945806776255678651106050335765594822299607380385947514725147548433994096266403403968091507730857866539649130232300665089562999929384720669387012600643982900139787736253877606736325423117996767137161930034457747154579034872141098424469700405103675819234326398938166598979218394608766925166222258942711491673941672726967078750091718624009483879504658842861527531943909841360680437363017176124008483189346957504541897923313366501931461583076938050602222877590934191674494856146248379934133814084248095319269703977366258790641893818350729838736467275076924771035158946015813570122863219629820113704239496452771764399130763170009328007182411994657157742420555670083911747670274206311976328670291439442110360573909066677081266035784017404749090900685205017056366670060125145443542446721961048223438999266157239863498240263195112475920999965985237738933349745989297496705964035278858218473448392251313137436580852290009387846346384800702375814601636507924806112039810833419214011837146631831656859902725497002771704351751455634283733291195197796356868250808421828654965432894911069248919345327043509860929632726486238496806251139380881868903484866961388281849649367657499154062078041361083197365004928510775281422545370649605065469361745491858354064025707458375824852147937167486295049838534765329966465110964230650140679705677256113100081031919956118664091386911930391258828310189675197265323188978148579428913441598162103924763351902183648092996438282356274953621647788948812556009443600259803575348355869431619168779865098076243776215391568392716480991716662957672228109908112232020759904949094999973010524958065712726961640883868854121518187871263105053202429927038864815431657550001826316980091445149856841222621826029453832035897682836373184368051918226685938672557316485153597442447443169424174168228276252447151019653266762567320866101932803407314892651139773838524231973258516218804952017437348387821463516741463826077509168900668260499366815033433777007073020357597578216443554627523791445528602401280806632790553959132871268074520750845459812488076907374746374818994597220341209973903393358757293000287412763636906326753738701521686007656055438793641557897118030375126591978880822018854275303849363959575852434996626245017898503382931005188502400842051959541204409715436438109762911986848864851611442281620812517576266404623864210032023711548489834267157767332540165086034230491762638610538407046119168911488608723393198805301711631641976527886512431534132918435148106289465864099305798932557601709150327990436786418710602944931208513783738958467460224718691265293011019406294040720044464154781719911602276812639231734066494665184960538312121544985132965626846017351176967325316388402727263828534194489377939678890810903305364225314072877862042785369676893881437317765865001764712466218242387191634196147319353951766391002675947541224730859584290552945334422528720092196972468058334447911967431298402340567103656891309113505806227919770230612820197647094762563127057912449674519381972361704576353130134442127805548666290812744527357372723855802490924726654553014436495045419862099624489489060060211024703613487690864979958334962172629136212523159142682800712242840852516734490933759804865902403244202939828014693616191731162197411542485949785573024952610766869939731213869773812429403375622267186066040133126647851689002987596904533060309607335645550655462706329522021066237845671660239930205407895540636870437116500773642330912711036678448263627617203319499239843201001333901561920927202261485342778098282934272243994035002807399780282998415775835616737482577417508487708764565968594008138411634859171342629623845488037187725206976734410468712500186892487206219835571747728137850741086191583213807025315704619833185159758956858454798017373751443418742530860290946246147440765454246833212177299573886089331532288883703881702565834508415681475173648147931383742399948359218078597343790633398284678241195640659754184666457221653793958402587976506766527741816427498208114625252161603486873751280513488929509924465845790389337131924165064288496926042861437924572825395595278955082048631935624794515511026173159072104138774573922665109997950189099373761262838440688770872804519057470664283009607712225962404354650163041566944023325036181207844199506955626308132997892415261626251568388942893845989464659712086893195361609995114570390259418514206248380132117709088140966338655331797863068548990250992684599455894684558670495138436921599880797358700660306484344719271299504548378280798659343076721324174866833154024105506453418005606032489730034585218455941351383342900970723816397463277643149165782567369648850884812071555099647179278657572127855208785531495249074624809947285786741192707606855423838077733664951927834523885929212855294737236071714405147486439372685915237207117122725122640327466151420329909264686541070829415008378482116678367626413096990210800701329110301539254271679838540450917345855825934934839902245657761661683918195924471026736604912062926183860823867486472850350495882550687772068815935492763883718475693391288989687914920604640920024332428609104807687579027529070592282068679117502185160673262164297704259064351747870466653310622009667923937125687909015934018558741126379872081692312578775061779876613720737844407337846786564596497119715257178894921349280867265878985189147048660572422044521593729110228814104858488767711568182407695592963449391555419169178735538316015308488921174814957907114154630315916160095340817888479778698127370667526560334067725618649613754703525548070715779048920026988069893822013695842312884547332288947166862881505277810089117763158536642666060017733177349428182724253662097070488623182615143797648348912623326179680744780527047497618299512049412850985790543606782827467284355082400033665408417394313849865623746113866974148923519293932805951309079997329874662812222989937559054423173433707564077769814489511824457638065265308180855645621101200984463675510777224788511004915312766043539200397854915809950513734902066012908859190738905734924032948325497103800345777402879514266727707042241781315422464283841691305563450292638655739450284662687933810251938507578818472032048974478989715282146315206821645071202625919535006845761337233694609048773854177112972083409828573529310903235480011921793483744135268187851641738215963188236546032576646378547618634278261343573880407826457117944396511014017720428242909274531609662047214135652072386476133821972788748612847864396091805641227373473593171107187173958671331761776857923707231035949431543172907011733197229201486559932310273232557149524952295111836139382217813870406179099018349980653866395730049079340535036059647883577154503851681026556452770871804013910790677314410252367037705145999311346124753595405469593944324276606622726516347818853760459517219464472901606714895421767866644666403427536036601021309969123753050107626484852273517757511363831248728624397539225533727531315739195343838380690255527900145596609020864403952650144569110867047958620054855467504019310248248775455255162825694077133016529978419371912957930712777583636894037938882605558419437578376640528168872102628355577941088971161249527773960400738364403875350166894134286658553597056208418636052879948215653055320204511762890834860961751207604802029869121831899592293986225402163590739541351044564946599131451180074245799334865174616392318878558437376816575049045683012358571760029967165001031326649252005020657041410078276748701055313754914131152387389085104067153291363228275647193634166427100084758735549241446586931111537710577548302558489180458503063212002193913718773215987429325829386179293399399329309780646319096134320717882876127891946701725078065636669265324292789235970530187612614986641845098492425372418731377080306799419000607791872276523898642938399474698779011908754368835466585659447169571742778938057448229310657582006071352159259232314263578779061533977824588567468840078334690469795624067809468952610827304134094395179178721662360540865751260190516458228290624143603207990439284037511166099983725219931465912236389549672569229184903714564800001355395216661623514196279057777337656859338229911479984142300489329595575264577785794034046762672235109639689328542929050782279466131728580068059551992693338819067786168917333759713319258538559470628683368496993740570742009791704813464441801984194124414515206093614737114224338802635243829613780520282294083318337905091493184243944453337323575031200487994530651386901621394680145288813456316854269754097924355515789587516948658278540909955319953361200135228325226210765727874637245688246641836870566962111311013188902582349304295389584465932262241611051727510175878267542944165906302352286874236562608224339904958412001144730756016816257645204818989845718190872499104536930905189486396988038757681685612249303028081506458494594544700374301152661739849351938018288039245751271375064567833776285830114486426332342358394713844625646100021593458959621909969285567116705714075925906299614831851327319596299249171008783072007383373779526289978863119069283410162789087208441386614289439265760611905315109340373669183807791798218718431471775994311461677614513807153953506838570624319615600258914663583274913937359214193324376087931109828723163960785855961415481473801411807589519769205427304261281789338571881211198410722492397394906337975374072427062114213455136203745441485213544577294407010699362767137193571789281677238844049104087441770090161298634147665760363153263518290679903591697252439621476360845394680081063443846710245681200117228517894598592288003106565992378923693620174066093194541352256397176028909693768912374483850335047001243301047000613980608929059487107464137665143732225819300073604931101828415746310403879672012130691759594705598287668241098321556167707428180349097147245536209806819043743695284453529991909872880432055256450842593211206135618981068880638764729714968552808199438848937743707244033486322303867254514577629651937252536340568624941819080453117395012958844913850974656193782987454120769507217075799692222887492934623440002724035031252542299312260671098356886406073725139584329484674187101045665844167117230495809831809755496448980806336212986800906576008817759513722798430427785652922820133773761403759628724771910013673864556299734674189229062208994663957933596262109680354379634682907528480299662415815017606610146203691812028887512912261055288718272576750640381106594240485986974856641479669236251088812401599911683451118674234347389101366034413451115389234382667799443345996460830797573829438963752784627556711301868021723588554029743768273656993451553051392289416144366562285459212853822235437101249722788308477927363701275016108635910094855922432459671765328178866023039294019154893680279131388003817172075185048492468484997074146982280442459682695752546973325440120184891660712505041147561099028013493768085815284926133879789412562118132416275541862685362889615158029996394352732337538080776288578120110740351326353044959533800769131056666487443694608199724212031851322523373254208608128117953243852606475294216691869718714488828339350072041849328563798820845932842022545793403669702565875823108622867480292728898849229613373629090185977674054747340052491692229024133382795208678477137226626594223645426727657301477604974333768287606647504510662280430070793766351284941151110640025519740232261078217202739659816023873592909821701255057839513113598633466300123130789843820533335837934745140939042117208003998222544911092475954251750426034689210138174822499532013484092185085503908352636672193658479733050913616071811513224250479622033189672923979028884469686087014388012625123761897969203231514680483316499298966930933683626427899852670962014085302135648292590160724967716686988623875012452249711820880548733357723909237787970478636109134529329607466953679150940036203821963189512361396296820195279606904267232770349910541812436214413235625771886978780232507582246660606079381487749890119847315984046443431029696273072675229187991446292541103786689172246701753152845297753232627950188622869056934233649976686307872424633240984668042772523795874521498182374005891915968863277684397262213165489312697401745668849081316301284656841272277839387801896428227243222219153565102454238880143842553811039462640826315975599104297396380775549712403081486168469453130629783201599302683016745117768560686025196121093557899356519543259361750031107419967538277083286509557880994684689881213260952393067187226280138497577444997702593934603220771448571557376318061399256587749792913726349331333041556558899496043896080323014068800523481198676677216751527308585447424656939112153090652581248381242495132488817245545438336876553055810412217832441245405585752682374543440607707253255695444868064873163578087719409196531941809872291815206011509681500182021664251505198190879065745718152653149602528571720057166033278564758482816657955848473719031474258508468965107890961758198204676079909137385287069618433395040192693864558920744712568058263848049384261256907204366998673366609969989654708178708462839435470930527863429253087242432976930781106475152441316627327410014896014469748013287074192252673613658631987602187037339497534689979535260295814890644681074123091801370904866624256826826169277942469067389801384193325089013964404989878724625583456653578025256054128019971666085508026803446688438352679762777178928397456014428589463820788113466651350820043761221851833767273036647149001638125978229731458526718123531528246896274865412158445566206159549892622249689975166901736075439777691347940951656103557966281159159625392991565905868425575728412347494661111107059576151940512477156110357293941349447662401726757934011867335832091339459693324186816689504291525703809994598040596332141241043353678425134457157479280445044173806920108278770568502446460396696842872330252667513471514855899411217902205394740668046896958295044441085180399578185436953867890604797182236224507803555070342432540441214876297167534683632737361307458727166379642718301591966813272969059159114137095694455662638773280422392108333233784791364172719248909319570234049041330459575509012290485794709055321759542373505772034092323281281526040265308898597600495580074971919521257229673236784608159684103740395548624809199739412964434857164517698681083697163987769426066078556475504812278605764409596908848322857499603155040480434649182563318297848995705029343812030869262120423023310327572433183041289349485253307207819015816448061635778614815482870853073451605784641536892839307081103628221898442741054253292986563188775481685647299133158995151447810709904470808773671892620950827919379610068003126379669937034946213805424127409846528208628903300091276903415280418289916290699008128596226469855779960435752052764384314392793459195888053841519486732461468199146570262081595545193846976804493428622556425429863449478369109903025894991736376864656196276400532237573930715450282621062055397761654270065086817888669591529253848828912903757821151206718998132222648113637376421297060507575217757715225375997687172928622192748112026487394720185996770066002050130621825960513291521756988512666998229340740777667083020020095582778824910663257502072781344892722423251278420358281557986598235443190970514632685635254404083602492553125385423799164038382758857327938970049253461970263502339157892486934035221353955060592596759469156352709535196375512653521777588599146218677411903266837631943393614595616361840460294553105025741437898551416651330603651003620279571438553445247724381180862708121740048660915351231981141417144748614529561039068058035084008743418662795035479740540611895170501080332020758505487207211156600784971691524742358771947467256630488997567829385926799494741464241539192124714898440670538396161346888953231987595652459088544809303449515689675460189439405954387828310024715804118802132847660712874183893978441791353890011374575961489629623567077853654986860485982519828559262502322953920100426096642714889934086002388389932019427702232375983129506956928162797988285741950364166095123751963994289493217369937095692038052464957117139342286851224237884708305479073807764434837763378762178632343550291357775232195471295785412423112117136990711254746716351534763095885365907031270300343017734976394897084861190999968885895242678135706692042224535548900211685797230654586342015864364714751975974358269774691843007551907456520418822674148677399505077030977149169099929029569907120170753806089746606950557390809377813417888401681633324286759400029757595226936752006712698218854158151508235839664104986391356699217631907465619448149167428441211459266749924696419420031635310296192049632739474976942875848596510209818069475925767698202536800085943166318870208089552507304772058933370968417920889911196601304787534513606200193742599055586378711608677771737454501445684119437690327927693774855463755629797322575364281069973812574427029611570792136396913839778871622052960105413753220222916830370489369785701151835962499797625775584708908396192703069139630517686907674510259362488439714638360517664690077580425011569122047184820118556879957029153618099070602906224814093453605701561223252957688580390474503154932064904424314858839278316448193831618002363279902061118944223345239493735352199533349270900433809971234735266803553608773375350147953104286988272847559589514825416302739096229079610865698673979285402753588197089256469875090202611341284968033105666402543394785653141091948766773762598914405573955385295955300131153784622876652393589830969002605934793740845846244882351751882260786278760503640462702481334186806549280948670345859909537895421251095669826032021884856237302149604126561887431511498538709229066454274245091387900703187787766811284664497061162745102515503714105736818960870273012939099929581483738547108348487521441695242317591425932182237937234742191474217130899640791586638717318355309184071598186773215567774601462451122862216285828992395206493710386925181815256622531173418304227201583950066972677311723246898301653658273535716253706544496443809362296432864422755436697800409773816033838951866180587921968323551192579085559036441376725573704100419811888442128242646119739484870187440106954555029330002657551117399527780669839832635822670936084945878324043237828335716593460772980641023236697476730734328942709187602681451024988029784862271404330987027245057244056519459821717811845094495194708080023817239001429251373762463101155421675921817419258500606663793579014212346093901160513934353734991408693616501952850283777736852706864581665246900937873492948819810585215458412527718556166982755072308413465156397788894353937893533494012829783075724080338011519485293716009704350814972783210342482015778107297057442315695924174671596565319995353135902778599934730392232197220332145631709146331656964693541958690971688217908482449645957482860450638382899248020692555812051579588513650215147924885566503321624542132511690461098851448788288377491065605096769175354007359517981226348978375842580749816861057895039292860672322851164038525328817515276812913002018192333245820849818568924984806779757413324493348348556000168646167862807376274625712001041613160134347349451780317880494178075564604186189682892173560419780621588518089582959145648661276664421372174823336603591158049851254155185716328678597308939844642838345754641297482949248646921051360722775121431396365494138557682356422921800409173669026403532102127228414670236636545908092268852005829902789922612277444132231008965187801376753787947909582663669018704831033069701235586452569084674242230761451678229077774812893277211095755734755671867012457988318283499941017635674775514898002357740117707906302964911293005654492297108764677342718037230927900921523749483096874586653285956362224262204759644356678376331722890838575330582787618353816627453518404310590222300751386539366876538130214901419166691384442313391650975693385465068107190020254101768092382937327166129632298959513368423212031121488009538536822750266494622333308661301566851906698625573664299940790183698541299600397035443324838387297849192768713832431736682633654749741814792853748597355839064637649431909433363978269198530859919303842464590717812251185362660134205655740376988996206732090265054335661227126827232933372278176759283867227629014871270599127826757981590539936084115533244686038950935772489435744695023409302021480707806557798562873588471603185241500183943578725034742872796150932489371174802682470249309458580177243365500467498541486122613801690212938082566400156980349923120848099118969522865935324139305620858687844892001737520999501374683310463060197857701789361345409728007645923982927977561589387055429418554977352311522711153793838210754682091230518786765747424052667813464520815665642036770271063669391866860183679045860523048624798810958597567559871345267981038989535035876455820356003533972336531509534366913614023504321847481587488137574786651221017114433741805754121094965045909016593351793135695663536835652413973748158455317187721172025205053872399793951478151858728265291084669021978547189915960497746707185748406326114346868173606370164424600076908351928352212780999888182568370780742755825212807411223867688967596435755462097475664915362470168476711745294720276158006945103002440042966349016785687920834578869665516532099006751058365664966752234790343695151346071146605731804601874216705301362366019279745791976858496150294401821672085200521166873726646815883060448580593172753325966154638818261571281910476776527493041709099258846492678667401174272379409576369484596819176186772432273314556488161999428358417549771985108655044877956277610817875799568747069314113842519491602209528514550263827005690979535880041016482046340181894541398594362475179044632825153319325924869987939872858693896081886722385133458170469886544726310144218947495254730994856545207220453552176000046689230138315845984994797442058181514508719910011833009562096487910894592179276128462470778774035571158424710360459202374573010299389062513618229027886210407447047919266202993396827108462522177632814789410086551048594432751205080091907182715260401670372749129775143413895120579547525244165503469911383715225923951806376336656266226180061654457344182943233854527967176712359981903020503503557280223450050698250250597189340499220226221408527984455661403148963939442094449238027420777161052138156792790789647771841808685075900930080185882208940456491197643894551291732383692987542260031657236008011119907619993865435501548517185303400804344585850792300440292165083753314430291936907482611620019988396317078054749413081206065224206213438232971262246133029208209256915292262917622871747889937872024310663332891301755183110379571209402547372002529624003987469768204466484720008230187545117529820240700122657657600189351374814184706728947058310292238861476913918113634869291920552786037787722151909163645682637739474270468483171612460665586590430431420940425774929395236484843230252756735311942798605386792895432483607299917621722542564018820663047398476825610354562865481135885099975580998205103751791295713752852811175579697812082545310626693521752287548406790168926699951602483583218069123591739286412841079003481723759253507376247520281967778882431435854793612305512474888238390746518644505569879458078165269380359542098588180291143731190055646299301570737171938942723872356028894364488064440515760896709120648830302863998274842912837867556294668640797448649579995878795170201448428324848170085393307959560620456899620891963173927467006774311305549553871300920995940153517023882647415123823595302808135082877180304222562785890631487728838152475821004866350557361859195379517514975310547667302583038089706902223357165731688569699981614233552529919387854187914890356628536127031815052497382145341342774977999923589893381456985536089049930829710376385330487676516278840434184309036914876082231186519525304089372453788046135385098946000610706605772079355414872730103900632303062721588596453985777536920699515531022679072622958490971900374526656194606731355257074483396314574500163080366701958400187047895177719001980483246513353133499573188230797725442067295717775358673821040090598728862680873659628634965225141410748976594180813087036262988555005388841230458619370191299755276169337893809066050074835667844505092679072613551960272934627763850038347829958211163183438345559242858554762648123469922153467755010429669374032204590486614369581240973835490695007267089750685441636467350318422214219501763447673319256651854019466322219581791311153534431686555211613395373896828501047352628424303266721\n",
            ".......................................................\n",
            "False\n",
            "True\n",
            "False\n",
            "True\n",
            "False\n",
            "True\n",
            ".......................................................\n",
            "False\n",
            "True\n",
            "False\n",
            ".......................................................\n",
            "38\n",
            "119\n",
            "-104\n",
            "81\n",
            "25\n",
            "412\n",
            ".......................................................\n",
            "False\n",
            "False\n",
            "False\n",
            ".......................................................\n"
          ],
          "name": "stdout"
        }
      ]
    },
    {
      "cell_type": "markdown",
      "metadata": {
        "id": "RqBTBNP9ygxZ"
      },
      "source": [
        "**Write a program to demonstrate the Functions and parameter passing Techniques**"
      ]
    },
    {
      "cell_type": "code",
      "metadata": {
        "id": "4EkB7hs-33PM",
        "colab": {
          "base_uri": "https://localhost:8080/"
        },
        "outputId": "d4102bb2-c924-47da-8e33-6f8e0fecd4ed"
      },
      "source": [
        "#function without any parameters\n",
        "def my_function():\n",
        "  print(\"Iam Samhita\")\n",
        "my_function()\n",
        "print(\"............................................................\")\n",
        "#function with parameters\n",
        "def my_function(*Courses):\n",
        "  print(\"The popular course is \" + Courses[2])\n",
        "my_function(\"Robotics\", \"ML\", \"AI\")\n",
        "print(\"............................................................\")\n",
        "#*args for variable number of arguments\n",
        "def mydetails(*argv):\n",
        "\tfor arg in argv:\n",
        "\t\tprint (arg)\n",
        "mydetails('Samhita', 'Robotics')\n",
        "mydetails('Poojitha','Data Science', 'Raveena', 'Machine Learning')\n",
        "print(\"............................................................\")\n"
      ],
      "execution_count": null,
      "outputs": [
        {
          "output_type": "stream",
          "text": [
            "Iam Samhita\n",
            "............................................................\n",
            "The popular course is AI\n",
            "............................................................\n",
            "Samhita\n",
            "Robotics\n",
            "Poojitha\n",
            "Data Science\n",
            "Raveena\n",
            "Machine Learning\n",
            "............................................................\n"
          ],
          "name": "stdout"
        }
      ]
    },
    {
      "cell_type": "markdown",
      "metadata": {
        "id": "IXCqegvW7HFs"
      },
      "source": [
        "**Exercise 2**"
      ]
    },
    {
      "cell_type": "markdown",
      "metadata": {
        "id": "uKT5b6GQ7LuG"
      },
      "source": [
        " **a) Write a Program to implement\n",
        " \n",
        "i. Packages \tii. Modules \tiii. Built-in Functions\n",
        "**"
      ]
    },
    {
      "cell_type": "code",
      "metadata": {
        "id": "Qiir5A0n7S39",
        "colab": {
          "base_uri": "https://localhost:8080/"
        },
        "outputId": "75ed255a-d588-462f-ecf0-8472eda28cf8"
      },
      "source": [
        "#Absolute\n",
        "print(\"Absolute\")\n",
        "print('Absolute of -7.239 = ', abs(-7.239))\n",
        "#Binary\n",
        "print(\"Binary\")\n",
        "print(\"Binary Equalent of 5\", bin(5))\n",
        "#Quotient and remainder\n",
        "print(\"Quotient AND Remainder\")\n",
        "print(\"Quotient and remainder of 2/8 = \" , divmod(2,8))\n",
        "#Float\n",
        "print(\"Float\")\n",
        "print(\"float value of 7 = \", float(7))\n",
        "#Int\n",
        "print(\"Int\")\n",
        "print(\"int value of 104.8 =\", int(104.8))\n",
        "#Max\n",
        "print(\"Max\")\n",
        "print(\"Maximum of 103,204,303 = \", max(103,204,303))\n",
        "#Min\n",
        "print(\"Min\")\n",
        "print(\"Minimum of 109,230,310 = \", min(109,230,310))\n",
        "#Power\n",
        "print(\"Power\")\n",
        "print(\"6 power 6 = \", pow(6,6))\n",
        "#Evaluate\n",
        "print(\"Evaluate\")\n",
        "x=8\n",
        "print(\"Evaluate value of x**8 = \",eval('x**8'))\n",
        "import math\n",
        "#Square root\n",
        "print(\"Square Root\")\n",
        "print(\"Square root of 16 = \" ,math.sqrt(16))"
      ],
      "execution_count": null,
      "outputs": [
        {
          "output_type": "stream",
          "text": [
            "Absolute\n",
            "Absolute of -7.239 =  7.239\n",
            "Binary\n",
            "Binary Equalent of 5 0b101\n",
            "Quotient AND Remainder\n",
            "Quotient and remainder of 2/8 =  (0, 2)\n",
            "Float\n",
            "float value of 7 =  7.0\n",
            "Int\n",
            "int value of 104.8 = 104\n",
            "Max\n",
            "Maximum of 103,204,303 =  303\n",
            "Min\n",
            "Minimum of 109,230,310 =  109\n",
            "Power\n",
            "6 power 6 =  46656\n",
            "Evaluate\n",
            "Evaluate value of x**8 =  16777216\n",
            "Square Root\n",
            "Square root of 16 =  4.0\n"
          ],
          "name": "stdout"
        }
      ]
    },
    {
      "cell_type": "markdown",
      "metadata": {
        "id": "-Y-9-TCKCOes"
      },
      "source": [
        "b) Write a Program to implement\n",
        "\n",
        "i. List \t\tii. Tuple \tiii. Dictionaries**"
      ]
    },
    {
      "cell_type": "code",
      "metadata": {
        "id": "j319cl8SCYCO",
        "colab": {
          "base_uri": "https://localhost:8080/"
        },
        "outputId": "5bf6406c-3d3c-4af7-da12-f9801c0eba79"
      },
      "source": [
        "# List\n",
        "List = []\n",
        "print(\"Blank List: \")\n",
        "print(List)\n",
        "List = [110, 203, 144]\n",
        "print(\"\\nList of numbers: \")\n",
        "print(List)\n",
        "List = [\"Seek\", \"For\", \"Code\"]\n",
        "print(\"\\nList Items: \")\n",
        "print(List[0])\n",
        "print(List[2])\n",
        "List = [['Seek', 'For'] , ['Code']]\n",
        "print(\"\\nMulti-Dimensional List: \")\n",
        "print(List)\n",
        "print(\"............................................................\")\n",
        "List = [1, 4, 5, 0, 2, 4, 3, 6, 5]\n",
        "print(\"\\nList with the use of Numbers: \")\n",
        "print(List)\n",
        "List = [1, 2, 'Seek', 4, 'For', 6, 'Code']\n",
        "print(\"\\nList with the use of Mixed Values: \")\n",
        "print(List)\n",
        "print(\"............................................................\")\n",
        "List1 = []\n",
        "print(len(List1))\n",
        "List2 = [120, 210, 114]\n",
        "print(len(List2))\n",
        "print(\"............................................................\")"
      ],
      "execution_count": null,
      "outputs": [
        {
          "output_type": "stream",
          "text": [
            "Blank List: \n",
            "[]\n",
            "\n",
            "List of numbers: \n",
            "[110, 203, 144]\n",
            "\n",
            "List Items: \n",
            "Seek\n",
            "Code\n",
            "\n",
            "Multi-Dimensional List: \n",
            "[['Seek', 'For'], ['Code']]\n",
            "............................................................\n",
            "\n",
            "List with the use of Numbers: \n",
            "[1, 4, 5, 0, 2, 4, 3, 6, 5]\n",
            "\n",
            "List with the use of Mixed Values: \n",
            "[1, 2, 'Seek', 4, 'For', 6, 'Code']\n",
            "............................................................\n",
            "0\n",
            "3\n",
            "............................................................\n"
          ],
          "name": "stdout"
        }
      ]
    },
    {
      "cell_type": "code",
      "metadata": {
        "id": "7ZYB46jEFH66",
        "colab": {
          "base_uri": "https://localhost:8080/"
        },
        "outputId": "46ce2bf7-2bda-4bae-a9b9-d9291095187b"
      },
      "source": [
        "Tuple1 = ()\n",
        "print(\"Initial empty Tuple: \")\n",
        "print (Tuple1)\n",
        "Tuple1 = ('Code', 'For')\n",
        "print(\"\\nTuple with the use of String: \")\n",
        "print(Tuple1)\n",
        "list1 = [2, 3, 6, 9, 6]\n",
        "print(\"\\nTuple using List: \")\n",
        "print(tuple(list1))\n",
        "Tuple1 = tuple('Code')\n",
        "print(\"\\nTuple with the use of function: \")\n",
        "print(Tuple1)\n",
        "print(\"............................................................\")\n",
        "Tuple1 = (5, 'Welcome', 7, 'Coders')\n",
        "print(\"\\nTuple with Mixed Datatypes: \")\n",
        "print(Tuple1)\n",
        "Tuple1 = (0, 1, 2, 3)\n",
        "Tuple2 = ('python', 'Wins')\n",
        "Tuple3 = (Tuple1, Tuple2)\n",
        "print(\"\\nTuple with nested tuples: \")\n",
        "print(Tuple3)\n",
        "Tuple1 = ('Wins',) * 3\n",
        "print(\"\\nTuple with repetition: \")\n",
        "print(Tuple1)\n",
        "Tuple1 = ('Wins')\n",
        "n = 5\n",
        "print(\"\\nTuple with a loop\")\n",
        "for i in range(int(n)):\n",
        "\tTuple1 = (Tuple1,)\n",
        "\tprint(Tuple1)\n",
        "print(\"............................................................\")"
      ],
      "execution_count": null,
      "outputs": [
        {
          "output_type": "stream",
          "text": [
            "Initial empty Tuple: \n",
            "()\n",
            "\n",
            "Tuple with the use of String: \n",
            "('Code', 'For')\n",
            "\n",
            "Tuple using List: \n",
            "(2, 3, 6, 9, 6)\n",
            "\n",
            "Tuple with the use of function: \n",
            "('C', 'o', 'd', 'e')\n",
            "............................................................\n",
            "\n",
            "Tuple with Mixed Datatypes: \n",
            "(5, 'Welcome', 7, 'Coders')\n",
            "\n",
            "Tuple with nested tuples: \n",
            "((0, 1, 2, 3), ('python', 'Wins'))\n",
            "\n",
            "Tuple with repetition: \n",
            "('Wins', 'Wins', 'Wins')\n",
            "\n",
            "Tuple with a loop\n",
            "('Wins',)\n",
            "(('Wins',),)\n",
            "((('Wins',),),)\n",
            "(((('Wins',),),),)\n",
            "((((('Wins',),),),),)\n",
            "............................................................\n"
          ],
          "name": "stdout"
        }
      ]
    },
    {
      "cell_type": "code",
      "metadata": {
        "id": "69hs3fI-GNk0",
        "colab": {
          "base_uri": "https://localhost:8080/"
        },
        "outputId": "7e7be46a-3336-43fe-cf53-dd3a78dd8e96"
      },
      "source": [
        "#Dictionary\n",
        "Dict = {1: 'Sun', 2: 'For', 3: 'Livess'}\n",
        "print(\"\\nDictionary with the use of Integer Keys: \")\n",
        "print(Dict)\n",
        "Dict = {'Name': 'Lives', 1: [1, 2, 3, 4]}\n",
        "print(\"\\nDictionary with the use of Mixed Keys: \")\n",
        "print(Dict)\n",
        "print(\"............................................................\")\n",
        "Dict = {}\n",
        "print(\"Empty Dictionary: \")\n",
        "print(Dict)\n",
        "Dict = dict({1: 'Sun', 2: 'For', 3:'Lives'})\n",
        "print(\"\\nDictionary with the use of dict(): \")\n",
        "print(Dict)\n",
        "Dict = dict([(1, 'Sun'), (2, 'For')])\n",
        "print(\"\\nDictionary with each item as a pair: \")\n",
        "print(Dict)\n",
        "print(\"............................................................\")"
      ],
      "execution_count": null,
      "outputs": [
        {
          "output_type": "stream",
          "text": [
            "\n",
            "Dictionary with the use of Integer Keys: \n",
            "{1: 'Sun', 2: 'For', 3: 'Livess'}\n",
            "\n",
            "Dictionary with the use of Mixed Keys: \n",
            "{'Name': 'Lives', 1: [1, 2, 3, 4]}\n",
            "............................................................\n",
            "Empty Dictionary: \n",
            "{}\n",
            "\n",
            "Dictionary with the use of dict(): \n",
            "{1: 'Sun', 2: 'For', 3: 'Lives'}\n",
            "\n",
            "Dictionary with each item as a pair: \n",
            "{1: 'Sun', 2: 'For'}\n",
            "............................................................\n"
          ],
          "name": "stdout"
        }
      ]
    },
    {
      "cell_type": "markdown",
      "metadata": {
        "id": "uNCvj0Z5C7YN"
      },
      "source": [
        "**c) Programs on Strings, String Operations and Regular Expressions**"
      ]
    },
    {
      "cell_type": "code",
      "metadata": {
        "id": "S20fbWBhC_aw",
        "colab": {
          "base_uri": "https://localhost:8080/"
        },
        "outputId": "63de1cd3-964d-4322-dd48-6fbee1bf6717"
      },
      "source": [
        "my_string = 'Hello'\n",
        "print(my_string)\n",
        "my_string = \"Hello\"\n",
        "print(my_string)\n",
        "my_string = '''Hello'''\n",
        "print(my_string)\n",
        "my_string = \"\"\"Hello, welcome to the world of Python\"\"\"\n",
        "print(my_string)\n",
        "print(\"............................................................\")\n",
        "str = 'programs'\n",
        "print('str = ', str)\n",
        "print('str[0] = ', str[0])\n",
        "print('str[-1] = ', str[-1])\n",
        "print('str[1:5] = ', str[1:5])\n",
        "print('str[5:-2] = ', str[5:-2])\n",
        "print(\"............................................................\")\n",
        "str1 = 'Hello'\n",
        "str2 ='World!'\n",
        "print('str1 + str2 = ', str1 + str2)\n",
        "print('str1 * 3 =', str1 * 3)\n",
        "print(\"............................................................\")\n",
        "import re\n",
        "p = re.compile('\\w')\n",
        "print(p.findall(\"She said she is learning some specific lang to speak * in that_lang.\"))\n",
        "p = re.compile('\\w+')\n",
        "print(p.findall(\"I went to the teaching centre at 11:30 A.M., for learning and to speak *** in some_language.\"))\n",
        "p = re.compile('\\W')\n",
        "print(p.findall(\"It is difficult to speak*** in some_language.\"))\n",
        "print(\"............................................................\")"
      ],
      "execution_count": null,
      "outputs": [
        {
          "output_type": "stream",
          "text": [
            "Hello\n",
            "Hello\n",
            "Hello\n",
            "Hello, welcome to the world of Python\n",
            "............................................................\n",
            "str =  programs\n",
            "str[0] =  p\n",
            "str[-1] =  s\n",
            "str[1:5] =  rogr\n",
            "str[5:-2] =  a\n",
            "............................................................\n",
            "str1 + str2 =  HelloWorld!\n",
            "str1 * 3 = HelloHelloHello\n",
            "............................................................\n",
            "['S', 'h', 'e', 's', 'a', 'i', 'd', 's', 'h', 'e', 'i', 's', 'l', 'e', 'a', 'r', 'n', 'i', 'n', 'g', 's', 'o', 'm', 'e', 's', 'p', 'e', 'c', 'i', 'f', 'i', 'c', 'l', 'a', 'n', 'g', 't', 'o', 's', 'p', 'e', 'a', 'k', 'i', 'n', 't', 'h', 'a', 't', '_', 'l', 'a', 'n', 'g']\n",
            "['I', 'went', 'to', 'the', 'teaching', 'centre', 'at', '11', '30', 'A', 'M', 'for', 'learning', 'and', 'to', 'speak', 'in', 'some_language']\n",
            "[' ', ' ', ' ', ' ', '*', '*', '*', ' ', ' ', '.']\n",
            "............................................................\n"
          ],
          "name": "stdout"
        }
      ]
    },
    {
      "cell_type": "markdown",
      "metadata": {
        "id": "pbVmoV-yJPVI"
      },
      "source": [
        "**Exercise 3**"
      ]
    },
    {
      "cell_type": "markdown",
      "metadata": {
        "id": "XozBT7q1JUNJ"
      },
      "source": [
        "**Write a Program to implement Class and Object**"
      ]
    },
    {
      "cell_type": "code",
      "metadata": {
        "id": "xB3Qpt1CJX-8",
        "colab": {
          "base_uri": "https://localhost:8080/"
        },
        "outputId": "6f1c033e-140a-4a83-a044-552900e8de2b"
      },
      "source": [
        "class Dog:\n",
        "\tanimal = 'dog'\t\t\t\n",
        "\tdef __init__(self, breed, color):\n",
        "\t\tself.breed = breed\n",
        "\t\tself.color = color\t\n",
        "Boxer = Dog(\"Bulldog\", \"brown\")\n",
        "Poodle= Dog(\"Waterdog\", \"black\")\n",
        "\n",
        "print('Boxer details:')\n",
        "print('Boxer is a', Boxer.animal)\n",
        "print('Breed: ', Boxer.breed)\n",
        "print('Color: ', Boxer.color)\n",
        "\n",
        "print('\\nPoodle details:')\n",
        "print('Poodle is a', Poodle.animal)\n",
        "print('Breed: ', Poodle.breed)\n",
        "print('Color: ', Poodle.color)\n",
        "\n",
        "print(\"\\nAccessing class variable using class name\")\n",
        "print(Dog.animal)\t\n"
      ],
      "execution_count": null,
      "outputs": [
        {
          "output_type": "stream",
          "text": [
            "Boxer details:\n",
            "Boxer is a dog\n",
            "Breed:  Bulldog\n",
            "Color:  brown\n",
            "\n",
            "Poodle details:\n",
            "Poodle is a dog\n",
            "Breed:  Waterdog\n",
            "Color:  black\n",
            "\n",
            "Accessing class variable using class name\n",
            "dog\n"
          ],
          "name": "stdout"
        }
      ]
    },
    {
      "cell_type": "markdown",
      "metadata": {
        "id": "2YGF1r9RKnk3"
      },
      "source": [
        "**Write a Program to implement Static and Instance methods, Abstract Classes and Interfaces**"
      ]
    },
    {
      "cell_type": "code",
      "metadata": {
        "id": "dqumomkUKWUU",
        "colab": {
          "base_uri": "https://localhost:8080/"
        },
        "outputId": "8626c81a-b9b8-476c-c49e-83d14fe53ff2"
      },
      "source": [
        "class Student():\n",
        "    def __init__(self, name):\n",
        "        self.name = name\n",
        "    def display(self):\n",
        "        return self.name\n",
        "st1 = Student(\"SAM\")\n",
        "st2 = Student(\"JAM\")\n",
        "print(st1.display())\n",
        "print(st2.display())\n",
        "print(\"............................................................\")\n",
        "class Student():\n",
        "    name = \"JAM\"\n",
        "    @classmethod\n",
        "    def create(cls):\n",
        "        return cls.name\n",
        "print(Student.create())\n",
        "print(\"............................................................\")\n",
        "import abc\n",
        "class parent:\t\n",
        "\tdef relation(self):\n",
        "\t\tpass\n",
        "class child(parent):\n",
        "\tdef relation(self):\n",
        "\t\tprint(\"child class\")\n",
        "print( issubclass(child, parent))\n",
        "print( isinstance(child(), parent))\n",
        "print(\"............................................................\")"
      ],
      "execution_count": null,
      "outputs": [
        {
          "output_type": "stream",
          "text": [
            "SAM\n",
            "JAM\n",
            "............................................................\n",
            "JAM\n",
            "............................................................\n",
            "True\n",
            "True\n",
            "............................................................\n"
          ],
          "name": "stdout"
        }
      ]
    },
    {
      "cell_type": "markdown",
      "metadata": {
        "id": "qQRqhASUMcJ3"
      },
      "source": [
        "**Write a program to compute distance between two points taking input from the user (Pythagorean Theorem)**"
      ]
    },
    {
      "cell_type": "code",
      "metadata": {
        "id": "HTKn-KBJMg1E",
        "colab": {
          "base_uri": "https://localhost:8080/"
        },
        "outputId": "bf3f8fe0-e03a-4bcd-fb35-567a505b0e79"
      },
      "source": [
        "x1=int(input(\"enter x1 : \"))\n",
        "\n",
        "x2=int(input(\"enter x2 : \"))\n",
        "\n",
        "y1=int(input(\"enter y1 : \"))\n",
        "\n",
        "y2=int(input(\"enter y2 : \"))\n",
        "\n",
        "result= ((((x2 - x1 )**2) + ((y2-y1)**2) )**0.5)\n",
        "\n",
        "print(\"distance between\",(x1,x2),\"and\",(y1,y2),\"is : \",result)"
      ],
      "execution_count": null,
      "outputs": [
        {
          "output_type": "stream",
          "text": [
            "enter x1 : 56\n",
            "enter x2 : 45\n",
            "enter y1 : 65\n",
            "enter y2 : 54\n",
            "distance between (56, 45) and (65, 54) is :  15.556349186104045\n"
          ],
          "name": "stdout"
        }
      ]
    },
    {
      "cell_type": "markdown",
      "metadata": {
        "id": "8mF7_SGxMwRK"
      },
      "source": [
        "**Exercise 4**"
      ]
    },
    {
      "cell_type": "markdown",
      "metadata": {
        "id": "5GtXq7IbMz-D"
      },
      "source": [
        "**Write a program to implement Inheritance and Polymorphism**"
      ]
    },
    {
      "cell_type": "code",
      "metadata": {
        "id": "iqNCgE-8M4h2",
        "colab": {
          "base_uri": "https://localhost:8080/"
        },
        "outputId": "e420075e-72d0-4bcb-dab4-d358786cc209"
      },
      "source": [
        "class India():\n",
        "\tdef capital(self):\n",
        "\t\tprint(\"New Delhi is the capital of India.\")\n",
        "\n",
        "\tdef language(self):\n",
        "\t\tprint(\"Hindi is the most widely spoken language of India.\")\n",
        "\n",
        "\tdef type(self):\n",
        "\t\tprint(\"India is a incredible country.\")\n",
        "\n",
        "class USA():\n",
        "\tdef capital(self):\n",
        "\t\tprint(\"Washington, D.C. is the capital of USA.\")\n",
        "\n",
        "\tdef language(self):\n",
        "\t\tprint(\"English is the primary language of USA.\")\n",
        "\n",
        "\tdef type(self):\n",
        "\t\tprint(\"USA is a popular country.\")\n",
        "\n",
        "obj_ind = India()\n",
        "obj_usa = USA()\n",
        "for country in (obj_ind, obj_usa):\n",
        "\tcountry.capital()\n",
        "\tcountry.language()\n",
        "\tcountry.type()\n",
        "print(\"............................................................\")\n",
        "class Person( object ):\t\t\n",
        "\t\tdef __init__(self, name, idnumber):\n",
        "\t\t\t\tself.name = name\n",
        "\t\t\t\tself.idnumber = idnumber\n",
        "\t\tdef display(self):\n",
        "\t\t\t\tprint(self.name)\n",
        "\t\t\t\tprint(self.idnumber)\n",
        "class Employee( Person ):\t\t\n",
        "\t\tdef __init__(self, name, idnumber, salary, post):\n",
        "\t\t\t\tself.salary = salary\n",
        "\t\t\t\tself.post = post\n",
        "\t\t\t\tPerson.__init__(self, name, idnumber)\n",
        "a = Employee('Ramya', 10233012, 2300000, \"Intern\")\t\n",
        "a.display()\n",
        "print(\"............................................................\")"
      ],
      "execution_count": null,
      "outputs": [
        {
          "output_type": "stream",
          "text": [
            "New Delhi is the capital of India.\n",
            "Hindi is the most widely spoken language of India.\n",
            "India is a incredible country.\n",
            "Washington, D.C. is the capital of USA.\n",
            "English is the primary language of USA.\n",
            "USA is a popular country.\n",
            "............................................................\n",
            "Ramya\n",
            "10233012\n",
            "............................................................\n"
          ],
          "name": "stdout"
        }
      ]
    },
    {
      "cell_type": "markdown",
      "metadata": {
        "id": "l1Bn37_aOVHx"
      },
      "source": [
        "**Write a program to implement Files**"
      ]
    },
    {
      "cell_type": "code",
      "metadata": {
        "id": "c3NywJhPOYMC",
        "colab": {
          "base_uri": "https://localhost:8080/"
        },
        "outputId": "0e1870e8-244f-4981-ff85-84fefc48e10b"
      },
      "source": [
        "class person:\n",
        "    pass\n",
        "male=person()\n",
        "female=person()\n",
        "male.name='Poojitha'\n",
        "male.age=19\n",
        "female.name='Samhita'\n",
        "female.age=19\n",
        "print(male.__dict__)\n",
        "print(female.age)\n",
        "print(female.__dict__)\n",
        "class person:\n",
        "    def __init__(self,name,age):\n",
        "        self.name=name\n",
        "        self.age=age\n",
        "male=person('Poojitha',19)\n",
        "female=person('Samhita',20)\n",
        "female.lastname='Reddy'\n",
        "print(male.__dict__)\n",
        "print(female.age)\n",
        "print(female.__dict__)"
      ],
      "execution_count": null,
      "outputs": [
        {
          "output_type": "stream",
          "text": [
            "{'name': 'Poojitha', 'age': 19}\n",
            "19\n",
            "{'name': 'Samhita', 'age': 19}\n",
            "{'name': 'Poojitha', 'age': 19}\n",
            "20\n",
            "{'name': 'Samhita', 'age': 20, 'lastname': 'Reddy'}\n"
          ],
          "name": "stdout"
        }
      ]
    },
    {
      "cell_type": "markdown",
      "metadata": {
        "id": "-K6QNZETRzBk"
      },
      "source": [
        "**Write a program to illustrate Handling**"
      ]
    },
    {
      "cell_type": "code",
      "metadata": {
        "id": "R2qq3D3eR3qE",
        "colab": {
          "base_uri": "https://localhost:8080/"
        },
        "outputId": "8354f2c2-6d87-46da-f4d4-214955eac060"
      },
      "source": [
        "try:\n",
        "    a=100\n",
        "    b='0'\n",
        "    print (a+b)\n",
        "except TypeError:\n",
        "    print('Unsupported operation')\n",
        "print (\"Out of try except blocks\")"
      ],
      "execution_count": null,
      "outputs": [
        {
          "output_type": "stream",
          "text": [
            "Unsupported operation\n",
            "Out of try except blocks\n"
          ],
          "name": "stdout"
        }
      ]
    },
    {
      "cell_type": "markdown",
      "metadata": {
        "id": "iJO96CfOSKeG"
      },
      "source": [
        "**Exercise 5**"
      ]
    },
    {
      "cell_type": "markdown",
      "metadata": {
        "id": "ad-QjGIMSRoa"
      },
      "source": [
        "**Write a program using scikit-learn to implement K-means Clustering**"
      ]
    },
    {
      "cell_type": "code",
      "metadata": {
        "id": "hTEIKwvDSODW",
        "colab": {
          "base_uri": "https://localhost:8080/",
          "height": 295
        },
        "outputId": "2f21dd7e-67ef-4c19-9fb8-4ec47bb89e58"
      },
      "source": [
        "import matplotlib.pyplot as plt\n",
        "import numpy as np\n",
        "from sklearn.datasets import make_blobs\n",
        "from sklearn.cluster import KMeans\n",
        "\n",
        "num_samples_total = 1000\n",
        "cluster_centers = [(40,60), (6,8)]\n",
        "num_classes = len(cluster_centers)\n",
        "X, targets = make_blobs(n_samples = num_samples_total, centers = cluster_centers, n_features = num_classes, center_box=(0, 1), cluster_std = 2)\n",
        "np.save('./clusters.npy', X)\n",
        "X = np.load('./clusters.npy')\n",
        "kmeans = KMeans(init='k-means++', n_clusters=num_classes, n_init=10)\n",
        "kmeans.fit(X)\n",
        "P = kmeans.predict(X)\n",
        "colors = list(map(lambda x: '#3b4cc0' if x == 1 else '#b40426', P))\n",
        "plt.scatter(X[:,0], X[:,1], c=colors, marker=\"o\", picker=True)\n",
        "plt.title('Two clusters of data')\n",
        "plt.xlabel('Temperature yesterday')\n",
        "plt.ylabel('Temperature today')\n",
        "plt.show()"
      ],
      "execution_count": null,
      "outputs": [
        {
          "output_type": "display_data",
          "data": {
            "image/png": "[encoded data removed]",
            "text/plain": [
              "<Figure size 432x288 with 1 Axes>"
            ]
          },
          "metadata": {
            "tags": [],
            "needs_background": "light"
          }
        }
      ]
    },
    {
      "cell_type": "markdown",
      "metadata": {
        "id": "hkFauQo_Tjcf"
      },
      "source": [
        "**Program to calculate the entropy and the information gain**"
      ]
    },
    {
      "cell_type": "code",
      "metadata": {
        "id": "7AEPJr5vTlXa",
        "colab": {
          "base_uri": "https://localhost:8080/"
        },
        "outputId": "9f83bfe9-4275-415b-ee1e-56d3b4234cb5"
      },
      "source": [
        "import warnings\n",
        "warnings.filterwarnings(\"ignore\")\n",
        "import pandas as pd\n",
        "import numpy as np\n",
        "\n",
        "lst = ['apple']*3 + ['orange']*2 + ['banana']*2\n",
        "fruits = pd.Series(lst)\n",
        "print(fruits)\n",
        "\n",
        "probs = fruits.value_counts(normalize=True)\n",
        "probs\n",
        "\n",
        "probs_by_hand = [3/7, 2/7, 2/7]\n",
        "print(probs_by_hand)\n",
        "\n",
        "entropy = -1 * np.sum(np.log2(probs) * probs)\n",
        "entropy"
      ],
      "execution_count": null,
      "outputs": [
        {
          "output_type": "stream",
          "text": [
            "0     apple\n",
            "1     apple\n",
            "2     apple\n",
            "3    orange\n",
            "4    orange\n",
            "5    banana\n",
            "6    banana\n",
            "dtype: object\n",
            "[0.42857142857142855, 0.2857142857142857, 0.2857142857142857]\n"
          ],
          "name": "stdout"
        },
        {
          "output_type": "execute_result",
          "data": {
            "text/plain": [
              "1.5566567074628228"
            ]
          },
          "metadata": {
            "tags": []
          },
          "execution_count": 17
        }
      ]
    },
    {
      "cell_type": "markdown",
      "metadata": {
        "id": "ZjyMLACdVtMt"
      },
      "source": [
        "**Program to implement perceptron **"
      ]
    },
    {
      "cell_type": "code",
      "metadata": {
        "id": "ibAnUl5Fkkzu",
        "colab": {
          "base_uri": "https://localhost:8080/",
          "height": 530
        },
        "outputId": "c8d9a365-5d53-482e-be79-1030b627576d"
      },
      "source": [
        "from sklearn import datasets\n",
        "X, y = datasets.make_blobs(n_samples=150,n_features=2,\n",
        "                           centers=2,cluster_std=1.05,\n",
        "                           random_state=2)\n",
        "#Plotting\n",
        "fig = plt.figure(figsize=(10,8))\n",
        "plt.plot(X[:, 0][y == 0], X[:, 1][y == 0], 'r^')\n",
        "plt.plot(X[:, 0][y == 1], X[:, 1][y == 1], 'bs')\n",
        "plt.xlabel(\"feature 1\")\n",
        "plt.ylabel(\"feature 2\")\n",
        "plt.title('Random Classification Data with 2 classes')"
      ],
      "execution_count": null,
      "outputs": [
        {
          "output_type": "execute_result",
          "data": {
            "text/plain": [
              "Text(0.5, 1.0, 'Random Classification Data with 2 classes')"
            ]
          },
          "metadata": {
            "tags": []
          },
          "execution_count": 54
        },
        {
          "output_type": "display_data",
          "data": {
            "image/png": "[encoded data removed]",
            "text/plain": [
              "<Figure size 720x576 with 1 Axes>"
            ]
          },
          "metadata": {
            "tags": [],
            "needs_background": "light"
          }
        }
      ]
    },
    {
      "cell_type": "markdown",
      "metadata": {
        "id": "taDBURzXYIWU"
      },
      "source": [
        "**Exercise 6**"
      ]
    },
    {
      "cell_type": "markdown",
      "metadata": {
        "id": "T2AttCaNYKdd"
      },
      "source": [
        "**Generate a decision tree. Find the Depth of decision trees and observe the results, then propose some changes in DecisionTreeClassifier function to limit. **"
      ]
    },
    {
      "cell_type": "code",
      "metadata": {
        "id": "SKzppxaRYQ8U"
      },
      "source": [
        "import numpy as np\n",
        "import pandas as pd\n",
        "from sklearn.tree import DecisionTreeClassifier\n",
        "from sklearn.model_selection import train_test_split\n",
        "from sklearn.datasets import load_iris"
      ],
      "execution_count": null,
      "outputs": []
    },
    {
      "cell_type": "code",
      "metadata": {
        "id": "pwSllyRiYhWf",
        "colab": {
          "base_uri": "https://localhost:8080/"
        },
        "outputId": "5e35e504-ba8a-423e-9998-c573c5dc0e64"
      },
      "source": [
        "iris_data = load_iris() \n",
        "iris=pd.DataFrame(iris_data.data)\n",
        "\n",
        "print (\"Features Name : \", iris_data.feature_names) \n",
        "print (\"Dataset Shape: \", iris.shape) \n",
        "print (\"Dataset: \",iris.head())"
      ],
      "execution_count": null,
      "outputs": [
        {
          "output_type": "stream",
          "text": [
            "Features Name :  ['sepal length (cm)', 'sepal width (cm)', 'petal length (cm)', 'petal width (cm)']\n",
            "Dataset Shape:  (150, 4)\n",
            "Dataset:       0    1    2    3\n",
            "0  5.1  3.5  1.4  0.2\n",
            "1  4.9  3.0  1.4  0.2\n",
            "2  4.7  3.2  1.3  0.2\n",
            "3  4.6  3.1  1.5  0.2\n",
            "4  5.0  3.6  1.4  0.2\n"
          ],
          "name": "stdout"
        }
      ]
    },
    {
      "cell_type": "code",
      "metadata": {
        "id": "h-zTKcNDYqUP"
      },
      "source": [
        "X = iris.values[:, 0:4] \n",
        "Y = iris_data.target\n",
        "X_train, X_test, y_train, y_test = train_test_split(X, Y, test_size = 0.3, random_state = 100)"
      ],
      "execution_count": null,
      "outputs": []
    },
    {
      "cell_type": "code",
      "metadata": {
        "id": "B7OhTpUfYvuj",
        "colab": {
          "base_uri": "https://localhost:8080/"
        },
        "outputId": "793424e8-b543-470e-a5cc-fb9c91fa3251"
      },
      "source": [
        "classifier = DecisionTreeClassifier(max_depth=8,random_state= 44)\n",
        "classifier.fit(X_train,y_train)\n",
        "print('Depth',classifier.get_depth())\n",
        "print('Train',classifier.score(X_train,y_train))\n",
        "print('Test',classifier.score(X_test,y_test))"
      ],
      "execution_count": null,
      "outputs": [
        {
          "output_type": "stream",
          "text": [
            "Depth 4\n",
            "Train 1.0\n",
            "Test 0.9555555555555556\n"
          ],
          "name": "stdout"
        }
      ]
    },
    {
      "cell_type": "markdown",
      "metadata": {
        "id": "TUd8YTw0Zaua"
      },
      "source": [
        "** Occupancy estimator using random forest**"
      ]
    },
    {
      "cell_type": "markdown",
      "metadata": {
        "id": "-igOdWVUaC0t"
      },
      "source": [
        "**Exercise 7**"
      ]
    },
    {
      "cell_type": "code",
      "metadata": {
        "id": "_LD5jY1QaE10",
        "colab": {
          "base_uri": "https://localhost:8080/"
        },
        "outputId": "141c6bba-1de6-45b8-bb0f-453c992f6afc"
      },
      "source": [
        "import numpy as np\n",
        "A = np.array([[9, 7, 7],\n",
        "\t\t\t[5, -8, 3],\n",
        "\t\t\t[3, 3, 1]])\n",
        "print(np.linalg.inv(A))"
      ],
      "execution_count": null,
      "outputs": [
        {
          "output_type": "stream",
          "text": [
            "[[-0.11486486  0.09459459  0.52027027]\n",
            " [ 0.02702703 -0.08108108  0.05405405]\n",
            " [ 0.26351351 -0.04054054 -0.72297297]]\n"
          ],
          "name": "stdout"
        }
      ]
    },
    {
      "cell_type": "code",
      "metadata": {
        "id": "pp8Jz_ReaUpp",
        "colab": {
          "base_uri": "https://localhost:8080/"
        },
        "outputId": "1d931cae-0950-4164-b4f4-2ab2afc2d06e"
      },
      "source": [
        "import numpy as np\n",
        "A = np.array([[7, 6, 7],\n",
        "\t\t\t[2, 7, -3],\n",
        "\t\t\t[-7, 3, 4]])\n",
        "print(np.linalg.pinv(A))"
      ],
      "execution_count": null,
      "outputs": [
        {
          "output_type": "stream",
          "text": [
            "[[ 0.05124654 -0.00415512 -0.09279778]\n",
            " [ 0.01800554  0.1066482   0.04847645]\n",
            " [ 0.07617729 -0.08725762  0.05124654]]\n"
          ],
          "name": "stdout"
        }
      ]
    },
    {
      "cell_type": "code",
      "metadata": {
        "id": "HKmN0Ujfaft7",
        "colab": {
          "base_uri": "https://localhost:8080/"
        },
        "outputId": "22bafc81-43a5-40d8-9427-5413277cd24d"
      },
      "source": [
        "from numpy.linalg import matrix_rank\n",
        "A = np.array([[1, 9, 7],\n",
        "\t\t\t[6, 2, -4],\n",
        "\t\t\t[-2, 1, 5]])\n",
        "print(np.linalg.matrix_rank(A))"
      ],
      "execution_count": null,
      "outputs": [
        {
          "output_type": "stream",
          "text": [
            "3\n"
          ],
          "name": "stdout"
        }
      ]
    },
    {
      "cell_type": "code",
      "metadata": {
        "id": "nQ_XwxAtamWj",
        "colab": {
          "base_uri": "https://localhost:8080/"
        },
        "outputId": "5d78d642-83d2-44a7-a92f-ebf082e16cad"
      },
      "source": [
        "a = np.array([[1, 5], [6, 9]])\n",
        "b = np.array([7, 4])\n",
        "x = np.linalg.solve(a, b)\n",
        "x"
      ],
      "execution_count": null,
      "outputs": [
        {
          "output_type": "execute_result",
          "data": {
            "text/plain": [
              "array([-2.04761905,  1.80952381])"
            ]
          },
          "metadata": {
            "tags": []
          },
          "execution_count": 45
        }
      ]
    },
    {
      "cell_type": "code",
      "metadata": {
        "id": "pwwwLMnIaow6",
        "colab": {
          "base_uri": "https://localhost:8080/"
        },
        "outputId": "da9d72eb-7d46-4801-e965-abe1c992c906"
      },
      "source": [
        "x = np.array([[0, 1], [6, 3]])\n",
        "y = np.array([[-1, 0.8], [0.4, 2.9]])\n",
        "np.linalg.lstsq(x,y)"
      ],
      "execution_count": null,
      "outputs": [
        {
          "output_type": "execute_result",
          "data": {
            "text/plain": [
              "(array([[ 0.56666667,  0.08333333],\n",
              "        [-1.        ,  0.8       ]]),\n",
              " array([], dtype=float64),\n",
              " 2,\n",
              " array([6.7233625 , 0.89241061]))"
            ]
          },
          "metadata": {
            "tags": []
          },
          "execution_count": 41
        }
      ]
    },
    {
      "cell_type": "code",
      "metadata": {
        "id": "WiceF7puatWW",
        "colab": {
          "base_uri": "https://localhost:8080/"
        },
        "outputId": "5e16022f-5fc1-476c-9bba-6e3f5ce81225"
      },
      "source": [
        "a = np.random.randn(9, 6) + 1j*np.random.randn(9, 6)\n",
        "b = np.random.randn(2, 7, 8, 3) + 1j*np.random.randn(2, 7, 8, 3)\n",
        "u, s, vh = np.linalg.svd(a, full_matrices=True)\n",
        "u.shape, s.shape, vh.shape"
      ],
      "execution_count": null,
      "outputs": [
        {
          "output_type": "execute_result",
          "data": {
            "text/plain": [
              "((9, 9), (6,), (6, 6))"
            ]
          },
          "metadata": {
            "tags": []
          },
          "execution_count": 40
        }
      ]
    },
    {
      "cell_type": "code",
      "metadata": {
        "id": "ZsliXlRsawWJ",
        "colab": {
          "base_uri": "https://localhost:8080/"
        },
        "outputId": "b93712b4-1ee1-4218-a359-93c7e1ba38c7"
      },
      "source": [
        "a = np.array([[1, 4], [7, 9]])\n",
        "a.transpose()"
      ],
      "execution_count": null,
      "outputs": [
        {
          "output_type": "execute_result",
          "data": {
            "text/plain": [
              "array([[1, 7],\n",
              "       [4, 9]])"
            ]
          },
          "metadata": {
            "tags": []
          },
          "execution_count": 39
        }
      ]
    },
    {
      "cell_type": "code",
      "metadata": {
        "id": "Eb8fQ-WVay1s",
        "colab": {
          "base_uri": "https://localhost:8080/"
        },
        "outputId": "da433aa7-c46f-4697-833a-8443916934e3"
      },
      "source": [
        "from numpy import linalg as LA\n",
        "w, v = LA.eig(np.diag((8, 3, 0)))\n",
        "v"
      ],
      "execution_count": null,
      "outputs": [
        {
          "output_type": "execute_result",
          "data": {
            "text/plain": [
              "array([[1., 0., 0.],\n",
              "       [0., 1., 0.],\n",
              "       [0., 0., 1.]])"
            ]
          },
          "metadata": {
            "tags": []
          },
          "execution_count": 38
        }
      ]
    },
    {
      "cell_type": "code",
      "metadata": {
        "id": "mw4CJJS3a1y3",
        "colab": {
          "base_uri": "https://localhost:8080/"
        },
        "outputId": "929b404e-f80c-454b-99e3-08bff9fce09d"
      },
      "source": [
        "a = np.array([[3,6],[1,1]])\n",
        "np.sort(a) "
      ],
      "execution_count": null,
      "outputs": [
        {
          "output_type": "execute_result",
          "data": {
            "text/plain": [
              "array([[3, 6],\n",
              "       [1, 1]])"
            ]
          },
          "metadata": {
            "tags": []
          },
          "execution_count": 37
        }
      ]
    },
    {
      "cell_type": "code",
      "metadata": {
        "id": "Qu1i_MW5a30S",
        "colab": {
          "base_uri": "https://localhost:8080/"
        },
        "outputId": "15c3bbad-6093-46c3-c484-16de2a05544c"
      },
      "source": [
        "a=np.linspace(5.0, 2.0, num=9)\n",
        "a"
      ],
      "execution_count": null,
      "outputs": [
        {
          "output_type": "execute_result",
          "data": {
            "text/plain": [
              "array([5.   , 4.625, 4.25 , 3.875, 3.5  , 3.125, 2.75 , 2.375, 2.   ])"
            ]
          },
          "metadata": {
            "tags": []
          },
          "execution_count": 36
        }
      ]
    },
    {
      "cell_type": "code",
      "metadata": {
        "id": "0JIVBmn0a6GK",
        "colab": {
          "base_uri": "https://localhost:8080/"
        },
        "outputId": "04d54bd3-eb75-4b2f-86a8-ff6204fa46e0"
      },
      "source": [
        "nx, ny = (3, 3)\n",
        "x = np.linspace(0, 5, nx)\n",
        "y = np.linspace(0, 5, ny)\n",
        "xv, yv = np.meshgrid(x, y)\n",
        "print(xv,\"\\n\")\n",
        "print(yv)"
      ],
      "execution_count": null,
      "outputs": [
        {
          "output_type": "stream",
          "text": [
            "[[0.  2.5 5. ]\n",
            " [0.  2.5 5. ]\n",
            " [0.  2.5 5. ]] \n",
            "\n",
            "[[0.  0.  0. ]\n",
            " [2.5 2.5 2.5]\n",
            " [5.  5.  5. ]]\n"
          ],
          "name": "stdout"
        }
      ]
    },
    {
      "cell_type": "code",
      "metadata": {
        "id": "6UhFD8Eka9T5",
        "colab": {
          "base_uri": "https://localhost:8080/"
        },
        "outputId": "69f535d7-3763-4031-ac53-3ad51412f361"
      },
      "source": [
        "np.mgrid[0:4,0:8]"
      ],
      "execution_count": null,
      "outputs": [
        {
          "output_type": "execute_result",
          "data": {
            "text/plain": [
              "array([[[0, 0, 0, 0, 0, 0, 0, 0],\n",
              "        [1, 1, 1, 1, 1, 1, 1, 1],\n",
              "        [2, 2, 2, 2, 2, 2, 2, 2],\n",
              "        [3, 3, 3, 3, 3, 3, 3, 3]],\n",
              "\n",
              "       [[0, 1, 2, 3, 4, 5, 6, 7],\n",
              "        [0, 1, 2, 3, 4, 5, 6, 7],\n",
              "        [0, 1, 2, 3, 4, 5, 6, 7],\n",
              "        [0, 1, 2, 3, 4, 5, 6, 7]]])"
            ]
          },
          "metadata": {
            "tags": []
          },
          "execution_count": 34
        }
      ]
    },
    {
      "cell_type": "code",
      "metadata": {
        "id": "QVCb32QMbAwU",
        "colab": {
          "base_uri": "https://localhost:8080/"
        },
        "outputId": "8fc58b5a-4110-4bf6-bee6-f4682399f32e"
      },
      "source": [
        "from numpy import ogrid\n",
        "ogrid[0:4,0:8]"
      ],
      "execution_count": null,
      "outputs": [
        {
          "output_type": "execute_result",
          "data": {
            "text/plain": [
              "[array([[0],\n",
              "        [1],\n",
              "        [2],\n",
              "        [3]]), array([[0, 1, 2, 3, 4, 5, 6, 7]])]"
            ]
          },
          "metadata": {
            "tags": []
          },
          "execution_count": 33
        }
      ]
    },
    {
      "cell_type": "code",
      "metadata": {
        "id": "DV5zRh52bDas",
        "colab": {
          "base_uri": "https://localhost:8080/"
        },
        "outputId": "333f10c8-7762-4054-cb9c-e4748c802392"
      },
      "source": [
        "a = np.array([[4, 8], [5, 7]])\n",
        "b = np.array([[21, 32]])\n",
        "np.concatenate((a, b), axis=0)"
      ],
      "execution_count": null,
      "outputs": [
        {
          "output_type": "execute_result",
          "data": {
            "text/plain": [
              "array([[ 4,  8],\n",
              "       [ 5,  7],\n",
              "       [21, 32]])"
            ]
          },
          "metadata": {
            "tags": []
          },
          "execution_count": 31
        }
      ]
    },
    {
      "cell_type": "code",
      "metadata": {
        "id": "zzhXM5DMbHUH",
        "colab": {
          "base_uri": "https://localhost:8080/"
        },
        "outputId": "abf02fea-8635-4d55-e57f-25f1934df004"
      },
      "source": [
        "a = np.array([3, 6, 2])\n",
        "np.tile(a, [6,9])"
      ],
      "execution_count": null,
      "outputs": [
        {
          "output_type": "execute_result",
          "data": {
            "text/plain": [
              "array([[3, 6, 2, 3, 6, 2, 3, 6, 2, 3, 6, 2, 3, 6, 2, 3, 6, 2, 3, 6, 2, 3,\n",
              "        6, 2, 3, 6, 2],\n",
              "       [3, 6, 2, 3, 6, 2, 3, 6, 2, 3, 6, 2, 3, 6, 2, 3, 6, 2, 3, 6, 2, 3,\n",
              "        6, 2, 3, 6, 2],\n",
              "       [3, 6, 2, 3, 6, 2, 3, 6, 2, 3, 6, 2, 3, 6, 2, 3, 6, 2, 3, 6, 2, 3,\n",
              "        6, 2, 3, 6, 2],\n",
              "       [3, 6, 2, 3, 6, 2, 3, 6, 2, 3, 6, 2, 3, 6, 2, 3, 6, 2, 3, 6, 2, 3,\n",
              "        6, 2, 3, 6, 2],\n",
              "       [3, 6, 2, 3, 6, 2, 3, 6, 2, 3, 6, 2, 3, 6, 2, 3, 6, 2, 3, 6, 2, 3,\n",
              "        6, 2, 3, 6, 2],\n",
              "       [3, 6, 2, 3, 6, 2, 3, 6, 2, 3, 6, 2, 3, 6, 2, 3, 6, 2, 3, 6, 2, 3,\n",
              "        6, 2, 3, 6, 2]])"
            ]
          },
          "metadata": {
            "tags": []
          },
          "execution_count": 30
        }
      ]
    },
    {
      "cell_type": "code",
      "metadata": {
        "id": "rgrjy3jIbJtO",
        "colab": {
          "base_uri": "https://localhost:8080/"
        },
        "outputId": "84f3ba93-6be5-4c3a-b5fc-e77ded340056"
      },
      "source": [
        "x = np.array([[[8,2], [6,4], [9,3]]])\n",
        "x.shape\n",
        "np.squeeze(x).shape"
      ],
      "execution_count": null,
      "outputs": [
        {
          "output_type": "execute_result",
          "data": {
            "text/plain": [
              "(3, 2)"
            ]
          },
          "metadata": {
            "tags": []
          },
          "execution_count": 29
        }
      ]
    },
    {
      "cell_type": "code",
      "metadata": {
        "id": "qWfLhBcObOkr",
        "colab": {
          "base_uri": "https://localhost:8080/"
        },
        "outputId": "1f793fa5-5310-49e7-aff1-6882e2740ae2"
      },
      "source": [
        "def integrate(f, a, b, N):\n",
        "    x = np.linspace(a, b, N)\n",
        "    fx = f(x)\n",
        "    area = np.sum(fx)*(b-a)/N\n",
        "    return area\n",
        "integrate(np.sin, 0, np.pi/2, 100)"
      ],
      "execution_count": null,
      "outputs": [
        {
          "output_type": "execute_result",
          "data": {
            "text/plain": [
              "0.9978332121772983"
            ]
          },
          "metadata": {
            "tags": []
          },
          "execution_count": 28
        }
      ]
    },
    {
      "cell_type": "markdown",
      "metadata": {
        "id": "r7rrRg11cfBk"
      },
      "source": [
        "**Exercise 8**"
      ]
    },
    {
      "cell_type": "markdown",
      "metadata": {
        "id": "8jCQ97Zjck58"
      },
      "source": [
        "**Program using pandas**"
      ]
    },
    {
      "cell_type": "code",
      "metadata": {
        "id": "J0Q3q1w4cjrU",
        "colab": {
          "base_uri": "https://localhost:8080/"
        },
        "outputId": "bfdb6428-0a1f-4ae1-c72d-d327bf2719f1"
      },
      "source": [
        "import pandas as pd\n",
        "ds = pd.Series([5, 10, 15, 20, 30])\n",
        "print(\"Pandas Series and type\")\n",
        "print(ds)\n",
        "print(type(ds))\n",
        "print(\"Convert Pandas Series to Python list\")\n",
        "print(ds.tolist())\n",
        "print(type(ds.tolist()))"
      ],
      "execution_count": null,
      "outputs": [
        {
          "output_type": "stream",
          "text": [
            "Pandas Series and type\n",
            "0     5\n",
            "1    10\n",
            "2    15\n",
            "3    20\n",
            "4    30\n",
            "dtype: int64\n",
            "<class 'pandas.core.series.Series'>\n",
            "Convert Pandas Series to Python list\n",
            "[5, 10, 15, 20, 30]\n",
            "<class 'list'>\n"
          ],
          "name": "stdout"
        }
      ]
    },
    {
      "cell_type": "markdown",
      "metadata": {
        "id": "VVC0C6oHefCO"
      },
      "source": [
        "**Program using matplotlib – use minimum 5 plotting techniques  **"
      ]
    },
    {
      "cell_type": "code",
      "metadata": {
        "id": "Cp00WABOc0Xn",
        "colab": {
          "base_uri": "https://localhost:8080/",
          "height": 265
        },
        "outputId": "3eaa9483-6208-42af-d7c6-b4dcc337371c"
      },
      "source": [
        "import matplotlib.pyplot as plt\n",
        "import numpy as np\n",
        "xpoints = np.array([7, 21])\n",
        "ypoints = np.array([5, 35])\n",
        "plt.plot(xpoints, ypoints)\n",
        "plt.show()"
      ],
      "execution_count": null,
      "outputs": [
        {
          "output_type": "display_data",
          "data": {
            "image/png": "[encoded data removed]",
            "text/plain": [
              "<Figure size 432x288 with 1 Axes>"
            ]
          },
          "metadata": {
            "tags": [],
            "needs_background": "light"
          }
        }
      ]
    },
    {
      "cell_type": "code",
      "metadata": {
        "id": "j4zhAs6lc7xe",
        "colab": {
          "base_uri": "https://localhost:8080/",
          "height": 112
        },
        "outputId": "fecf4539-0cfa-4f53-f184-c53f71894133"
      },
      "source": [
        "import matplotlib.pyplot as plt\n",
        "import numpy as np\n",
        "x = np.array([2, 4, 6, 8])\n",
        "y = np.array([3, 5, 9, 11])\n",
        "plt.subplot(2, 1, 1)\n",
        "plt.plot(x,y)\n",
        "x = np.array([0, 1, 9, 11])\n",
        "y = np.array([21, 32, 43, 54])\n",
        "plt.subplot(3, 2, 2)\n",
        "plt.plot(x,y)\n",
        "plt.show()"
      ],
      "execution_count": null,
      "outputs": [
        {
          "output_type": "display_data",
          "data": {
            "image/png": "[encoded data removed]",
            "text/plain": [
              "<Figure size 432x288 with 1 Axes>"
            ]
          },
          "metadata": {
            "tags": [],
            "needs_background": "light"
          }
        }
      ]
    },
    {
      "cell_type": "code",
      "metadata": {
        "id": "Dzra7i4WdNMP",
        "colab": {
          "base_uri": "https://localhost:8080/",
          "height": 265
        },
        "outputId": "20ab88d0-e719-4f14-8899-e528fd5c853b"
      },
      "source": [
        "import matplotlib.pyplot as plt\n",
        "import numpy as np\n",
        "x = np.array([18,23,45,94,43,19,20,9,14,16,22,46,39])\n",
        "y = np.array([11,22,69,94,209,56,43,77,69,98,27,45,66])\n",
        "plt.scatter(x, y)\n",
        "plt.show()"
      ],
      "execution_count": null,
      "outputs": [
        {
          "output_type": "display_data",
          "data": {
            "image/png": "[encoded data removed]",
            "text/plain": [
              "<Figure size 432x288 with 1 Axes>"
            ]
          },
          "metadata": {
            "tags": [],
            "needs_background": "light"
          }
        }
      ]
    },
    {
      "cell_type": "code",
      "metadata": {
        "id": "rvh_wE5kdhWk",
        "colab": {
          "base_uri": "https://localhost:8080/",
          "height": 266
        },
        "outputId": "6922c417-f4d8-4ca6-9bc6-f26c1dffd498"
      },
      "source": [
        "import matplotlib.pyplot as plt\n",
        "import numpy as np\n",
        "x = np.array([\"USA\", \"RUSSIA\", \"CANADA\", \"INDIA\"])\n",
        "y = np.array([29, 4, 16, 22])\n",
        "plt.bar(x,y)\n",
        "plt.show()"
      ],
      "execution_count": null,
      "outputs": [
        {
          "output_type": "display_data",
          "data": {
            "image/png": "[encoded data removed]",
            "text/plain": [
              "<Figure size 432x288 with 1 Axes>"
            ]
          },
          "metadata": {
            "tags": [],
            "needs_background": "light"
          }
        }
      ]
    },
    {
      "cell_type": "code",
      "metadata": {
        "id": "KZSIW6KNdsQ0",
        "colab": {
          "base_uri": "https://localhost:8080/",
          "height": 266
        },
        "outputId": "035ef0e0-9bcf-40a9-c244-f4768f09e0f4"
      },
      "source": [
        "import numpy as np\n",
        "import matplotlib.pyplot as plt\n",
        "x = np.random.normal(311, 209, 499)\n",
        "plt.hist(x)\n",
        "plt.show()"
      ],
      "execution_count": null,
      "outputs": [
        {
          "output_type": "display_data",
          "data": {
            "image/png": "[encoded data removed]",
            "text/plain": [
              "<Figure size 432x288 with 1 Axes>"
            ]
          },
          "metadata": {
            "tags": [],
            "needs_background": "light"
          }
        }
      ]
    },
    {
      "cell_type": "code",
      "metadata": {
        "id": "Irr35Q_vd0BV",
        "colab": {
          "base_uri": "https://localhost:8080/",
          "height": 264
        },
        "outputId": "caeb2636-00d1-47b6-95ba-30bea48a9e0f"
      },
      "source": [
        "import matplotlib.pyplot as plt\n",
        " \n",
        "days = [1,2,3,4,5]\n",
        " \n",
        "US =[10,5,4,6,7]\n",
        "INDIA = [5,6,4,7,6]\n",
        "FRANCE =[2,3,9,2,6]\n",
        "JAPAN = [3,9,7,1,11]\n",
        "slices = [25,23,13,39]\n",
        "countries = ['US','INDIA','FRANCE','JAPAN']\n",
        "cols = ['c','g','r','b']\n",
        " \n",
        "plt.pie(slices,\n",
        "  labels=countries,\n",
        "  colors=cols,\n",
        "  startangle=109,\n",
        "  shadow= True,\n",
        "  explode=(0,0.1,0,0),\n",
        "  autopct='%1.1f%%')\n",
        "\n",
        "plt.title('Pie Plot')\n",
        "plt.show()"
      ],
      "execution_count": null,
      "outputs": [
        {
          "output_type": "display_data",
          "data": {
            "image/png": "[encoded data removed]",
            "text/plain": [
              "<Figure size 432x288 with 1 Axes>"
            ]
          },
          "metadata": {
            "tags": []
          }
        }
      ]
    },
    {
      "cell_type": "markdown",
      "metadata": {
        "id": "yhb-PbDieSxI"
      },
      "source": [
        "**Exercise 9**"
      ]
    },
    {
      "cell_type": "markdown",
      "metadata": {
        "id": "kg0CboXQeqzj"
      },
      "source": [
        "**Graph using matplotlib**"
      ]
    },
    {
      "cell_type": "code",
      "metadata": {
        "id": "BZeR5QnbeuFC",
        "colab": {
          "base_uri": "https://localhost:8080/",
          "height": 295
        },
        "outputId": "4c9a0890-c2f9-45d1-9265-dc741ac3d570"
      },
      "source": [
        "import matplotlib.pyplot as plt\n",
        "x = [4,9,3]\n",
        "y = [4,0,1]\n",
        "plt.plot(x, y)\n",
        "plt.xlabel('x - axis')\n",
        "plt.ylabel('y - axis')\n",
        "plt.title('My first graph!')\n",
        "plt.show()\n"
      ],
      "execution_count": null,
      "outputs": [
        {
          "output_type": "display_data",
          "data": {
            "image/png": "[encoded data removed]",
            "text/plain": [
              "<Figure size 432x288 with 1 Axes>"
            ]
          },
          "metadata": {
            "tags": [],
            "needs_background": "light"
          }
        }
      ]
    },
    {
      "cell_type": "markdown",
      "metadata": {
        "id": "A81jfwpje9hg"
      },
      "source": [
        "**Exercise 10**"
      ]
    },
    {
      "cell_type": "markdown",
      "metadata": {
        "id": "Q_-Pe1S5fBRs"
      },
      "source": [
        "**Vector using matplotlib**"
      ]
    },
    {
      "cell_type": "markdown",
      "metadata": {
        "id": "-JstOXfW8MVT"
      },
      "source": [
        ""
      ]
    },
    {
      "cell_type": "code",
      "metadata": {
        "id": "FRD0qjAAfE7H",
        "colab": {
          "base_uri": "https://localhost:8080/",
          "height": 1000
        },
        "outputId": "dce7f59f-fbb1-4b60-f8e2-7a77c1594702"
      },
      "source": [
        "import numpy as np\n",
        "import matplotlib.pyplot as plt\n",
        "M = np.array([[2,1],[-3,2],[5,-9]])\n",
        "\n",
        "print(\"vector:1\")\n",
        "print(M[0,:])\n",
        "rows,cols = M.T.shape\n",
        "print(cols)\n",
        "\n",
        "for i,l in enumerate(range(0,cols)):\n",
        "    print(\"Iteration: {}-{}\".format(i,l))\n",
        "    print(\"vector:{}\".format(i))\n",
        "    print(M[i,:])\n",
        "    v1 = [0,0],[M[i,0],M[i,1]]\n",
        "    print(v1)\n",
        "    plt.figure(i)\n",
        "    plt.plot(v1)\n",
        "    plt.show()"
      ],
      "execution_count": null,
      "outputs": [
        {
          "output_type": "stream",
          "text": [
            "vector:1\n",
            "[2 1]\n",
            "3\n",
            "Iteration: 0-0\n",
            "vector:0\n",
            "[2 1]\n",
            "([0, 0], [2, 1])\n"
          ],
          "name": "stdout"
        },
        {
          "output_type": "display_data",
          "data": {
            "image/png": "[encoded data removed]",
            "text/plain": [
              "<Figure size 432x288 with 1 Axes>"
            ]
          },
          "metadata": {
            "tags": [],
            "needs_background": "light"
          }
        },
        {
          "output_type": "stream",
          "text": [
            "Iteration: 1-1\n",
            "vector:1\n",
            "[-3  2]\n",
            "([0, 0], [-3, 2])\n"
          ],
          "name": "stdout"
        },
        {
          "output_type": "display_data",
          "data": {
            "image/png": "[encoded data removed]",
            "text/plain": [
              "<Figure size 432x288 with 1 Axes>"
            ]
          },
          "metadata": {
            "tags": [],
            "needs_background": "light"
          }
        },
        {
          "output_type": "stream",
          "text": [
            "Iteration: 2-2\n",
            "vector:2\n",
            "[ 5 -9]\n",
            "([0, 0], [5, -9])\n"
          ],
          "name": "stdout"
        },
        {
          "output_type": "display_data",
          "data": {
            "image/png": "[encoded data removed]",
            "text/plain": [
              "<Figure size 432x288 with 1 Axes>"
            ]
          },
          "metadata": {
            "tags": [],
            "needs_background": "light"
          }
        }
      ]
    }
  ]
}